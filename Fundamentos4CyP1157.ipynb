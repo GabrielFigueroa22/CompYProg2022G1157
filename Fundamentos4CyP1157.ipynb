{
  "nbformat": 4,
  "nbformat_minor": 0,
  "metadata": {
    "colab": {
      "name": "Fundamentos4CyP1157.ipynb",
      "provenance": [],
      "authorship_tag": "ABX9TyOdzm/TYZrLmmlPzQRpEyl1",
      "include_colab_link": true
    },
    "kernelspec": {
      "name": "python3",
      "display_name": "Python 3"
    },
    "language_info": {
      "name": "python"
    }
  },
  "cells": [
    {
      "cell_type": "markdown",
      "metadata": {
        "id": "view-in-github",
        "colab_type": "text"
      },
      "source": [
        "<a href=\"https://colab.research.google.com/github/GabrielFigueroa22/CompYProg2022G1157/blob/main/Fundamentos4CyP1157.ipynb\" target=\"_parent\"><img src=\"https://colab.research.google.com/assets/colab-badge.svg\" alt=\"Open In Colab\"/></a>"
      ]
    },
    {
      "cell_type": "markdown",
      "metadata": {
        "id": "GZ3LcuYVVK9V"
      },
      "source": [
        "Una funcion es una unidad de codigo reutilizable, ademas de ser un mecanismo para organizar codigo\n",
        "\n",
        "la gran ventaja de emplear funciones es simplificar la programacion.\n",
        "\n",
        "### Estructura\n",
        "Una funcion puede tomar cualquier cantida de parametros de entrada (de cualquier tipo) y retornar unicamente un solo valor.\n",
        "Un parametro de entrada es un valor que recibe una funcion para realizar sus operaciones.\n",
        "\n",
        "Con una funcion se pueden hacer 2 cosas:     \n",
        "1. Definirlas\n",
        "2. Invocarlas (ejecutarla)\n",
        "\n",
        "La gran ventaja de tener una funcion declarada es que la podemos utilizar cuando se desee.\n"
      ]
    },
    {
      "cell_type": "markdown",
      "metadata": {
        "id": "vn_uXRZ9UHZW"
      },
      "source": [
        "# Modularidad (Funciones) \n",
        "\n",
        "*Imagen*"
      ]
    },
    {
      "cell_type": "code",
      "metadata": {
        "id": "L-H16I4bUEdX"
      },
      "source": [
        "def sumar( op1 , op2 ):\n",
        "    res = op1 + op2\n",
        "    return res"
      ],
      "execution_count": null,
      "outputs": []
    },
    {
      "cell_type": "code",
      "metadata": {
        "colab": {
          "base_uri": "https://localhost:8080/"
        },
        "id": "XbYUxDryYD_4",
        "outputId": "c6eb5304-b1e1-4fbc-91fc-5627783660ee"
      },
      "source": [
        "res = sumar( 2, 5)\n",
        "print(res)\n",
        "res = sumar( 33, 22)\n",
        "print(res)"
      ],
      "execution_count": null,
      "outputs": [
        {
          "output_type": "stream",
          "name": "stdout",
          "text": [
            "7\n",
            "55\n"
          ]
        }
      ]
    },
    {
      "cell_type": "code",
      "metadata": {
        "colab": {
          "base_uri": "https://localhost:8080/"
        },
        "id": "KXsVH4N9aSwo",
        "outputId": "008a7883-d23e-4e9a-af01-3a045535dddb"
      },
      "source": [
        "print(\"Hola\",\"Jesus\",sep=\"-\")"
      ],
      "execution_count": null,
      "outputs": [
        {
          "output_type": "stream",
          "name": "stdout",
          "text": [
            "Hola-Jesus\n"
          ]
        }
      ]
    },
    {
      "cell_type": "code",
      "metadata": {
        "colab": {
          "base_uri": "https://localhost:8080/"
        },
        "id": "INrVO9lWabRH",
        "outputId": "ec9cfd2c-1a8a-47d7-e61c-d2f8135c623b"
      },
      "source": [
        "def imprime_cuadro():\n",
        "    print(\"********\")\n",
        "    print(\"********\")\n",
        "    print(\"********\")\n",
        "    print(\"********\")\n",
        "    #retunr None\n",
        "imprime_cuadro()"
      ],
      "execution_count": null,
      "outputs": [
        {
          "output_type": "stream",
          "name": "stdout",
          "text": [
            "********\n",
            "********\n",
            "********\n",
            "********\n"
          ]
        }
      ]
    },
    {
      "cell_type": "markdown",
      "metadata": {
        "id": "SgjeW3jba6tk"
      },
      "source": [
        "# Valor de retorno de una funcion\n",
        "\n",
        "Regla de oro.- Una funcion siempre retorna un solo VALOR, inclusive si ese valor es el vacio."
      ]
    },
    {
      "cell_type": "code",
      "metadata": {
        "colab": {
          "base_uri": "https://localhost:8080/"
        },
        "id": "5t5v1NbsbLIr",
        "outputId": "bf58258f-9db4-48a3-f7b2-a245dd0e2dc3"
      },
      "source": [
        "# invocar sumar\n",
        "res = sumar( 7, 8)\n",
        "print(res)\n",
        "# invocar la funcion pintar cuadro\n",
        "res = imprime_cuadro()\n",
        "print(res)\n"
      ],
      "execution_count": null,
      "outputs": [
        {
          "output_type": "stream",
          "name": "stdout",
          "text": [
            "15\n",
            "********\n",
            "********\n",
            "********\n",
            "********\n",
            "None\n"
          ]
        }
      ]
    },
    {
      "cell_type": "markdown",
      "metadata": {
        "id": "o05zPxizdIvR"
      },
      "source": [
        "# La palabra reservada None de Python\n",
        "esta palabra reservada significa vacio, equivalente a la palabra reservada void del lenguaje C, C++ y Java.\n",
        "\n",
        "Se usa para indicar ya sea un return vacio o que se recibe como parametro un vacio."
      ]
    },
    {
      "cell_type": "code",
      "metadata": {
        "id": "DUI_cExjdIVA"
      },
      "source": [
        "def multiplicar( valor , veces):\n",
        "    c = valor * veces\n",
        "    return c"
      ],
      "execution_count": null,
      "outputs": []
    },
    {
      "cell_type": "code",
      "metadata": {
        "colab": {
          "base_uri": "https://localhost:8080/"
        },
        "id": "5XFIkBIMeM_C",
        "outputId": "c375d43b-2500-4974-82d5-ad082db4d5b3"
      },
      "source": [
        "res = multiplicar( 5, 5)\n",
        "print(res)"
      ],
      "execution_count": null,
      "outputs": [
        {
          "output_type": "stream",
          "name": "stdout",
          "text": [
            "25\n"
          ]
        }
      ]
    },
    {
      "cell_type": "code",
      "metadata": {
        "id": "TcMrPyGWeuq3"
      },
      "source": [
        "def multiplicar( valor , veces):\n",
        "    if valor == None:\n",
        "        c = -1\n",
        "    else:\n",
        "        c = valor * veces\n",
        "    return c"
      ],
      "execution_count": null,
      "outputs": []
    },
    {
      "cell_type": "code",
      "metadata": {
        "colab": {
          "base_uri": "https://localhost:8080/"
        },
        "id": "MU7pTbJMe94k",
        "outputId": "defbc1ad-56fe-4f72-8fc7-f94535cf5182"
      },
      "source": [
        "res = multiplicar( None, 5)\n",
        "print(res)"
      ],
      "execution_count": null,
      "outputs": [
        {
          "output_type": "stream",
          "name": "stdout",
          "text": [
            "-1\n"
          ]
        }
      ]
    },
    {
      "cell_type": "markdown",
      "metadata": {
        "id": "ftSOgVagfhHy"
      },
      "source": [
        "# Parametros y argumentos.\n",
        "Son conceptos relacionados y su diferencia esta centrada en el momento que se emplea en ua funcion.\n",
        "\n",
        "Es decir, en la funcion sumar de arriba cuando se declara se le llama parametro y cuando se invoca se le llama argumento."
      ]
    },
    {
      "cell_type": "markdown",
      "metadata": {
        "id": "SV1MlPktfavT"
      },
      "source": [
        "# Argumentos posicionales\n",
        "En Python es posible determinar a que parametros estan dirigidos los argumentos segun su posicion."
      ]
    },
    {
      "cell_type": "code",
      "metadata": {
        "id": "_HvbbWuAgp32"
      },
      "source": [
        "def dividir( op1, op2):\n",
        "    c = op1 / op2\n",
        "    return c"
      ],
      "execution_count": null,
      "outputs": []
    },
    {
      "cell_type": "code",
      "metadata": {
        "colab": {
          "base_uri": "https://localhost:8080/"
        },
        "id": "Ca69t0zKg28S",
        "outputId": "591c04ae-c465-47df-d558-8cc005633e3c"
      },
      "source": [
        "num1 = 25\n",
        "num2 = 5\n",
        "res = dividir(num1,num2)\n",
        "print(res)\n",
        "res = dividir(num2,num1)\n",
        "print(res)"
      ],
      "execution_count": null,
      "outputs": [
        {
          "output_type": "stream",
          "name": "stdout",
          "text": [
            "5.0\n",
            "0.2\n"
          ]
        }
      ]
    },
    {
      "cell_type": "markdown",
      "metadata": {
        "id": "vV0c6fVEhZxq"
      },
      "source": [
        "# Argumentos con palabras clave (keywords)\n",
        "\n",
        "Es la poaibilidad de indicarle a la funcion en tiempo de ejecucion a que parametro va dirigido un argumento de entrada.\n"
      ]
    },
    {
      "cell_type": "code",
      "metadata": {
        "colab": {
          "base_uri": "https://localhost:8080/"
        },
        "id": "8MZwLuH_hrNJ",
        "outputId": "f77b0ef3-4b74-41fa-ed67-fe44c5d976bf"
      },
      "source": [
        "res = dividir(op2=num2,op1=num1)\n",
        "print(res)"
      ],
      "execution_count": null,
      "outputs": [
        {
          "output_type": "stream",
          "name": "stdout",
          "text": [
            "5.0\n"
          ]
        }
      ]
    },
    {
      "cell_type": "code",
      "metadata": {
        "id": "PcMOA9DUiT3r"
      },
      "source": [
        "def letra_G( caracter ):\n",
        "    print(f\"   {caracter}\")\n",
        "    print(f\"   {caracter}\")\n",
        "    print(f\"   {caracter}\")\n",
        "    print(f\"   {caracter}\")\n",
        "    print(f\"   {caracter}\")\n",
        "    print(f\"   {caracter}{caracter}{caracter}{caracter}\")"
      ],
      "execution_count": null,
      "outputs": []
    },
    {
      "cell_type": "code",
      "metadata": {
        "colab": {
          "base_uri": "https://localhost:8080/"
        },
        "id": "3Ka4Brqcit75",
        "outputId": "f7dc15cf-0ecb-4d9e-cdfe-ae40784f2fef"
      },
      "source": [
        "letra_G('G')"
      ],
      "execution_count": null,
      "outputs": [
        {
          "output_type": "stream",
          "name": "stdout",
          "text": [
            "   G\n",
            "   G\n",
            "   G\n",
            "   G\n",
            "   G\n",
            "   GGGG\n"
          ]
        }
      ]
    }
  ]
}