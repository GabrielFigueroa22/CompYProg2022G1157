{
  "nbformat": 4,
  "nbformat_minor": 0,
  "metadata": {
    "colab": {
      "name": "Fundamentos4CyP1157.ipynb",
      "provenance": [],
      "collapsed_sections": [],
      "authorship_tag": "ABX9TyP4Ga+gztaqa38pRgPeoc5V",
      "include_colab_link": true
    },
    "kernelspec": {
      "name": "python3",
      "display_name": "Python 3"
    },
    "language_info": {
      "name": "python"
    }
  },
  "cells": [
    {
      "cell_type": "markdown",
      "metadata": {
        "id": "view-in-github",
        "colab_type": "text"
      },
      "source": [
        "<a href=\"https://colab.research.google.com/github/GabrielFigueroa22/CompYProg2022G1157/blob/main/Fundamentos4CyP1157.ipynb\" target=\"_parent\"><img src=\"https://colab.research.google.com/assets/colab-badge.svg\" alt=\"Open In Colab\"/></a>"
      ]
    },
    {
      "cell_type": "markdown",
      "metadata": {
        "id": "GZ3LcuYVVK9V"
      },
      "source": [
        "Una funcion es una unidad de codigo reutilizable, ademas de ser un mecanismo para organizar codigo\n",
        "\n",
        "la gran ventaja de emplear funciones es simplificar la programacion.\n",
        "\n",
        "### Estructura\n",
        "Una funcion puede tomar cualquier cantida de parametros de entrada (de cualquier tipo) y retornar unicamente un solo valor.\n",
        "Un parametro de entrada es un valor que recibe una funcion para realizar sus operaciones.\n",
        "\n",
        "Con una funcion se pueden hacer 2 cosas:     \n",
        "1. Definirlas\n",
        "2. Invocarlas (ejecutarla)\n",
        "\n",
        "La gran ventaja de tener una funcion declarada es que la podemos utilizar cuando se desee.\n"
      ]
    },
    {
      "cell_type": "markdown",
      "metadata": {
        "id": "vn_uXRZ9UHZW"
      },
      "source": [
        "# Modularidad (Funciones) \n",
        "\n",
        "*Imagen*"
      ]
    },
    {
      "cell_type": "code",
      "metadata": {
        "id": "L-H16I4bUEdX"
      },
      "source": [
        "def sumar( op1 , op2 ):\n",
        "    res = op1 + op2\n",
        "    return res"
      ],
      "execution_count": null,
      "outputs": []
    },
    {
      "cell_type": "code",
      "metadata": {
        "colab": {
          "base_uri": "https://localhost:8080/"
        },
        "id": "XbYUxDryYD_4",
        "outputId": "c6eb5304-b1e1-4fbc-91fc-5627783660ee"
      },
      "source": [
        "res = sumar( 2, 5)\n",
        "print(res)\n",
        "res = sumar( 33, 22)\n",
        "print(res)"
      ],
      "execution_count": null,
      "outputs": [
        {
          "output_type": "stream",
          "name": "stdout",
          "text": [
            "7\n",
            "55\n"
          ]
        }
      ]
    },
    {
      "cell_type": "code",
      "metadata": {
        "colab": {
          "base_uri": "https://localhost:8080/"
        },
        "id": "KXsVH4N9aSwo",
        "outputId": "008a7883-d23e-4e9a-af01-3a045535dddb"
      },
      "source": [
        "print(\"Hola\",\"Jesus\",sep=\"-\")"
      ],
      "execution_count": null,
      "outputs": [
        {
          "output_type": "stream",
          "name": "stdout",
          "text": [
            "Hola-Jesus\n"
          ]
        }
      ]
    },
    {
      "cell_type": "code",
      "metadata": {
        "colab": {
          "base_uri": "https://localhost:8080/"
        },
        "id": "INrVO9lWabRH",
        "outputId": "ec9cfd2c-1a8a-47d7-e61c-d2f8135c623b"
      },
      "source": [
        "def imprime_cuadro():\n",
        "    print(\"********\")\n",
        "    print(\"********\")\n",
        "    print(\"********\")\n",
        "    print(\"********\")\n",
        "    #retunr None\n",
        "imprime_cuadro()"
      ],
      "execution_count": null,
      "outputs": [
        {
          "output_type": "stream",
          "name": "stdout",
          "text": [
            "********\n",
            "********\n",
            "********\n",
            "********\n"
          ]
        }
      ]
    },
    {
      "cell_type": "markdown",
      "metadata": {
        "id": "SgjeW3jba6tk"
      },
      "source": [
        "# Valor de retorno de una funcion\n",
        "\n",
        "Regla de oro.- Una funcion siempre retorna un solo VALOR, inclusive si ese valor es el vacio."
      ]
    },
    {
      "cell_type": "code",
      "metadata": {
        "colab": {
          "base_uri": "https://localhost:8080/"
        },
        "id": "5t5v1NbsbLIr",
        "outputId": "bf58258f-9db4-48a3-f7b2-a245dd0e2dc3"
      },
      "source": [
        "# invocar sumar\n",
        "res = sumar( 7, 8)\n",
        "print(res)\n",
        "# invocar la funcion pintar cuadro\n",
        "res = imprime_cuadro()\n",
        "print(res)\n"
      ],
      "execution_count": null,
      "outputs": [
        {
          "output_type": "stream",
          "name": "stdout",
          "text": [
            "15\n",
            "********\n",
            "********\n",
            "********\n",
            "********\n",
            "None\n"
          ]
        }
      ]
    },
    {
      "cell_type": "markdown",
      "metadata": {
        "id": "o05zPxizdIvR"
      },
      "source": [
        "# La palabra reservada None de Python\n",
        "esta palabra reservada significa vacio, equivalente a la palabra reservada void del lenguaje C, C++ y Java.\n",
        "\n",
        "Se usa para indicar ya sea un return vacio o que se recibe como parametro un vacio."
      ]
    },
    {
      "cell_type": "code",
      "metadata": {
        "id": "DUI_cExjdIVA"
      },
      "source": [
        "def multiplicar( valor , veces):\n",
        "    c = valor * veces\n",
        "    return c"
      ],
      "execution_count": null,
      "outputs": []
    },
    {
      "cell_type": "code",
      "metadata": {
        "colab": {
          "base_uri": "https://localhost:8080/"
        },
        "id": "5XFIkBIMeM_C",
        "outputId": "c375d43b-2500-4974-82d5-ad082db4d5b3"
      },
      "source": [
        "res = multiplicar( 5, 5)\n",
        "print(res)"
      ],
      "execution_count": null,
      "outputs": [
        {
          "output_type": "stream",
          "name": "stdout",
          "text": [
            "25\n"
          ]
        }
      ]
    },
    {
      "cell_type": "code",
      "metadata": {
        "id": "TcMrPyGWeuq3"
      },
      "source": [
        "def multiplicar( valor , veces):\n",
        "    if valor == None:\n",
        "        c = -1\n",
        "    else:\n",
        "        c = valor * veces\n",
        "    return c"
      ],
      "execution_count": null,
      "outputs": []
    },
    {
      "cell_type": "code",
      "metadata": {
        "colab": {
          "base_uri": "https://localhost:8080/"
        },
        "id": "MU7pTbJMe94k",
        "outputId": "defbc1ad-56fe-4f72-8fc7-f94535cf5182"
      },
      "source": [
        "res = multiplicar( None, 5)\n",
        "print(res)"
      ],
      "execution_count": null,
      "outputs": [
        {
          "output_type": "stream",
          "name": "stdout",
          "text": [
            "-1\n"
          ]
        }
      ]
    },
    {
      "cell_type": "markdown",
      "metadata": {
        "id": "ftSOgVagfhHy"
      },
      "source": [
        "# Parametros y argumentos.\n",
        "Son conceptos relacionados y su diferencia esta centrada en el momento que se emplea en ua funcion.\n",
        "\n",
        "Es decir, en la funcion sumar de arriba cuando se declara se le llama parametro y cuando se invoca se le llama argumento."
      ]
    },
    {
      "cell_type": "markdown",
      "metadata": {
        "id": "SV1MlPktfavT"
      },
      "source": [
        "# Argumentos posicionales\n",
        "En Python es posible determinar a que parametros estan dirigidos los argumentos segun su posicion."
      ]
    },
    {
      "cell_type": "code",
      "metadata": {
        "id": "_HvbbWuAgp32"
      },
      "source": [
        "def dividir( op1, op2):\n",
        "    c = op1 / op2\n",
        "    return c"
      ],
      "execution_count": null,
      "outputs": []
    },
    {
      "cell_type": "code",
      "metadata": {
        "colab": {
          "base_uri": "https://localhost:8080/"
        },
        "id": "Ca69t0zKg28S",
        "outputId": "591c04ae-c465-47df-d558-8cc005633e3c"
      },
      "source": [
        "num1 = 25\n",
        "num2 = 5\n",
        "res = dividir(num1,num2)\n",
        "print(res)\n",
        "res = dividir(num2,num1)\n",
        "print(res)"
      ],
      "execution_count": null,
      "outputs": [
        {
          "output_type": "stream",
          "name": "stdout",
          "text": [
            "5.0\n",
            "0.2\n"
          ]
        }
      ]
    },
    {
      "cell_type": "markdown",
      "metadata": {
        "id": "vV0c6fVEhZxq"
      },
      "source": [
        "# Argumentos con palabras clave (keywords)\n",
        "\n",
        "Es la poaibilidad de indicarle a la funcion en tiempo de ejecucion a que parametro va dirigido un argumento de entrada.\n",
        "solo disponible en phyton"
      ]
    },
    {
      "cell_type": "code",
      "metadata": {
        "colab": {
          "base_uri": "https://localhost:8080/"
        },
        "id": "8MZwLuH_hrNJ",
        "outputId": "f77b0ef3-4b74-41fa-ed67-fe44c5d976bf"
      },
      "source": [
        "res = dividir(op2=num2,op1=num1)\n",
        "print(res)"
      ],
      "execution_count": null,
      "outputs": [
        {
          "output_type": "stream",
          "name": "stdout",
          "text": [
            "5.0\n"
          ]
        }
      ]
    },
    {
      "cell_type": "code",
      "metadata": {
        "id": "PcMOA9DUiT3r"
      },
      "source": [
        "def letra_G( caracter ):\n",
        "    print(f\"   {caracter}\")\n",
        "    print(f\"   {caracter}\")\n",
        "    print(f\"   {caracter}\")\n",
        "    print(f\"   {caracter}\")\n",
        "    print(f\"   {caracter}\")\n",
        "    print(f\"{caracter}{caracter}{caracter}{caracter}\")"
      ],
      "execution_count": null,
      "outputs": []
    },
    {
      "cell_type": "code",
      "metadata": {
        "colab": {
          "base_uri": "https://localhost:8080/"
        },
        "id": "3Ka4Brqcit75",
        "outputId": "93394a71-d6e1-4f9c-abf8-d9f48e25db93"
      },
      "source": [
        "letra_G('G')"
      ],
      "execution_count": null,
      "outputs": [
        {
          "output_type": "stream",
          "name": "stdout",
          "text": [
            "   G\n",
            "   G\n",
            "   G\n",
            "   G\n",
            "   G\n",
            "GGGG\n"
          ]
        }
      ]
    },
    {
      "cell_type": "markdown",
      "source": [
        "# Argumento por defecto\n",
        "\n",
        "Es la capacidad de las funciones de establecer un valor por defecto (default).\n",
        "\n",
        "Es decir, si no sde envia un argumento a  dicho parametro, entonces se asigna el que el programador asigno como default"
      ],
      "metadata": {
        "id": "dGqL0LhC-Doa"
      }
    },
    {
      "cell_type": "code",
      "source": [
        "def dividir( op1 , op2=2):\n",
        "    c = op1/op2\n",
        "    return c\n",
        "\n",
        "print( dividir( 25 ) )"
      ],
      "metadata": {
        "colab": {
          "base_uri": "https://localhost:8080/"
        },
        "id": "alqjSIK_-cFf",
        "outputId": "5a4321ec-4c05-4e10-eb76-db6314d35a05"
      },
      "execution_count": null,
      "outputs": [
        {
          "output_type": "stream",
          "name": "stdout",
          "text": [
            "12.5\n"
          ]
        }
      ]
    },
    {
      "cell_type": "markdown",
      "source": [
        "Este concepto se puede ejemplificar con la funcion **print**"
      ],
      "metadata": {
        "id": "109WSW_H_EF9"
      }
    },
    {
      "cell_type": "code",
      "source": [
        "help(print)"
      ],
      "metadata": {
        "colab": {
          "base_uri": "https://localhost:8080/"
        },
        "id": "W3FCt2t-_M8o",
        "outputId": "55702da6-7b42-48e9-e834-700dd5cea699"
      },
      "execution_count": null,
      "outputs": [
        {
          "output_type": "stream",
          "name": "stdout",
          "text": [
            "Help on built-in function print in module builtins:\n",
            "\n",
            "print(...)\n",
            "    print(value, ..., sep=' ', end='\\n', file=sys.stdout, flush=False)\n",
            "    \n",
            "    Prints the values to a stream, or to sys.stdout by default.\n",
            "    Optional keyword arguments:\n",
            "    file:  a file-like object (stream); defaults to the current sys.stdout.\n",
            "    sep:   string inserted between values, default a space.\n",
            "    end:   string appended after the last value, default a newline.\n",
            "    flush: whether to forcibly flush the stream.\n",
            "\n"
          ]
        }
      ]
    },
    {
      "cell_type": "code",
      "source": [
        "nombre = \"Jose\"\n",
        "edad = 18\n",
        "print(nombre,edad)\n",
        "print(\"Hola\", end = \" \")\n",
        "print(\"------\")"
      ],
      "metadata": {
        "colab": {
          "base_uri": "https://localhost:8080/"
        },
        "id": "S5COKQGE_ng8",
        "outputId": "9be75655-2272-49de-daea-dff6f96288da"
      },
      "execution_count": null,
      "outputs": [
        {
          "output_type": "stream",
          "name": "stdout",
          "text": [
            "Jose 18\n",
            "Hola ------\n"
          ]
        }
      ]
    },
    {
      "cell_type": "markdown",
      "source": [
        "# Argumentos posicionales"
      ],
      "metadata": {
        "id": "_D6NhzCEAh1B"
      }
    },
    {
      "cell_type": "code",
      "source": [
        "def comanda(comensal=1,primer=\"Consome\",segundo=\"Arroz rojo\", tercero=\"Enchiladas\"):\n",
        "    print(f\"El comensal {comensal} quiere: \")\n",
        "    print(\"\\t Entrada: \",primer)\n",
        "    print(\"\\t Medio: \",segundo)\n",
        "    print(\"\\t Plato fuerte: \",tercero)\n",
        "\n",
        "comanda()\n",
        "\n",
        "comanda(3, \"Ensalada\",\"Arroz blanco\",\"Esparragos al horno\")\n",
        "comanda(\"Arroz blanco\",\"Esparragos al horno\",\"Ensalada\",3)\n",
        "comanda(segundo=\"Arroz blanco\",tercero=\"Esparragos al horno\",primer=\"Ensalada\",comensal=3)"
      ],
      "metadata": {
        "colab": {
          "base_uri": "https://localhost:8080/"
        },
        "id": "E7zWS7YxBC_y",
        "outputId": "986fb071-d4bc-49bc-969f-a1a90b816014"
      },
      "execution_count": null,
      "outputs": [
        {
          "output_type": "stream",
          "name": "stdout",
          "text": [
            "El comensal 1 quiere: \n",
            "\t Entrada:  Consome\n",
            "\t Medio:  Arroz rojo\n",
            "\t Plato fuerte:  Enchiladas\n",
            "El comensal 3 quiere: \n",
            "\t Entrada:  Ensalada\n",
            "\t Medio:  Arroz blanco\n",
            "\t Plato fuerte:  Esparragos al horno\n",
            "El comensal Arroz blanco quiere: \n",
            "\t Entrada:  Esparragos al horno\n",
            "\t Medio:  Ensalada\n",
            "\t Plato fuerte:  3\n",
            "El comensal 3 quiere: \n",
            "\t Entrada:  Ensalada\n",
            "\t Medio:  Arroz blanco\n",
            "\t Plato fuerte:  Esparragos al horno\n"
          ]
        }
      ]
    },
    {
      "cell_type": "markdown",
      "source": [
        "# Argumentos enviados en grupo en una tupla.\n",
        "Esto sirve para enviar multiples argumentos a una funcion empleando el comodin \"*\".\n",
        "\n",
        "```\n",
        "def mifun( *args ):    \n",
        "    -cuerpo de la funcion-\n",
        "```"
      ],
      "metadata": {
        "id": "c4d3GQD1DpDp"
      }
    },
    {
      "cell_type": "code",
      "source": [
        "def comanda2( *opciones ):\n",
        "    print( opciones )\n",
        "    print(f\"El comensal {opciones[0]} pidio: \")\n",
        "    print(\"\\t Entrada: \", opciones[1])\n",
        "    print(\"\\t Segundo: \", opciones[2])\n",
        "    print(\"\\t Plato fuerte: \", opciones[3])\n",
        "    for instruccion in opciones[4::]:\n",
        "        print(\"\\n\",instruccion)\n",
        "\n",
        "comanda2(1,\"Sopa de fideo\",\"Arroz\",\"Arrachera\",\"Indicaciones extra:\",\"La Arrachera que aun diga muu\", \"Postre: Gelatina\")"
      ],
      "metadata": {
        "colab": {
          "base_uri": "https://localhost:8080/"
        },
        "id": "zLh5rnyZETm5",
        "outputId": "813a50bc-a1bd-4880-ceb6-2c658166e73d"
      },
      "execution_count": null,
      "outputs": [
        {
          "output_type": "stream",
          "name": "stdout",
          "text": [
            "(1, 'Sopa de fideo', 'Arroz', 'Arrachera', 'Indicaciones extra:', 'La Arrachera que aun diga muu', 'Postre: Gelatina')\n",
            "El comensal 1 pidio: \n",
            "\t Entrada:  Sopa de fideo\n",
            "\t Segundo:  Arroz\n",
            "\t Plato fuerte:  Arrachera\n",
            "\n",
            " Indicaciones extra:\n",
            "\n",
            " La Arrachera que aun diga muu\n",
            "\n",
            " Postre: Gelatina\n"
          ]
        }
      ]
    },
    {
      "cell_type": "markdown",
      "source": [
        "# Argumentos enviados en grupo en un diccionario.\n",
        "Es el mismo concepto que el anterior pero se usa el comodin ** y se mapea un diccionario"
      ],
      "metadata": {
        "id": "Xi24gFYiG2PV"
      }
    },
    {
      "cell_type": "code",
      "source": [
        "def comanda3( **opciones ):\n",
        "    ops = opciones.keys()\n",
        "    print(ops)\n",
        "    for key in ops:\n",
        "        print(f\"{key} = {opciones[key]} \")\n",
        "    print(opciones)\n",
        "    print(f\"El comensal {opciones['comensal']} pidio: \")\n",
        "    print(\"\\t Entrada: \", {opciones['segundo']})\n",
        "    print(\"\\t Segundo: \", {opciones['tercero']})\n",
        "    print(\"\\t Plato fuerte: \", {opciones['primer']})\n",
        "comanda3(segundo=\"Arroz blanco\",tercero=\"Esparragos al horno\",primer=\"Ensalada\",comensal=3)\n"
      ],
      "metadata": {
        "colab": {
          "base_uri": "https://localhost:8080/"
        },
        "id": "HMCxWDZ6HFXn",
        "outputId": "19d6b7c8-f7da-45cc-b917-99c614c7ebe5"
      },
      "execution_count": null,
      "outputs": [
        {
          "output_type": "stream",
          "name": "stdout",
          "text": [
            "dict_keys(['segundo', 'tercero', 'primer', 'comensal'])\n",
            "segundo = Arroz blanco \n",
            "tercero = Esparragos al horno \n",
            "primer = Ensalada \n",
            "comensal = 3 \n",
            "{'segundo': 'Arroz blanco', 'tercero': 'Esparragos al horno', 'primer': 'Ensalada', 'comensal': 3}\n",
            "El comensal 3 pidio: \n",
            "\t Entrada:  {'Arroz blanco'}\n",
            "\t Segundo:  {'Esparragos al horno'}\n",
            "\t Plato fuerte:  {'Ensalada'}\n"
          ]
        }
      ]
    },
    {
      "cell_type": "code",
      "source": [
        "#Modularidad y bibliotecas.\n",
        "print(\"Todos los lenguajes de programacion tienen la capacidad de compartir codigo entre la comunidad de programadores.\")\n",
        "\n",
        "print(\"Para ello cada lenguaje establece un mecanismo para escribir y compartir bibliotecas.\")\n"
      ],
      "metadata": {
        "colab": {
          "base_uri": "https://localhost:8080/"
        },
        "id": "Ea8CEF32JsRB",
        "outputId": "5d125638-7022-4ce4-d3fb-c651a510c60a"
      },
      "execution_count": null,
      "outputs": [
        {
          "output_type": "stream",
          "name": "stdout",
          "text": [
            "Todos los lenguajes de programacion tienen la capacidad de compartir codigo entre la comunidad de programadores.\n",
            "Para ello cada lenguaje establece un mecanismo para escribir y compartir bibliotecas.\n"
          ]
        }
      ]
    },
    {
      "cell_type": "code",
      "source": [
        "print(\"Hola en color amarillo\")"
      ],
      "metadata": {
        "colab": {
          "base_uri": "https://localhost:8080/"
        },
        "id": "Jbv-Q4zTKtWz",
        "outputId": "31ebfdb5-7d70-4146-8af0-6c74325c9f42"
      },
      "execution_count": null,
      "outputs": [
        {
          "output_type": "stream",
          "name": "stdout",
          "text": [
            "Hola en color amarillo\n"
          ]
        }
      ]
    },
    {
      "cell_type": "code",
      "source": [
        "pip install simple_chalk"
      ],
      "metadata": {
        "colab": {
          "base_uri": "https://localhost:8080/"
        },
        "id": "PRPcMyZzLJuM",
        "outputId": "d2ac0df6-9d04-4c93-cb14-8201d096893b"
      },
      "execution_count": null,
      "outputs": [
        {
          "output_type": "stream",
          "name": "stdout",
          "text": [
            "Requirement already satisfied: simple_chalk in /usr/local/lib/python3.7/dist-packages (0.1.0)\n"
          ]
        }
      ]
    },
    {
      "cell_type": "code",
      "source": [
        "from simple_chalk import chalk, yellow\n",
        "\n",
        "print(chalk.yellow(\"Hola en color amarillo\"))"
      ],
      "metadata": {
        "colab": {
          "base_uri": "https://localhost:8080/"
        },
        "id": "N0cOsDTnLRzn",
        "outputId": "c6b4ef43-ed42-4b04-b8e9-6f7d40d4c374"
      },
      "execution_count": null,
      "outputs": [
        {
          "output_type": "stream",
          "name": "stdout",
          "text": [
            "\u001b[35mHola en color amarillo\u001b[0m\n"
          ]
        }
      ]
    },
    {
      "cell_type": "markdown",
      "source": [
        "# ¿Como escribo un modulo? (Biblioteca)\n",
        "\n",
        "Se define un archivo de biblioteca.\n"
      ],
      "metadata": {
        "id": "MnNql7PbPC5-"
      }
    },
    {
      "cell_type": "code",
      "source": [
        "!cat mi_modulo.py"
      ],
      "metadata": {
        "colab": {
          "base_uri": "https://localhost:8080/"
        },
        "id": "DOhjYyV6PNsD",
        "outputId": "98b50ba8-9bbe-4f1d-8052-903c7e9423e1"
      },
      "execution_count": null,
      "outputs": [
        {
          "output_type": "stream",
          "name": "stdout",
          "text": [
            "def sumar( a , b ):\r\n",
            "    return a + b\r\n",
            "\r\n",
            "def mi_print( texto , final ):\r\n",
            "    print(\"Super: \", text , end=Final)\r\n",
            "\r\n"
          ]
        }
      ]
    },
    {
      "cell_type": "code",
      "source": [
        "import mi_modulo\n",
        "\n",
        "res = mi_modulo.sumar(7,5)\n",
        "print(res)\n",
        "\n",
        "mi_modulo.mi_print(\"Jesus\",\"\\n\")"
      ],
      "metadata": {
        "colab": {
          "base_uri": "https://localhost:8080/"
        },
        "id": "BOChphgYQ8n1",
        "outputId": "0d3af5c1-0d7d-4926-b2e1-9b4ac70db917"
      },
      "execution_count": null,
      "outputs": [
        {
          "output_type": "stream",
          "name": "stdout",
          "text": [
            "12\n",
            "Super:  Jesus\n"
          ]
        }
      ]
    },
    {
      "cell_type": "code",
      "source": [
        "from mi_modulo import sumar , mi_print\n",
        "res = sumar(5,3)\n",
        "print(res)\n",
        "mi_print(\"Jesus\" , \"\\n\")"
      ],
      "metadata": {
        "colab": {
          "base_uri": "https://localhost:8080/"
        },
        "id": "bYAC3cOUR7QC",
        "outputId": "cf513d51-a7c9-4f2e-fa46-5009858de74e"
      },
      "execution_count": null,
      "outputs": [
        {
          "output_type": "stream",
          "name": "stdout",
          "text": [
            "8\n",
            "Super:  Jesus\n"
          ]
        }
      ]
    },
    {
      "cell_type": "markdown",
      "source": [
        "#Manejo de archivos con Python3\n",
        "\n",
        "- Leer archivos\n",
        "- Escribir en archivos\n",
        "- Manipular la informacion leida desde un archivo\n",
        "- Formatos de archivo."
      ],
      "metadata": {
        "id": "ETwf9O3XSnaG"
      }
    },
    {
      "cell_type": "code",
      "source": [
        "archivo = open(\"salida.txt\" , \"wt\")\n",
        "archivo.write(\"Hola mundo\")\n",
        "archivo.close()"
      ],
      "metadata": {
        "id": "ZYWYlT86S10I"
      },
      "execution_count": null,
      "outputs": []
    },
    {
      "cell_type": "code",
      "source": [
        "!cat salida.txt"
      ],
      "metadata": {
        "colab": {
          "base_uri": "https://localhost:8080/"
        },
        "id": "drosc7LfTK7X",
        "outputId": "f142abc5-0718-4ed1-fefd-edc29a715b8c"
      },
      "execution_count": null,
      "outputs": [
        {
          "output_type": "stream",
          "name": "stdout",
          "text": [
            "Hola mundo"
          ]
        }
      ]
    },
    {
      "cell_type": "markdown",
      "source": [
        "Para abrir un archivo ya sea para lectura o escritura se usa la funcion open.\n",
        "\n",
        "```\n",
        "open( fileobj , \"XY\" )\n",
        "```\n",
        "Donde File object es el nombre del archivo a abrir, y el segundo argumento de la funcion, esta formado por un par de letras. La primer letra establece el tipo de aprtura del archivo:\n",
        "\n",
        "1. **r** Lectura\n",
        "1. **w** Escritura\n",
        "1. **x** Escritura exclusiva, es decir, solo en el caso de que el archivo no exista\n",
        "1. **a** Append\n",
        "\n",
        "El segundo caracter indica el formato del archivo\n",
        "\n",
        "1. **t** Formato de texto\n",
        "1. **b** Formato binario"
      ],
      "metadata": {
        "id": "C6lsPI-jUkXZ"
      }
    },
    {
      "cell_type": "code",
      "source": [
        "archivo = open(\"ejemplo1.txt\" , \"wt\")\n",
        "\n",
        "for x in range( 10 ):\n",
        "    archivo.write(\"Hola mundo \" + str(x) + \"\\n\")\n",
        "cont = archivo.write(\"Otra cosa\")\n",
        "archivo.close()\n",
        "\n",
        "print(cont)"
      ],
      "metadata": {
        "colab": {
          "base_uri": "https://localhost:8080/"
        },
        "id": "6jcPEn_ZVv5g",
        "outputId": "15397fee-684b-4951-854f-95bb6eb044a8"
      },
      "execution_count": null,
      "outputs": [
        {
          "output_type": "stream",
          "name": "stdout",
          "text": [
            "9\n"
          ]
        }
      ]
    },
    {
      "cell_type": "markdown",
      "source": [
        "#La funcion write\n",
        "La funcion Write escribe datos en un archivo abierto para escritura, para ello utiliza un cursor (apuntador) al siguiente byte dentro del archivo\n",
        "\n",
        "Cuando el archivo se abre, se crea este apuntador y se posiciona para moverse de forma automatica cada vez que escribimos\n",
        "\n",
        "La funcion write regresa un valor entero que indica el numero de caracteres del archivo"
      ],
      "metadata": {
        "id": "m4JkLATwWK8A"
      }
    },
    {
      "cell_type": "markdown",
      "source": [
        "#Lectura de un archivo\n",
        "\n",
        "Para leer un archivo con programacion se puede emplear una de tres opciones (funciones):\n",
        "1. read() lee todo el archivo y lo regresa como texto\n",
        "1. readline() Lee una sola linea (Hasta encontrar el siguiente \"\\n) y la regresa como string\n",
        "1. readlines() Lee todo el archivo y lo regresa como una lista de texto separada por saltos de lineas"
      ],
      "metadata": {
        "id": "tmCbBNwLW8nS"
      }
    },
    {
      "cell_type": "code",
      "source": [
        "!cat ejemplo.txt\n"
      ],
      "metadata": {
        "colab": {
          "base_uri": "https://localhost:8080/"
        },
        "id": "933GHSq-Xi78",
        "outputId": "7d7fbdee-256a-4a45-bf89-a9fbfc0e4e92"
      },
      "execution_count": null,
      "outputs": [
        {
          "output_type": "stream",
          "name": "stdout",
          "text": [
            "Hola mundo 0\n",
            "Hola mundo 1\n",
            "Hola mundo 2\n",
            "Hola mundo 3\n",
            "Hola mundo 4\n",
            "Hola mundo 5\n",
            "Hola mundo 6\n",
            "Hola mundo 7\n",
            "Hola mundo 8\n",
            "Hola mundo 9\n",
            "Otra cosa"
          ]
        }
      ]
    },
    {
      "cell_type": "code",
      "source": [
        "archivo1 = open(\"ejemplo1.txt\",\"rt\")\n",
        "datos = archivo1.read()\n",
        "separados = datos.split(\"\\n\")\n",
        "print(separados)\n",
        "for index in range( len(separados)):\n",
        "    if index % 2 == 0 :\n",
        "        print(separados[index].upper())\n",
        "    else:\n",
        "        print(separados[index].lower())\n",
        "\n",
        "print(\"---\" + datos + \"---\")"
      ],
      "metadata": {
        "colab": {
          "base_uri": "https://localhost:8080/"
        },
        "id": "p4e1pIYpXpTT",
        "outputId": "ca5f8de1-6350-49c9-ee6f-07cf11e2f323"
      },
      "execution_count": null,
      "outputs": [
        {
          "output_type": "stream",
          "name": "stdout",
          "text": [
            "['Hola mundo 0', 'Hola mundo 1', 'Hola mundo 2', 'Hola mundo 3', 'Hola mundo 4', 'Hola mundo 5', 'Hola mundo 6', 'Hola mundo 7', 'Hola mundo 8', 'Hola mundo 9', 'Otra cosa']\n",
            "HOLA MUNDO 0\n",
            "hola mundo 1\n",
            "HOLA MUNDO 2\n",
            "hola mundo 3\n",
            "HOLA MUNDO 4\n",
            "hola mundo 5\n",
            "HOLA MUNDO 6\n",
            "hola mundo 7\n",
            "HOLA MUNDO 8\n",
            "hola mundo 9\n",
            "OTRA COSA\n",
            "---Hola mundo 0\n",
            "Hola mundo 1\n",
            "Hola mundo 2\n",
            "Hola mundo 3\n",
            "Hola mundo 4\n",
            "Hola mundo 5\n",
            "Hola mundo 6\n",
            "Hola mundo 7\n",
            "Hola mundo 8\n",
            "Hola mundo 9\n",
            "Otra cosa---\n"
          ]
        }
      ]
    },
    {
      "cell_type": "code",
      "source": [
        "archivo2 = open(\"ejemplo1.txt\",\"rt\")\n",
        "for x in range(11):\n",
        "    if x%2 == 0:\n",
        "        print(archivo2.readline().upper() , end=\"\")\n",
        "    else:\n",
        "        print(archivo2.readline().lower() , end=\"\")"
      ],
      "metadata": {
        "colab": {
          "base_uri": "https://localhost:8080/"
        },
        "id": "YUPwEBFOZoQX",
        "outputId": "e41b2f07-b7d1-4cdf-d2bd-900828cb5b7d"
      },
      "execution_count": null,
      "outputs": [
        {
          "output_type": "stream",
          "name": "stdout",
          "text": [
            "HOLA MUNDO 0\n",
            "hola mundo 1\n",
            "HOLA MUNDO 2\n",
            "hola mundo 3\n",
            "HOLA MUNDO 4\n",
            "hola mundo 5\n",
            "HOLA MUNDO 6\n",
            "hola mundo 7\n",
            "HOLA MUNDO 8\n",
            "hola mundo 9\n",
            "OTRA COSA"
          ]
        }
      ]
    },
    {
      "cell_type": "code",
      "source": [
        "11//2\n",
        "11%2\n",
        "\n",
        "lista1 = [1,2,3,4]\n",
        "print( len(lista1))\n",
        "\n",
        "cadena = \"hola mudo eltretertre\"\n",
        "print( len(cadena))"
      ],
      "metadata": {
        "colab": {
          "base_uri": "https://localhost:8080/"
        },
        "id": "4O4fYCP7bfpb",
        "outputId": "d6d2a551-835e-4640-9ea9-92ab6fc06a38"
      },
      "execution_count": null,
      "outputs": [
        {
          "output_type": "stream",
          "name": "stdout",
          "text": [
            "4\n",
            "21\n"
          ]
        }
      ]
    },
    {
      "cell_type": "code",
      "source": [
        "archivo3 = open(\"ejemplo1.txt\",\"rt\")\n",
        "lineas = archivo3.readlines()\n",
        "print(lineas)\n",
        "\n",
        "#for each\n",
        "for texto in lineas:\n",
        "    print(texto.rstrip())\n"
      ],
      "metadata": {
        "colab": {
          "base_uri": "https://localhost:8080/"
        },
        "id": "Pj05O0Vnb_7w",
        "outputId": "1a4cbf43-de49-4bdb-f2b7-5ef2a316257d"
      },
      "execution_count": null,
      "outputs": [
        {
          "output_type": "stream",
          "name": "stdout",
          "text": [
            "['Hola mundo 0\\n', 'Hola mundo 1\\n', 'Hola mundo 2\\n', 'Hola mundo 3\\n', 'Hola mundo 4\\n', 'Hola mundo 5\\n', 'Hola mundo 6\\n', 'Hola mundo 7\\n', 'Hola mundo 8\\n', 'Hola mundo 9\\n', 'Otra cosa']\n",
            "Hola mundo 0\n",
            "Hola mundo 1\n",
            "Hola mundo 2\n",
            "Hola mundo 3\n",
            "Hola mundo 4\n",
            "Hola mundo 5\n",
            "Hola mundo 6\n",
            "Hola mundo 7\n",
            "Hola mundo 8\n",
            "Hola mundo 9\n",
            "Otra cosa\n"
          ]
        }
      ]
    },
    {
      "cell_type": "code",
      "source": [
        "texto = \"       mi frase   jsdfksf\\n\"\n",
        "print(\"---\" + texto + \"---\")\n",
        "print(\"---\" + texto.strip() + \"---\")\n",
        "print(\"---\" + texto.lstrip() + \"---\")\n",
        "print(\"---\" + texto.rstrip() + \"---\")\n"
      ],
      "metadata": {
        "colab": {
          "base_uri": "https://localhost:8080/"
        },
        "id": "RkCyRCRwdJ2f",
        "outputId": "fea9311f-a10c-49ab-ed78-14b2ea162987"
      },
      "execution_count": null,
      "outputs": [
        {
          "output_type": "stream",
          "name": "stdout",
          "text": [
            "---       mi frase   jsdfksf\n",
            "---\n",
            "---mi frase   jsdfksf---\n",
            "---mi frase   jsdfksf\n",
            "---\n",
            "---       mi frase   jsdfksf---\n"
          ]
        }
      ]
    },
    {
      "cell_type": "code",
      "source": [
        "archivo4 = open(\"ejemplo2.txt\",\"rt\")\n",
        "lineas = archivo4.readlines()\n",
        "print(lineas)\n",
        "suma = 0\n",
        "for linea in lineas[: len(lineas) :]:\n",
        "    for numero in linea.strip().split(\",\"):\n",
        "        print(numero.strip())\n",
        "        suma += int(numero.strip())\n",
        "print(suma)"
      ],
      "metadata": {
        "colab": {
          "base_uri": "https://localhost:8080/"
        },
        "id": "5XQ9AqSsih81",
        "outputId": "f283e3a5-230b-4d7e-bc45-d171d7962ca0"
      },
      "execution_count": null,
      "outputs": [
        {
          "output_type": "stream",
          "name": "stdout",
          "text": [
            "['   1   , 2,   3, 4 ,  5\\n', '      10  , 20 , 30      ,  40\\n', '     100   , 200    , 300']\n",
            "1\n",
            "2\n",
            "3\n",
            "4\n",
            "5\n",
            "10\n",
            "20\n",
            "30\n",
            "40\n",
            "100\n",
            "200\n",
            "300\n",
            "715\n"
          ]
        }
      ]
    }
  ]
}