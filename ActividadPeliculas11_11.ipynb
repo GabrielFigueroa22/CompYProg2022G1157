{
  "nbformat": 4,
  "nbformat_minor": 0,
  "metadata": {
    "colab": {
      "name": "ActividadPeliculas11/11.ipynb",
      "provenance": [],
      "authorship_tag": "ABX9TyPBWdfRiGFV/qPsIMVkq+PI",
      "include_colab_link": true
    },
    "kernelspec": {
      "name": "python3",
      "display_name": "Python 3"
    },
    "language_info": {
      "name": "python"
    }
  },
  "cells": [
    {
      "cell_type": "markdown",
      "metadata": {
        "id": "view-in-github",
        "colab_type": "text"
      },
      "source": [
        "<a href=\"https://colab.research.google.com/github/GabrielFigueroa22/CompYProg2022G1157/blob/main/ActividadPeliculas11_11.ipynb\" target=\"_parent\"><img src=\"https://colab.research.google.com/assets/colab-badge.svg\" alt=\"Open In Colab\"/></a>"
      ]
    },
    {
      "cell_type": "code",
      "metadata": {
        "id": "srr2y30AMM7Y"
      },
      "source": [
        "MazeRunner = {\"codigo\":\"319002\"\n",
        ",\"equipo\": \n",
        "{\"integrantes\": [\"Tomas\", \"Newt\", \"Minho\", \"Teresa\", \"Alby\", \"Gally\", \"Chuck\"],\"Sub\":\"Brenda\"}\n",
        ",\"peliculas\":{\"primera\":\"Correr o morir\",\"segunda\":\"Prueba de fuego\",\"tercera\":\"La cura mortal\"}\n",
        ",\"libros\":{\"The Maze Runner\":{ \"1ra version\":\"2009\",\"2da version\":\"2010\"}\n",
        "            ,\"Prueba de fuego\":[{\"1ra version\":\"2010\",\"2da version\":\"2011\"},\n",
        "            ,\"La cura mortal\":[{\"1ra version\":\"2010\",\"2da version\":\"2011\",\"3ra version\":\"2013\"}]}}\n",
        "print(MazeRunner)"
      ],
      "execution_count": null,
      "outputs": []
    }
  ]
}