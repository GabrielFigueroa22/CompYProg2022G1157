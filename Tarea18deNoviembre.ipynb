{
  "nbformat": 4,
  "nbformat_minor": 0,
  "metadata": {
    "colab": {
      "name": "Tarea18deNoviembre.ipynb",
      "provenance": [],
      "authorship_tag": "ABX9TyNcbpxf8dENwu9KOlTwOj+g",
      "include_colab_link": true
    },
    "kernelspec": {
      "name": "python3",
      "display_name": "Python 3"
    },
    "language_info": {
      "name": "python"
    }
  },
  "cells": [
    {
      "cell_type": "markdown",
      "metadata": {
        "id": "view-in-github",
        "colab_type": "text"
      },
      "source": [
        "<a href=\"https://colab.research.google.com/github/GabrielFigueroa22/CompYProg2022G1157/blob/main/Tarea18deNoviembre.ipynb\" target=\"_parent\"><img src=\"https://colab.research.google.com/assets/colab-badge.svg\" alt=\"Open In Colab\"/></a>"
      ]
    },
    {
      "cell_type": "markdown",
      "metadata": {
        "id": "Lyiien2UbB33"
      },
      "source": [
        "# Ejercicios de tarea\n",
        "### 1. Hacer un programa que pida 2 numeros enteros y que imprima en pantalla lo siguiente\n",
        "\n",
        "1. cual de ellos es el numero mayor\n",
        "2. cual de ellos es el numero menor\n",
        "\n",
        "o en su defecto imprimir que los valores son iguales\n",
        "\n",
        "### 2. Hacer un programa que solicite 3 numeros enteros diferentes entre si y que imprima cual de los 3 es el mayor\n",
        "\n",
        "### 3. Hacer un programa que solicite 3 numeros enteros diferentes entre si y que imprima cual de los 3 es el menor\n",
        "\n",
        "### 4. Hacer un programa que solicite 4 numeros enteros diferentes entre si e imprima a la salida cual de ellos es el menor y cual de ellos es el mayor"
      ]
    },
    {
      "cell_type": "code",
      "metadata": {
        "colab": {
          "base_uri": "https://localhost:8080/"
        },
        "id": "d1GzvH8fbD-d",
        "outputId": "2a9cec2d-6bf8-41fc-b1b7-277206ade575"
      },
      "source": [
        "num1 = int(input(\"Dame un primer numero: \"))\n",
        "num2 = int(input(\"Dame un segundo numero: \"))\n",
        "if num1 > num2:\n",
        "    print(\"el numero\", num1, \"es el numero mayor\")\n",
        "else:\n",
        "    if num1 < num2:\n",
        "        print(\"el numero\", num2, \"es el numero mayor\")\n",
        "    else:\n",
        "        print(\"los dos numeros son iguales\")\n",
        "print(\"fin del programa\")\n",
        "\n"
      ],
      "execution_count": null,
      "outputs": [
        {
          "output_type": "stream",
          "name": "stdout",
          "text": [
            "Dame un primer numero: 2\n",
            "Dame un segundo numero: 2\n",
            "los dos numeros son iguales\n",
            "fin del programa\n"
          ]
        }
      ]
    },
    {
      "cell_type": "code",
      "metadata": {
        "colab": {
          "base_uri": "https://localhost:8080/"
        },
        "id": "NeopgpILe0vM",
        "outputId": "a2e17e26-b4d7-49df-a835-646fde1bcfad"
      },
      "source": [
        "num1 = int(input(\"Dame un primer numero: \"))\n",
        "num2 = int(input(\"Dame un segundo numero diferente al anterior: \"))\n",
        "num3 = int(input(\"Dame un tercer numero distinto a los anteriores: \"))\n",
        "if num1 > num2 > num3:\n",
        "    print(\"el numero\", num1, \"es el numero mayor\")\n",
        "else:\n",
        "    if num2 > num1 > num3:\n",
        "        print(\"el numero\", num2, \"es el numero mayor\")\n",
        "    else:\n",
        "        if num3 > num2 > num1:\n",
        "            print(\"el numero\", num3, \"es el numero mayor\")\n",
        "        else:\n",
        "            print(\"Accion invalida, no repitas numeros de favor\")\n",
        "\n",
        "print(\"fin del programa\")"
      ],
      "execution_count": null,
      "outputs": [
        {
          "output_type": "stream",
          "name": "stdout",
          "text": [
            "Dame un primer numero: 2\n",
            "Dame un segundo numero diferente al anterior: 3\n",
            "Dame un tercer numero distinto a los anteriores: 98765432\n",
            "el numero 98765432 es el numero mayor\n",
            "fin del programa\n"
          ]
        }
      ]
    },
    {
      "cell_type": "code",
      "metadata": {
        "colab": {
          "base_uri": "https://localhost:8080/"
        },
        "id": "3P_hxHfqgQVQ",
        "outputId": "c5b7d469-e909-4359-82dc-4a5f1efd03c3"
      },
      "source": [
        "num1 = int(input(\"Dame un primer numero: \"))\n",
        "num2 = int(input(\"Dame un segundo numero diferente al anterior: \"))\n",
        "num3 = int(input(\"Dame un tercer numero distinto a los anteriores: \"))\n",
        "if num1 < num2 < num3:\n",
        "    print(\"el numero\", num1, \"es el numero menor\")\n",
        "else:\n",
        "    if num2 < num1 < num3:\n",
        "        print(\"el numero\", num2, \"es el numero menor\")\n",
        "    else:\n",
        "        if num3 < num1 < num2:\n",
        "            print(\"el numero\", num3, \"es el numero menor\")\n",
        "        else:\n",
        "            print(\"Accion invalida, no repitas numeros de favor\")\n",
        "print(\"fin del programa\")"
      ],
      "execution_count": null,
      "outputs": [
        {
          "output_type": "stream",
          "name": "stdout",
          "text": [
            "Dame un primer numero: 2\n",
            "Dame un segundo numero diferente al anterior: 3\n",
            "Dame un tercer numero distinto a los anteriores: 65432\n",
            "el numero 2 es el numero menor\n",
            "fin del programa\n"
          ]
        }
      ]
    },
    {
      "cell_type": "code",
      "metadata": {
        "colab": {
          "base_uri": "https://localhost:8080/"
        },
        "id": "oo8gWaMShqOY",
        "outputId": "ac2e9d24-9074-42f5-f8f7-628855bf794a"
      },
      "source": [
        "num1 = int(input(\"Dame un primer numero: \"))\n",
        "num2 = int(input(\"Dame un segundo numero diferente al anterior: \"))\n",
        "num3 = int(input(\"Dame un tercer numero distinto a los anteriores: \"))\n",
        "num4 = int(input(\"Dame un cuarto numero que no sea igual a los demas: \"))\n",
        "if num1 > num3 > num4 > num2 and num2 < num4 < num3 < num1:\n",
        "    print(\"el numero\", num1, \"es el numero mayor\")\n",
        "    print(\"el numero\", num2, \"es el numero menor\")\n",
        "elif num1 > num4 > num3 > num2 and num2 < num3 < num4 < num1:\n",
        "    print(\"el numero\", num1, \"es el numero mayor\")\n",
        "    print(\"el numero\", num2, \"es el numero menor\")\n",
        "elif num1 > num2 > num3 > num3 and num3 < num4 < num2 < num1:\n",
        "    print(\"el numero\", num1, \"es el numero mayor\")\n",
        "    print(\"el numero\", num3, \"es el numero menor\")\n",
        "elif num1 > num4 > num2 > num3 and num3 < num2 < num4 < num1:\n",
        "    print(\"el numero\", num1, \"es el numero mayor\")\n",
        "    print(\"el numero\", num3, \"es el numero menor\")\n",
        "elif num1 > num2 > num3 > num4 and num4 < num3 < num2 < num1:\n",
        "    print(\"el numero\", num1, \"es el numero mayor\")\n",
        "    print(\"el numero\", num4, \"es el numero menor\")\n",
        "elif num1 > num3 > num2 > num4 and num4 < num2 < num3 < num1:\n",
        "    print(\"el numero\", num1, \"es el numero mayor\")\n",
        "    print(\"el numero\", num4, \"es el numero menor\")\n",
        "elif num2 > num3 > num4 > num1 and num1 < num4 < num3 < num2:\n",
        "    print(\"el numero\", num2, \"es el numero mayor\")\n",
        "    print(\"el numero\", num1, \"es el numero menor\")\n",
        "elif num2 > num4 > num3 > num1 and num1 < num3 < num4 < num2:\n",
        "    print(\"el numero\", num2, \"es el numero mayor\")\n",
        "    print(\"el numero\", num1, \"es el numero menor\")\n",
        "elif num2 > num4 > num1 > num3 and num3 < num1 < num4 < num2:\n",
        "    print(\"el numero\", num2, \"es el numero mayor\")\n",
        "    print(\"el numero\", num3, \"es el numero menor\")\n",
        "elif num2 > num1 > num4 > num3 and num3 < num4 < num1 < num2:\n",
        "    print(\"el numero\", num2, \"es el numero mayor\")\n",
        "    print(\"el numero\", num3, \"es el numero menor\")\n",
        "elif num2 > num3 > num1 > num4 and num4 < num1 < num3 < num2:\n",
        "    print(\"el numero\", num2, \"es el numero mayor\")\n",
        "    print(\"el numero\", num4, \"es el numero menor\")\n",
        "elif num2 > num1 > num3 > num4 and num4 < num3 < num1 < num2:\n",
        "    print(\"el numero\", num2, \"es el numero mayor\")\n",
        "    print(\"el numero\", num4, \"es el numero menor\")\n",
        "elif num3 > num1 > num2 > num4 and num4 < num2 < num1 < num3:\n",
        "    print(\"el numero\", num3, \"es el numero mayor\")\n",
        "    print(\"el numero\", num4, \"es el numero menor\")\n",
        "elif num3 > num2 > num1 > num4 and num4 < num1 < num2 < num3:\n",
        "    print(\"el numero\", num3, \"es el numero mayor\")\n",
        "    print(\"el numero\", num4, \"es el numero menor\")\n",
        "elif num3 > num4 > num1 > num2 and num2 < num1 < num4 < num3:\n",
        "    print(\"el numero\", num3, \"es el numero mayor\")\n",
        "    print(\"el numero\", num2, \"es el numero menor\")\n",
        "elif num3 > num1 > num4 > num2 and num2 < num4 < num1 < num3:\n",
        "    print(\"el numero\", num3, \"es el numero mayor\")\n",
        "    print(\"el numero\", num2, \"es el numero menor\")\n",
        "elif num3 > num4 > num2 > num1 and num1 < num2 < num4 < num3:\n",
        "    print(\"el numero\", num3, \"es el numero mayor\")\n",
        "    print(\"el numero\", num1, \"es el numero menor\")\n",
        "elif num3 > num2 > num4 > num1 and num1 < num4 < num2 < num3:\n",
        "    print(\"el numero\", num3, \"es el numero mayor\")\n",
        "    print(\"el numero\", num1, \"es el numero menor\")\n",
        "elif num4 > num2 > num1 > num3 and num3 < num1 < num2 < num4:\n",
        "    print(\"el numero\", num4, \"es el numero mayor\")\n",
        "    print(\"el numero\", num3, \"es el numero menor\")\n",
        "elif num4 > num1 > num2 > num3 and num3 < num2 < num1 < num4:\n",
        "    print(\"el numero\", num4, \"es el numero mayor\")\n",
        "    print(\"el numero\", num3, \"es el numero menor\")\n",
        "elif num4 > num3 > num1 > num2 and num2 < num1 < num3 < num4:\n",
        "    print(\"el numero\", num4, \"es el numero mayor\")\n",
        "    print(\"el numero\", num2, \"es el numero menor\")\n",
        "elif num4 > num1 > num3 > num2 and num2 < num3 < num1 < num4:\n",
        "    print(\"el numero\", num4, \"es el numero mayor\")\n",
        "    print(\"el numero\", num2, \"es el numero menor\")\n",
        "elif num4 > num3 > num2 > num1 and num1 < num2 < num3 < num4:\n",
        "    print(\"el numero\", num4, \"es el numero mayor\")\n",
        "    print(\"el numero\", num1, \"es el numero menor\")\n",
        "elif num4 > num2 > num3 > num1 and num1 < num3 < num2 < num4:\n",
        "    print(\"el numero\", num4, \"es el numero mayor\")\n",
        "    print(\"el numero\", num1, \"es el numero menor\")\n",
        "else:\n",
        "    print(\"Accion invalida, no repitas numeros de favor\")\n",
        "print(\"fin del programa\")"
      ],
      "execution_count": null,
      "outputs": [
        {
          "output_type": "stream",
          "name": "stdout",
          "text": [
            "Dame un primer numero: -1\n",
            "Dame un segundo numero diferente al anterior: 2\n",
            "Dame un tercer numero distinto a los anteriores: 4\n",
            "Dame un cuarto numero que no sea igual a los demas: 6\n",
            "el numero 6 es el numero mayor\n",
            "el numero -1 es el numero menor\n",
            "fin del programa\n"
          ]
        }
      ]
    }
  ]
}