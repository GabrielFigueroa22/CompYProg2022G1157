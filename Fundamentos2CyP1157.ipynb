{
  "nbformat": 4,
  "nbformat_minor": 0,
  "metadata": {
    "colab": {
      "name": "Fundamentos2CyP1157.ipynb",
      "provenance": [],
      "authorship_tag": "ABX9TyNjjt122mJ/9YUfkwdlCuMa",
      "include_colab_link": true
    },
    "kernelspec": {
      "name": "python3",
      "display_name": "Python 3"
    },
    "language_info": {
      "name": "python"
    }
  },
  "cells": [
    {
      "cell_type": "markdown",
      "metadata": {
        "id": "view-in-github",
        "colab_type": "text"
      },
      "source": [
        "<a href=\"https://colab.research.google.com/github/GabrielFigueroa22/CompYProg2022G1157/blob/main/Fundamentos2CyP1157.ipynb\" target=\"_parent\"><img src=\"https://colab.research.google.com/assets/colab-badge.svg\" alt=\"Open In Colab\"/></a>"
      ]
    },
    {
      "cell_type": "markdown",
      "metadata": {
        "id": "oRJxuv4gEntx"
      },
      "source": [
        "# Tipos de datos estructurados de Python\n",
        "\n",
        "1. Listas\n",
        "2. Tuplas\n",
        "3. Diccionario\n",
        "4. Conjuntos (opcional)"
      ]
    },
    {
      "cell_type": "markdown",
      "metadata": {
        "id": "TOCPB966EpTQ"
      },
      "source": [
        "#Listas\n",
        "\n",
        "- Tipo de dato que agrupa variables o valores\n",
        "- Estructura secuencial (undexados empezando por 0)\n",
        "- Se declara de dos formas\n",
        "  - Usando []\n",
        "  - Usando list()\n",
        "- Puede contener tipos de dato viversos (en otros lenguajes de programacion eso no es posible de forma directa)\n",
        "- Los elementos internos se seleccionan con []\n",
        "- Soporta slicing\n",
        "- SON MUTABLES\n",
        "- Generadores [var for x in range (10)]\n",
        "- Al ser una clase contiene muchos metodos utiles"
      ]
    },
    {
      "cell_type": "code",
      "metadata": {
        "colab": {
          "base_uri": "https://localhost:8080/"
        },
        "id": "ucKlTb9qEt-U",
        "outputId": "764b5ca3-7766-4c50-b780-55b4ebb2f7fd"
      },
      "source": [
        "numeros = [10,5,2,3,1]\n",
        "print(numeros)\n",
        "\n",
        "numeros2 = list()\n",
        "numeros2.append(10)\n",
        "numeros2.append(5)\n",
        "numeros2.append(2)\n",
        "numeros2.append(3)\n",
        "numeros2.append(1)\n",
        "print(numeros2)"
      ],
      "execution_count": null,
      "outputs": [
        {
          "output_type": "stream",
          "name": "stdout",
          "text": [
            "[10, 5, 2, 3, 1]\n",
            "[10, 5, 2, 3, 1]\n"
          ]
        }
      ]
    },
    {
      "cell_type": "code",
      "metadata": {
        "colab": {
          "base_uri": "https://localhost:8080/"
        },
        "id": "G_7qqgN5EyBN",
        "outputId": "9813d9cd-4772-4643-c1af-f11addf0d4eb"
      },
      "source": [
        "cosas = [12,2,True,\"jose\",1.57,[\"pera\", \"kiwi\", \"uva\"]]\n",
        "print(cosas)\n",
        "print(cosas[1])\n",
        "print(cosas[4])\n",
        "print(cosas[5])\n",
        "print(cosas[5][1])\n",
        "print(cosas[3][1:3:])\n",
        "cosas[3] = cosas[3].upper()\n",
        "print(cosas) "
      ],
      "execution_count": null,
      "outputs": [
        {
          "output_type": "stream",
          "name": "stdout",
          "text": [
            "[12, 2, True, 'jose', 1.57, ['pera', 'kiwi', 'uva']]\n",
            "2\n",
            "1.57\n",
            "['pera', 'kiwi', 'uva']\n",
            "kiwi\n",
            "os\n",
            "[12, 2, True, 'JOSE', 1.57, ['pera', 'kiwi', 'uva']]\n"
          ]
        }
      ]
    },
    {
      "cell_type": "code",
      "metadata": {
        "colab": {
          "base_uri": "https://localhost:8080/"
        },
        "id": "7QTDBn4CE1I6",
        "outputId": "1537f7c5-a848-4978-a514-bfd29b76431e"
      },
      "source": [
        "numeros = [1,2,3,4,5,6,7,8,9,10,11]\n",
        "print(numeros)\n",
        "#slicing\n",
        "print(numeros[3:8])\n",
        "print(numeros[8:10])\n",
        "print(numeros[-3:-1:])\n",
        "print(numeros[::-1])\n",
        "print(numeros[::])"
      ],
      "execution_count": null,
      "outputs": [
        {
          "output_type": "stream",
          "name": "stdout",
          "text": [
            "[1, 2, 3, 4, 5, 6, 7, 8, 9, 10, 11]\n",
            "[4, 5, 6, 7, 8]\n",
            "[9, 10]\n",
            "[9, 10]\n",
            "[11, 10, 9, 8, 7, 6, 5, 4, 3, 2, 1]\n",
            "[1, 2, 3, 4, 5, 6, 7, 8, 9, 10, 11]\n"
          ]
        }
      ]
    },
    {
      "cell_type": "code",
      "metadata": {
        "colab": {
          "base_uri": "https://localhost:8080/"
        },
        "id": "sFkEKV9AE1_h",
        "outputId": "9764f9c8-f4c7-4dd6-a2f3-94a56ea47f1e"
      },
      "source": [
        "numeros = [ x+50 for x in range (1001)]\n",
        "print(numeros)\n"
      ],
      "execution_count": null,
      "outputs": [
        {
          "output_type": "stream",
          "name": "stdout",
          "text": [
            "[50, 51, 52, 53, 54, 55, 56, 57, 58, 59, 60, 61, 62, 63, 64, 65, 66, 67, 68, 69, 70, 71, 72, 73, 74, 75, 76, 77, 78, 79, 80, 81, 82, 83, 84, 85, 86, 87, 88, 89, 90, 91, 92, 93, 94, 95, 96, 97, 98, 99, 100, 101, 102, 103, 104, 105, 106, 107, 108, 109, 110, 111, 112, 113, 114, 115, 116, 117, 118, 119, 120, 121, 122, 123, 124, 125, 126, 127, 128, 129, 130, 131, 132, 133, 134, 135, 136, 137, 138, 139, 140, 141, 142, 143, 144, 145, 146, 147, 148, 149, 150, 151, 152, 153, 154, 155, 156, 157, 158, 159, 160, 161, 162, 163, 164, 165, 166, 167, 168, 169, 170, 171, 172, 173, 174, 175, 176, 177, 178, 179, 180, 181, 182, 183, 184, 185, 186, 187, 188, 189, 190, 191, 192, 193, 194, 195, 196, 197, 198, 199, 200, 201, 202, 203, 204, 205, 206, 207, 208, 209, 210, 211, 212, 213, 214, 215, 216, 217, 218, 219, 220, 221, 222, 223, 224, 225, 226, 227, 228, 229, 230, 231, 232, 233, 234, 235, 236, 237, 238, 239, 240, 241, 242, 243, 244, 245, 246, 247, 248, 249, 250, 251, 252, 253, 254, 255, 256, 257, 258, 259, 260, 261, 262, 263, 264, 265, 266, 267, 268, 269, 270, 271, 272, 273, 274, 275, 276, 277, 278, 279, 280, 281, 282, 283, 284, 285, 286, 287, 288, 289, 290, 291, 292, 293, 294, 295, 296, 297, 298, 299, 300, 301, 302, 303, 304, 305, 306, 307, 308, 309, 310, 311, 312, 313, 314, 315, 316, 317, 318, 319, 320, 321, 322, 323, 324, 325, 326, 327, 328, 329, 330, 331, 332, 333, 334, 335, 336, 337, 338, 339, 340, 341, 342, 343, 344, 345, 346, 347, 348, 349, 350, 351, 352, 353, 354, 355, 356, 357, 358, 359, 360, 361, 362, 363, 364, 365, 366, 367, 368, 369, 370, 371, 372, 373, 374, 375, 376, 377, 378, 379, 380, 381, 382, 383, 384, 385, 386, 387, 388, 389, 390, 391, 392, 393, 394, 395, 396, 397, 398, 399, 400, 401, 402, 403, 404, 405, 406, 407, 408, 409, 410, 411, 412, 413, 414, 415, 416, 417, 418, 419, 420, 421, 422, 423, 424, 425, 426, 427, 428, 429, 430, 431, 432, 433, 434, 435, 436, 437, 438, 439, 440, 441, 442, 443, 444, 445, 446, 447, 448, 449, 450, 451, 452, 453, 454, 455, 456, 457, 458, 459, 460, 461, 462, 463, 464, 465, 466, 467, 468, 469, 470, 471, 472, 473, 474, 475, 476, 477, 478, 479, 480, 481, 482, 483, 484, 485, 486, 487, 488, 489, 490, 491, 492, 493, 494, 495, 496, 497, 498, 499, 500, 501, 502, 503, 504, 505, 506, 507, 508, 509, 510, 511, 512, 513, 514, 515, 516, 517, 518, 519, 520, 521, 522, 523, 524, 525, 526, 527, 528, 529, 530, 531, 532, 533, 534, 535, 536, 537, 538, 539, 540, 541, 542, 543, 544, 545, 546, 547, 548, 549, 550, 551, 552, 553, 554, 555, 556, 557, 558, 559, 560, 561, 562, 563, 564, 565, 566, 567, 568, 569, 570, 571, 572, 573, 574, 575, 576, 577, 578, 579, 580, 581, 582, 583, 584, 585, 586, 587, 588, 589, 590, 591, 592, 593, 594, 595, 596, 597, 598, 599, 600, 601, 602, 603, 604, 605, 606, 607, 608, 609, 610, 611, 612, 613, 614, 615, 616, 617, 618, 619, 620, 621, 622, 623, 624, 625, 626, 627, 628, 629, 630, 631, 632, 633, 634, 635, 636, 637, 638, 639, 640, 641, 642, 643, 644, 645, 646, 647, 648, 649, 650, 651, 652, 653, 654, 655, 656, 657, 658, 659, 660, 661, 662, 663, 664, 665, 666, 667, 668, 669, 670, 671, 672, 673, 674, 675, 676, 677, 678, 679, 680, 681, 682, 683, 684, 685, 686, 687, 688, 689, 690, 691, 692, 693, 694, 695, 696, 697, 698, 699, 700, 701, 702, 703, 704, 705, 706, 707, 708, 709, 710, 711, 712, 713, 714, 715, 716, 717, 718, 719, 720, 721, 722, 723, 724, 725, 726, 727, 728, 729, 730, 731, 732, 733, 734, 735, 736, 737, 738, 739, 740, 741, 742, 743, 744, 745, 746, 747, 748, 749, 750, 751, 752, 753, 754, 755, 756, 757, 758, 759, 760, 761, 762, 763, 764, 765, 766, 767, 768, 769, 770, 771, 772, 773, 774, 775, 776, 777, 778, 779, 780, 781, 782, 783, 784, 785, 786, 787, 788, 789, 790, 791, 792, 793, 794, 795, 796, 797, 798, 799, 800, 801, 802, 803, 804, 805, 806, 807, 808, 809, 810, 811, 812, 813, 814, 815, 816, 817, 818, 819, 820, 821, 822, 823, 824, 825, 826, 827, 828, 829, 830, 831, 832, 833, 834, 835, 836, 837, 838, 839, 840, 841, 842, 843, 844, 845, 846, 847, 848, 849, 850, 851, 852, 853, 854, 855, 856, 857, 858, 859, 860, 861, 862, 863, 864, 865, 866, 867, 868, 869, 870, 871, 872, 873, 874, 875, 876, 877, 878, 879, 880, 881, 882, 883, 884, 885, 886, 887, 888, 889, 890, 891, 892, 893, 894, 895, 896, 897, 898, 899, 900, 901, 902, 903, 904, 905, 906, 907, 908, 909, 910, 911, 912, 913, 914, 915, 916, 917, 918, 919, 920, 921, 922, 923, 924, 925, 926, 927, 928, 929, 930, 931, 932, 933, 934, 935, 936, 937, 938, 939, 940, 941, 942, 943, 944, 945, 946, 947, 948, 949, 950, 951, 952, 953, 954, 955, 956, 957, 958, 959, 960, 961, 962, 963, 964, 965, 966, 967, 968, 969, 970, 971, 972, 973, 974, 975, 976, 977, 978, 979, 980, 981, 982, 983, 984, 985, 986, 987, 988, 989, 990, 991, 992, 993, 994, 995, 996, 997, 998, 999, 1000, 1001, 1002, 1003, 1004, 1005, 1006, 1007, 1008, 1009, 1010, 1011, 1012, 1013, 1014, 1015, 1016, 1017, 1018, 1019, 1020, 1021, 1022, 1023, 1024, 1025, 1026, 1027, 1028, 1029, 1030, 1031, 1032, 1033, 1034, 1035, 1036, 1037, 1038, 1039, 1040, 1041, 1042, 1043, 1044, 1045, 1046, 1047, 1048, 1049, 1050]\n"
          ]
        }
      ]
    },
    {
      "cell_type": "markdown",
      "metadata": {
        "id": "47SQtaRYE4va"
      },
      "source": [
        "# Funcion range ()\n",
        "tiene los  mismos componentes de slicing\n",
        "ini, stop, incremento\n",
        "range (1,101,1)"
      ]
    },
    {
      "cell_type": "code",
      "metadata": {
        "colab": {
          "base_uri": "https://localhost:8080/"
        },
        "id": "xubTopotE7WQ",
        "outputId": "6c98acc7-823d-4e1a-ebee-1b1eca0f1e2e"
      },
      "source": [
        "numeros = [ x for x in range (50,101)]\n",
        "print(numeros)"
      ],
      "execution_count": null,
      "outputs": [
        {
          "output_type": "stream",
          "name": "stdout",
          "text": [
            "[50, 51, 52, 53, 54, 55, 56, 57, 58, 59, 60, 61, 62, 63, 64, 65, 66, 67, 68, 69, 70, 71, 72, 73, 74, 75, 76, 77, 78, 79, 80, 81, 82, 83, 84, 85, 86, 87, 88, 89, 90, 91, 92, 93, 94, 95, 96, 97, 98, 99, 100]\n"
          ]
        }
      ]
    },
    {
      "cell_type": "markdown",
      "metadata": {
        "id": "lbPI9FZDE-XQ"
      },
      "source": [
        "# metodos disponibles de las listas"
      ]
    },
    {
      "cell_type": "code",
      "metadata": {
        "colab": {
          "base_uri": "https://localhost:8080/"
        },
        "id": "dds2EHGDE-1g",
        "outputId": "dacee402-ddad-4dba-d5c9-516aaf232e14"
      },
      "source": [
        "dir(list)"
      ],
      "execution_count": null,
      "outputs": [
        {
          "output_type": "execute_result",
          "data": {
            "text/plain": [
              "['__add__',\n",
              " '__class__',\n",
              " '__contains__',\n",
              " '__delattr__',\n",
              " '__delitem__',\n",
              " '__dir__',\n",
              " '__doc__',\n",
              " '__eq__',\n",
              " '__format__',\n",
              " '__ge__',\n",
              " '__getattribute__',\n",
              " '__getitem__',\n",
              " '__gt__',\n",
              " '__hash__',\n",
              " '__iadd__',\n",
              " '__imul__',\n",
              " '__init__',\n",
              " '__init_subclass__',\n",
              " '__iter__',\n",
              " '__le__',\n",
              " '__len__',\n",
              " '__lt__',\n",
              " '__mul__',\n",
              " '__ne__',\n",
              " '__new__',\n",
              " '__reduce__',\n",
              " '__reduce_ex__',\n",
              " '__repr__',\n",
              " '__reversed__',\n",
              " '__rmul__',\n",
              " '__setattr__',\n",
              " '__setitem__',\n",
              " '__sizeof__',\n",
              " '__str__',\n",
              " '__subclasshook__',\n",
              " 'append',\n",
              " 'clear',\n",
              " 'copy',\n",
              " 'count',\n",
              " 'extend',\n",
              " 'index',\n",
              " 'insert',\n",
              " 'pop',\n",
              " 'remove',\n",
              " 'reverse',\n",
              " 'sort']"
            ]
          },
          "metadata": {},
          "execution_count": 7
        }
      ]
    },
    {
      "cell_type": "code",
      "metadata": {
        "colab": {
          "base_uri": "https://localhost:8080/"
        },
        "id": "2tcMtXXQFJS7",
        "outputId": "2d3f972b-1698-47d4-bb12-02c14bfc1511"
      },
      "source": [
        "numeros = [4,1,15,8,22,34,50]\n",
        "print(numeros)\n",
        "numeros.append(99)\n",
        "print(numeros)\n",
        "#numeros = []\n",
        "#numeros.clear()\n",
        "print(numeros)\n",
        "\n",
        "frutas = [\"uvas\",\"kiwi\",\"manzana\"]\n",
        "copia = frutas\n",
        "print(frutas)\n",
        "print(copia)\n",
        "frutas.append(\"naranja\")\n",
        "print(frutas)\n",
        "print(copia)\n",
        "\n",
        "\n",
        "colores = [\"rojo\",\"azul\",\"blanco\"]\n",
        "copia2 = colores.copy()\n",
        "print(colores)\n",
        "print(copia2)\n",
        "colores.append(\"verde\")\n",
        "print(colores)\n",
        "print(copia2)\n",
        "\n",
        "print(\"Numero de veces que aparece el 15 = \", numeros.count(15))\n",
        "\n",
        "#extend\n",
        "\n",
        "nombres = [\"jose\", \"pedro\", \"karina\"]\n",
        "otrosNombres = [\"josue\",\"diana\",\"dalia\"]\n",
        "\n",
        "print(nombres)\n",
        "print(otrosNombres)\n",
        "nombres = nombres + otrosNombres\n",
        "print(nombres)\n",
        "print(otrosNombres)\n",
        "\n",
        "\n",
        "otrosNombres.extend([\"Jesus\",\"Maria\",\"Jose\"])\n",
        "print(otrosNombres)\n",
        "print(\"Jesus esta en la posicion: \", otrosNombres.index(\"Jesus\"))\n",
        "otrosNombres.insert(4, \"espiritu santo\")\n",
        "print(otrosNombres)\n",
        "\n",
        "resultado = otrosNombres.pop()\n",
        "print(otrosNombres)\n",
        "print(resultado)"
      ],
      "execution_count": null,
      "outputs": [
        {
          "output_type": "stream",
          "name": "stdout",
          "text": [
            "[4, 1, 15, 8, 22, 34, 50]\n",
            "[4, 1, 15, 8, 22, 34, 50, 99]\n",
            "[4, 1, 15, 8, 22, 34, 50, 99]\n",
            "['uvas', 'kiwi', 'manzana']\n",
            "['uvas', 'kiwi', 'manzana']\n",
            "['uvas', 'kiwi', 'manzana', 'naranja']\n",
            "['uvas', 'kiwi', 'manzana', 'naranja']\n",
            "['rojo', 'azul', 'blanco']\n",
            "['rojo', 'azul', 'blanco']\n",
            "['rojo', 'azul', 'blanco', 'verde']\n",
            "['rojo', 'azul', 'blanco']\n",
            "Numero de veces que aparece el 15 =  1\n",
            "['jose', 'pedro', 'karina']\n",
            "['josue', 'diana', 'dalia']\n",
            "['jose', 'pedro', 'karina', 'josue', 'diana', 'dalia']\n",
            "['josue', 'diana', 'dalia']\n",
            "['josue', 'diana', 'dalia', 'Jesus', 'Maria', 'Jose']\n",
            "Jesus esta en la posicion:  3\n",
            "['josue', 'diana', 'dalia', 'Jesus', 'espiritu santo', 'Maria', 'Jose']\n",
            "['josue', 'diana', 'dalia', 'Jesus', 'espiritu santo', 'Maria']\n",
            "Jose\n"
          ]
        }
      ]
    },
    {
      "cell_type": "markdown",
      "metadata": {
        "id": "niKtmmj_FNQI"
      },
      "source": [
        "# Tuplas\n",
        "\n",
        "### Caracteristicas de las tuplas\n",
        "- Datos agrupados\n",
        "- Estructura secuencial, indexadaa a partir de 0\n",
        "- pueden tener de 0 a n elementos\n",
        "- NO SON MUTABLES\n",
        "- Son buenas para almacenar informacion de consulta\n",
        "- puede almacenar informacion de diferentes tipos de dato\n",
        "- Pueden estar anidadas\n",
        "- Tienen metodos utiles"
      ]
    },
    {
      "cell_type": "code",
      "metadata": {
        "colab": {
          "base_uri": "https://localhost:8080/"
        },
        "id": "5FVn_H9GFQ1m",
        "outputId": "527801d9-9d33-4210-e875-1c8b24e8b219"
      },
      "source": [
        "info = (\"juan123\" , \"dios1234\" , \"123.232.1.12\")\n",
        "print(info)\n",
        "print(info[1])\n",
        "\n",
        "\n",
        "numeros = (1,2,3,4,5,6,7,8,9,10,11,12,13,14,15)\n",
        "print(numeros)\n",
        "print(numeros[5:11])\n",
        "\n",
        "cosas = (info,numeros)\n",
        "print(cosas)\n",
        "print(cosas[1][5:11:1])"
      ],
      "execution_count": null,
      "outputs": [
        {
          "output_type": "stream",
          "name": "stdout",
          "text": [
            "('juan123', 'dios1234', '123.232.1.12')\n",
            "dios1234\n",
            "(1, 2, 3, 4, 5, 6, 7, 8, 9, 10, 11, 12, 13, 14, 15)\n",
            "(6, 7, 8, 9, 10, 11)\n",
            "(('juan123', 'dios1234', '123.232.1.12'), (1, 2, 3, 4, 5, 6, 7, 8, 9, 10, 11, 12, 13, 14, 15))\n",
            "(6, 7, 8, 9, 10, 11)\n"
          ]
        }
      ]
    },
    {
      "cell_type": "markdown",
      "metadata": {
        "id": "uP4G1I2PFRtN"
      },
      "source": [
        "# Metodos de Tuplas\n",
        "\n",
        "### Son los mismos de las listas pero los que no involucren mutabilidad"
      ]
    },
    {
      "cell_type": "code",
      "metadata": {
        "colab": {
          "base_uri": "https://localhost:8080/"
        },
        "id": "dDx2EAsLFUrl",
        "outputId": "2b47c332-cb6c-4e64-b9f2-e65e409f23d8"
      },
      "source": [
        "dir(tuple)"
      ],
      "execution_count": null,
      "outputs": [
        {
          "output_type": "execute_result",
          "data": {
            "text/plain": [
              "['__add__',\n",
              " '__class__',\n",
              " '__contains__',\n",
              " '__delattr__',\n",
              " '__dir__',\n",
              " '__doc__',\n",
              " '__eq__',\n",
              " '__format__',\n",
              " '__ge__',\n",
              " '__getattribute__',\n",
              " '__getitem__',\n",
              " '__getnewargs__',\n",
              " '__gt__',\n",
              " '__hash__',\n",
              " '__init__',\n",
              " '__init_subclass__',\n",
              " '__iter__',\n",
              " '__le__',\n",
              " '__len__',\n",
              " '__lt__',\n",
              " '__mul__',\n",
              " '__ne__',\n",
              " '__new__',\n",
              " '__reduce__',\n",
              " '__reduce_ex__',\n",
              " '__repr__',\n",
              " '__rmul__',\n",
              " '__setattr__',\n",
              " '__sizeof__',\n",
              " '__str__',\n",
              " '__subclasshook__',\n",
              " 'count',\n",
              " 'index']"
            ]
          },
          "metadata": {},
          "execution_count": 9
        }
      ]
    },
    {
      "cell_type": "markdown",
      "metadata": {
        "id": "_xMGmchYFWfu"
      },
      "source": [
        "# Diccionario\n",
        "\n",
        "### Caracteristicas de los diccionarios\n",
        "\n",
        "- Agrupan datos pero de forma no lineal\n",
        "- Formado por pares del tipo llave: valor, donde:\n",
        "  - llave es de tipo atring (siempre)\n",
        "  - valor puede ser cualquier tipo de dato, incluyendo los diccionarios\n",
        "- se seleccionan con la llave de la forma: [\"id_llave\"]\n",
        "- son mutables\n",
        "- Son anidables\n",
        "- son equivalentes al tipo de dato JSON del lenguaje JavaScript (JS)\n"
      ]
    },
    {
      "cell_type": "code",
      "metadata": {
        "colab": {
          "base_uri": "https://localhost:8080/"
        },
        "id": "c2QBfRskFZ8d",
        "outputId": "c55ba319-fe51-4696-d013-f76446d5c5a4"
      },
      "source": [
        "alumno = {\"nombre\" : \"jose\"}\n",
        "print( alumno)\n",
        "print( alumno[\"nombre\"])\n",
        "alumno = {\"nombre\":\"Jose\" , \"nc\":\"2129229292\" , \"edad\":18}\n",
        "print(\"Edad del alumno = \" , alumno[\"edad\"])\n",
        "print(alumno[\"nombre\"].upper())\n",
        "\n",
        "alumno2 = dict()\n",
        "alumno2[\"nombre\"] = \"jose\"\n",
        "print(alumno2)\n",
        "alumno2[\"nc\"] = \"2129229292\"\n",
        "alumno2[\"edad\"] = 18\n",
        "print(alumno2)\n",
        "alumno2[\"edad\"] = alumno2[\"edad\"] +1\n",
        "print(alumno2)\n"
      ],
      "execution_count": null,
      "outputs": [
        {
          "output_type": "stream",
          "name": "stdout",
          "text": [
            "{'nombre': 'jose'}\n",
            "jose\n",
            "Edad del alumno =  18\n",
            "JOSE\n",
            "{'nombre': 'jose'}\n",
            "{'nombre': 'jose', 'nc': '2129229292', 'edad': 18}\n",
            "{'nombre': 'jose', 'nc': '2129229292', 'edad': 19}\n"
          ]
        }
      ]
    },
    {
      "cell_type": "code",
      "metadata": {
        "colab": {
          "base_uri": "https://localhost:8080/"
        },
        "id": "bCgDP5JqFdec",
        "outputId": "ab39e9e5-268a-4d62-880b-7682bb26d654"
      },
      "source": [
        "cliente = {\"id\":\"CT2121\",\"nombre\":\"Jose Pedroza Rosales\",\"telefono\":\"casa = 554456565 cel = 0445567767\"}\n",
        "print(cliente)\n",
        "cliente = {\"id\":\"CT2121\"\n",
        ",\"nombre\": \n",
        "{\"nombres\": [\"Jose\", \"Eduardo\"],\"paterno\":\"Pedroza\", \"materno\":\"Rosales\"}\n",
        ",\"telefonos\":{\"casa\":\"5566324234\",\"trabajo\":\"554433232\",\"celular\":\"04455234234\"}\n",
        ",\"productos\":{\"ahorro\":{ \"numero_cuenta\":\"7788\",\"ahorro\":\"2500.5\"}\n",
        "            ,\"tarjeta\":[{\"tipo\":\"debito\",\"saldo\":\"10000.5\"},{\"tipo\":\"credito preferente\",\"limite\":\"250000.5\"},{\"tipo\":\"lite\",\"limite\":\"15000.5\"}]}\n",
        "            ,\"direccion\":{\"calle\":\"Av.Central\",\"numero\":\"1245\",\"colonia\":\"Impulsora\",\"delegacion\":\"Neza\",\n",
        "                          \"estado\":{\"clave\":\"15\",\"nombre_corto\":\"EdoMex\",\"nombre\":\"Estado de Mexico\"}}}\n",
        "print(cliente[\"telefonos\"][\"casa\"])\n",
        "print(cliente)\n",
        "print(cliente[\"productos\"][\"ahorro\"][\"ahorro\"])\n",
        "print(cliente[\"productos\"][\"tarjeta\"][2][\"limite\"])\n",
        "print(cliente[\"direccion\"][\"estado\"][\"nombre\"].upper())\n",
        "#cliente[\"productos\"][\"ahorro\"][\"ahorro\"] -= 1500.0\n",
        "#print(cliente[\"productos\"])"
      ],
      "execution_count": null,
      "outputs": [
        {
          "output_type": "stream",
          "name": "stdout",
          "text": [
            "{'id': 'CT2121', 'nombre': 'Jose Pedroza Rosales', 'telefono': 'casa = 554456565 cel = 0445567767'}\n",
            "5566324234\n",
            "{'id': 'CT2121', 'nombre': {'nombres': ['Jose', 'Eduardo'], 'paterno': 'Pedroza', 'materno': 'Rosales'}, 'telefonos': {'casa': '5566324234', 'trabajo': '554433232', 'celular': '04455234234'}, 'productos': {'ahorro': {'numero_cuenta': '7788', 'ahorro': '2500.5'}, 'tarjeta': [{'tipo': 'debito', 'saldo': '10000.5'}, {'tipo': 'credito preferente', 'limite': '250000.5'}, {'tipo': 'lite', 'limite': '15000.5'}]}, 'direccion': {'calle': 'Av.Central', 'numero': '1245', 'colonia': 'Impulsora', 'delegacion': 'Neza', 'estado': {'clave': '15', 'nombre_corto': 'EdoMex', 'nombre': 'Estado de Mexico'}}}\n",
            "2500.5\n",
            "15000.5\n",
            "ESTADO DE MEXICO\n"
          ]
        }
      ]
    },
    {
      "cell_type": "code",
      "metadata": {
        "colab": {
          "base_uri": "https://localhost:8080/"
        },
        "id": "wwAYoySTJM4A",
        "outputId": "bdf19fd6-ac3f-4530-96e8-181b7545ef81"
      },
      "source": [
        "MazeRunner = {\"codigo\":\"319002\"\n",
        ",\"equipo\": \n",
        "{\"integrantes\": [\"Tomas\", \"Newt\", \"Minho\", \"Teresa\", \"Alby\", \"Gally\", \"Chuck\"],\"Sub\":\"Brenda\"}\n",
        ",\"peliculas\":{\"primera\":\"Correr o morir\",\"segunda\":\"Prueba de fuego\",\"tercera\":\"La cura mortal\"}\n",
        ",\"libros\":{\"The Maze Runner\":{ \"1ra version\":\"2009\",\"2da version\":\"2010\"}\n",
        "            ,\"Prueba de fuego\":[{\"1ra version\":\"2010\",\"2da version\":\"2011\"}]\n",
        "            ,\"La cura mortal\":[{\"1ra version\":\"2010\",\"2da version\":\"2011\",\"3ra version\":\"2013\"}]}}\n",
        "print(MazeRunner)"
      ],
      "execution_count": null,
      "outputs": [
        {
          "output_type": "stream",
          "name": "stdout",
          "text": [
            "{'codigo': '319002', 'equipo': {'integrantes': ['Tomas', 'Newt', 'Minho', 'Teresa', 'Alby', 'Gally', 'Chuck'], 'Sub': 'Brenda'}, 'peliculas': {'primera': 'Correr o morir', 'segunda': 'Prueba de fuego', 'tercera': 'La cura mortal'}, 'libros': {'The Maze Runner': {'1ra version': '2009', '2da version': '2010'}, 'Prueba de fuego': [{'1ra version': '2010', '2da version': '2011'}], 'La cura mortal': [{'1ra version': '2010', '2da version': '2011', '3ra version': '2013'}]}}\n"
          ]
        }
      ]
    },
    {
      "cell_type": "markdown",
      "metadata": {
        "id": "DtPug_XyOXBL"
      },
      "source": [
        "#Algoritmo de programaciom\n",
        "\n",
        "###Se puede crear cualquier tipo de algoritmo empleando solamente 3 estructuras de control:\n",
        "\n",
        "1. Secuencia:\n",
        "    - La representacion de la memoria de programa (Arquitectura Von Newman)\n",
        "\n",
        "2. Seleccion:\n",
        "    - Es la estructura de control que decide si un bloque de programa se ejecuta o no se ejecuta. Tambien permite seleccionar ejecutar un bloquee entre un conjunto de opciones.\n",
        "    En resumen tenemos: Seleccion simple, seleccion con bifurcacion y seleccion multiple.\n",
        "\n",
        "3. Repeticion:\n",
        "    - Este tipo de estructuras nos permite automatizar la ejecucion repetitiva mientras ciertas condiciones se cumplan\n",
        "    - Desde...hasta(estructura for)\n",
        "    - Haz mientras(estructura while)\n",
        "    - haz y luego validaz mientras(estructura do while)"
      ]
    },
    {
      "cell_type": "markdown",
      "metadata": {
        "id": "2ZvvmXj_TgQc"
      },
      "source": [
        "# seleccion simple\n",
        "-- Documentar o poner notas\n",
        "\n",
        "la estructura if\n",
        "\n",
        "ibt edad = 0;\n",
        "printf(\"dame tu edad\");\n",
        "\n",
        "scanf(\"%i\", %edad);\n",
        "\n",
        "if(edad >= 18) {\n",
        "\n",
        "  printf(\"ERES MAYOR DE EDAD\");\n",
        "}\n",
        "\n",
        "printf(\"Fin de programa\")"
      ]
    },
    {
      "cell_type": "code",
      "metadata": {
        "colab": {
          "base_uri": "https://localhost:8080/"
        },
        "id": "CQ_Jyu4VS6Cf",
        "outputId": "59607289-eb56-47bf-b9e4-6b453a71c9f2"
      },
      "source": [
        "edad = int(input(\"dame tu edad: \"))\n",
        "print(f\"tecleaste {edad} años\")\n",
        "if edad >= 18 :\n",
        "    print(\"ERES MAYOR DE EDAD\")\n",
        "    print(\"Algo\")\n",
        "    print(\"otra cosa\")\n",
        "print(\"fin del programa\")"
      ],
      "execution_count": null,
      "outputs": [
        {
          "output_type": "stream",
          "name": "stdout",
          "text": [
            "dame tu edad: 16\n",
            "tecleaste 16 años\n",
            "fin del programa\n"
          ]
        }
      ]
    },
    {
      "cell_type": "code",
      "metadata": {
        "colab": {
          "base_uri": "https://localhost:8080/"
        },
        "id": "7E2GinGbWdh3",
        "outputId": "4309d84f-2bcf-4b6e-d37e-382a307602ff"
      },
      "source": [
        "calificacion = int(input(\"cual es tu calificacion? \"))\n",
        "print(f\"tecleaste {calificacion}\")\n",
        "if calificacion > 8 :\n",
        "  print(\"aprobado\")\n",
        "print(\"fin del programa\")\n",
        "#<\n"
      ],
      "execution_count": null,
      "outputs": [
        {
          "output_type": "stream",
          "name": "stdout",
          "text": [
            "cual es tu calificacion? 10\n",
            "tecleaste 10\n",
            "aprobado\n",
            "fin del programa\n"
          ]
        }
      ]
    },
    {
      "cell_type": "code",
      "metadata": {
        "colab": {
          "base_uri": "https://localhost:8080/"
        },
        "id": "Db5KKJMjX9MY",
        "outputId": "3d10c92a-a645-4e41-888e-b50aa6d661da"
      },
      "source": [
        "sueldo = float(input(\"cual es tu sueldo? \"))\n",
        "aum = sueldo*0.15\n",
        "msue = sueldo + aum\n",
        "if sueldo < 1000 :\n",
        "  aum = sueldo*0.15\n",
        "  Msue = sueldo + aum\n",
        "  print(msue)\n",
        "print(\"fin del programa\")"
      ],
      "execution_count": null,
      "outputs": [
        {
          "output_type": "stream",
          "name": "stdout",
          "text": [
            "cual es tu sueldo? 869.5652173913044\n",
            "1000.0\n",
            "fin del programa\n"
          ]
        }
      ]
    },
    {
      "cell_type": "markdown",
      "metadata": {
        "id": "nCL29lSzGu6f"
      },
      "source": [
        "# Estructura de seleccion con bifurcacion (if-else)\n",
        "\n",
        "esta estructura selecciona una de dos opciones de ejecucion, se ejecuta un bloque si una condicion se cimple o se ejecuta otro bloque si la condicion no se cumple (else)\n",
        "\n",
        "if -condicion- \n",
        "\n",
        "  -bloque de ejecucion-\n",
        "\n",
        "else\n",
        "\n",
        "  -bloque de ejecucion alterno-"
      ]
    },
    {
      "cell_type": "code",
      "metadata": {
        "colab": {
          "base_uri": "https://localhost:8080/"
        },
        "id": "kWljuKqVHnCD",
        "outputId": "8b9e163b-d737-4862-c6d2-608a485eb932"
      },
      "source": [
        "edad = int(input(\"Dame tu edad: \"))\n",
        "print(f\"Tecleaste {edad} años\")\n",
        "if edad >=18:\n",
        "    print(\"Eres mayor de edad, ten tu cheve\")\n",
        "else:\n",
        "    print(\"Eres menor de edad, ten tu boing\")\n",
        "print(\"Fin del programa\")"
      ],
      "execution_count": null,
      "outputs": [
        {
          "output_type": "stream",
          "name": "stdout",
          "text": [
            "Dame tu edad: 19\n",
            "Tecleaste 19 años\n",
            "Eres mayor de edad, ten tu cheve\n",
            "Fin del programa\n"
          ]
        }
      ]
    },
    {
      "cell_type": "code",
      "metadata": {
        "colab": {
          "base_uri": "https://localhost:8080/"
        },
        "id": "-ys4iG5RLgKo",
        "outputId": "976aa5aa-270a-482d-b015-a7d032e86306"
      },
      "source": [
        "edad = int(input(\"Dame tu edad: \"))\n",
        "dinero = float(input(\"Cuanto dinero tienes? \"))\n",
        "print(f\"Tecleaste {edad} años\")\n",
        "print(f\"Tecleaste {dinero} pesos\")\n",
        "if edad >=18:\n",
        "    if dinero >=36:\n",
        "        print(\"Eres mayor de edad, ten tu cheve\")\n",
        "    else:\n",
        "        print(\"Eres mayor de edad, pero te quedas sin tu cheve\")\n",
        "else:\n",
        "    if dinero >=36:\n",
        "        print(\"Eres menor de edad, ten tu boing\")\n",
        "    else:\n",
        "        print(\"Eres menor de edad, pero te quedas sin un boing\")\n",
        "print(\"Fin del programa\")"
      ],
      "execution_count": null,
      "outputs": [
        {
          "output_type": "stream",
          "name": "stdout",
          "text": [
            "Dame tu edad: 1234\n",
            "Cuanto dinero tienes? 1\n",
            "Tecleaste 1234 años\n",
            "Tecleaste 1.0 pesos\n",
            "Eres mayor de edad, pero te quedas sin tu cheve\n",
            "Fin del programa\n"
          ]
        }
      ]
    },
    {
      "cell_type": "markdown",
      "metadata": {
        "id": "SxbmaI6jMsTl"
      },
      "source": [
        "El codigo anterior se puede simplificar usando una palabra reservada especial que existe en algunos lenguajes de programacion#\n",
        "\n",
        "### elif"
      ]
    },
    {
      "cell_type": "code",
      "metadata": {
        "colab": {
          "base_uri": "https://localhost:8080/"
        },
        "id": "KP2CuvBfMpx3",
        "outputId": "d9caf14c-8934-4626-b597-e095d7003b4a"
      },
      "source": [
        "edad = int(input(\"Dame tu edad: \"))\n",
        "dinero = float(input(\"Cuanto dinero tienes? \"))\n",
        "print(f\"Tecleaste {edad} años\")\n",
        "print(f\"Tecleaste {dinero} pesos\")\n",
        "if edad >=18:\n",
        "    if dinero >=36:\n",
        "        print(\"Eres mayor de edad, ten tu cheve\")\n",
        "    else:\n",
        "        print(\"Eres mayor de edad, pero te quedas sin tu cheve\")\n",
        "elif: dinero >=36:\n",
        "    print(\"Eres menor de edad, ten tu boing\")\n",
        "else:\n",
        "    print(\"Eres menor de edad, pero te quedas sin un boing\")\n",
        "print(\"Fin del programa\")"
      ],
      "execution_count": null,
      "outputs": [
        {
          "output_type": "stream",
          "name": "stdout",
          "text": [
            "Dame tu edad: 7\n",
            "Cuanto dinero tienes? 22345678\n",
            "Tecleaste 7 años\n",
            "Tecleaste 22345678.0 pesos\n",
            "Eres menor de edad, ten tu boing\n",
            "Fin del programa\n"
          ]
        }
      ]
    },
    {
      "cell_type": "code",
      "metadata": {
        "colab": {
          "base_uri": "https://localhost:8080/"
        },
        "id": "OxhOMA04Osca",
        "outputId": "f83c17d2-2ca9-475d-c5d1-958bf5fb37d0"
      },
      "source": [
        "cal = float(input(\"Dame tu calificacion: \"))\n",
        "if cal >= 8:\n",
        "    print(\"Aprobaste\")\n",
        "else:\n",
        "    print(\"Reprobaste\")\n",
        "print(\"Fin del programa\")"
      ],
      "execution_count": null,
      "outputs": [
        {
          "output_type": "stream",
          "name": "stdout",
          "text": [
            "Dame tu calificacion: 9999\n",
            "Aprobaste\n",
            "Fin del programa\n"
          ]
        }
      ]
    },
    {
      "cell_type": "code",
      "metadata": {
        "colab": {
          "base_uri": "https://localhost:8080/"
        },
        "id": "QhhPry6YPHnO",
        "outputId": "bca7dbe9-a6c8-4c8f-9ed9-b40191692e35"
      },
      "source": [
        "sue = float(input(\"Escribe tu sueldo: \"))\n",
        "aum = 0\n",
        "nsue = 0\n",
        "\n",
        "if sue < 1000:\n",
        "    aum = sue* 0.15\n",
        "    nsue = sue + aum\n",
        "else:\n",
        "    aum = sue*0.12\n",
        "    nsue = sue + aum \n",
        "print(nsue)"
      ],
      "execution_count": null,
      "outputs": [
        {
          "output_type": "stream",
          "name": "stdout",
          "text": [
            "Escribe tu sueldo: 1229393939833243422344334344334234\n",
            "1.3769212126132325e+33\n"
          ]
        }
      ]
    },
    {
      "cell_type": "markdown",
      "metadata": {
        "id": "EJQeRawPSEW1"
      },
      "source": [
        "# ejercicio if-else\n",
        "### Hacer u  programa que solicite el dia de la semana en un valor numerico entero del 1 al 7 (avisarle al usuario si proporciono un valor fuera del rango)\n",
        "\n",
        "### posteriormente imprimira el dia de la semana correspondiente al numero capturado\n",
        "1. lunes\n",
        "2. martes\n",
        "3. miercoles\n",
        "4. jueves\n",
        "5. viernes\n",
        "6. sabado\n",
        "7. domingo"
      ]
    },
    {
      "cell_type": "code",
      "metadata": {
        "colab": {
          "base_uri": "https://localhost:8080/"
        },
        "id": "jYeod0kISCqh",
        "outputId": "37c49669-5ec8-4e65-bd92-9777888e2a17"
      },
      "source": [
        "dia = int(input(\"Dame un dia de la semana representandolo del 1 al 7: \"))\n",
        "if dia is 1:\n",
        "    print(\"Lunes\")\n",
        "elif dia is 2:\n",
        "    print(\"Martes\")\n",
        "elif dia is 3:\n",
        "    print(\"Miercoles\")\n",
        "elif dia is 4:\n",
        "    print(\"Jueves\")\n",
        "elif dia is 5:\n",
        "    print(\"Viernes\")\n",
        "elif dia is 6:\n",
        "    print(\"Sabado\")\n",
        "elif dia is 7:\n",
        "    print(\"Domingo\")\n",
        "else:\n",
        "    print(\"Tiene que ser un numero del 1 al 7\")\n",
        "print(\"Fin del programa\")"
      ],
      "execution_count": null,
      "outputs": [
        {
          "output_type": "stream",
          "name": "stdout",
          "text": [
            "Dame un dia de la semana representandolo del 1 al 7: 5\n",
            "Viernes\n",
            "Fin del programa\n"
          ]
        }
      ]
    },
    {
      "cell_type": "code",
      "metadata": {
        "colab": {
          "base_uri": "https://localhost:8080/"
        },
        "id": "zR7MSvKNUVtR",
        "outputId": "875db032-6432-4be0-c539-e1ec4735141a"
      },
      "source": [
        "dia = int(input(\"Ingresa un numero entre 1 y 7: \"))\n",
        "print(f\"Capturaste el numero: {dia} \")\n",
        "\n",
        "if dia >=1 and dia <=7:\n",
        "    if dia == 1:\n",
        "        print(\"Lunes\")\n",
        "    else:\n",
        "        if dia == 2:\n",
        "            print(\"Martes\")\n",
        "        else:\n",
        "            if dia == 3:\n",
        "                print(\"Miercoles\")\n",
        "            else:\n",
        "                if dia == 4:\n",
        "                    print(\"Jueves\")\n",
        "                else:\n",
        "                    if dia == 5:\n",
        "                        print(\"Viernes\")\n",
        "                    else:\n",
        "                        if dia == 6:\n",
        "                            print(\"Sabado\")\n",
        "                        else:\n",
        "                            print(\"Domingo\")\n",
        "else:\n",
        "    print(\"Ese numero no esta dentro del rango solicitado\")"
      ],
      "execution_count": null,
      "outputs": [
        {
          "output_type": "stream",
          "name": "stdout",
          "text": [
            "Ingresa un numero entre 1 y 7: 4\n",
            "Capturaste el numero: 4 \n",
            "Jueves\n"
          ]
        }
      ]
    },
    {
      "cell_type": "markdown",
      "metadata": {
        "id": "6kuYMfI_Zj5u"
      },
      "source": [
        "# Ejercicios de tarea\n",
        "### 1. Hacer un programa que pida 2 numeros enteros y que imprima en pantalla lo siguiente\n",
        "\n",
        "1. cual de ellos es el numero mayor\n",
        "2. cual de ellos es el numero menor\n",
        "\n",
        "o en su defecto imprimir que los valores son iguales\n",
        "\n",
        "### 2. Hacer un programa que solicite 3 numeros enteros diferentes entre si y que imprima cual de los 3 es el mayor\n",
        "\n",
        "### 3. Hacer un programa que solicite 3 numeros enteros diferentes entre si y que imprima cual de los 3 es el menor\n",
        "\n",
        "### 4. Hacer un programa que solicite 4 numeros enteros diferentes entre si e imprima a la salida cual de ellos es el menor y cual de ellos es el mayor\n",
        "\n",
        "\n"
      ]
    },
    {
      "cell_type": "markdown",
      "metadata": {
        "id": "POqWvzYhbsOu"
      },
      "source": [
        "# Seleccion multiple (switch)\n",
        "En python no existe la estructura de seleccion switch, en su lugar  se emplea la palabra reservada: \n",
        "# "
      ]
    },
    {
      "cell_type": "code",
      "metadata": {
        "colab": {
          "base_uri": "https://localhost:8080/"
        },
        "id": "TR_1MEgfWrqI",
        "outputId": "a92c4eed-3f1f-4001-e652-189124cb1e14"
      },
      "source": [
        "num = int(input(\"Dame un numero entre 1 y 3: \"))\n",
        "V = float(input(\"Dame un valor float: \"))\n",
        "val = 0\n",
        "if num == 1:\n",
        "    val = 100*V\n",
        "elif num == 2:\n",
        "    val = 100 ** V \n",
        "else:\n",
        "    val = 0\n",
        "\n",
        "print(val)"
      ],
      "execution_count": null,
      "outputs": [
        {
          "output_type": "stream",
          "name": "stdout",
          "text": [
            "Dame un numero entre 1 y 3: 1\n",
            "Dame un valor float: 1\n",
            "100.0\n"
          ]
        }
      ]
    }
  ]
}