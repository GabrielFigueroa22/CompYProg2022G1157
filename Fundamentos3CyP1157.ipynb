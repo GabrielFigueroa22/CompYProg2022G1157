{
  "nbformat": 4,
  "nbformat_minor": 0,
  "metadata": {
    "colab": {
      "name": "Fundamentos3CyP1157.ipynb",
      "provenance": [],
      "authorship_tag": "ABX9TyOeIuNy0R9m24XTOlg3GbSn",
      "include_colab_link": true
    },
    "kernelspec": {
      "name": "python3",
      "display_name": "Python 3"
    },
    "language_info": {
      "name": "python"
    }
  },
  "cells": [
    {
      "cell_type": "markdown",
      "metadata": {
        "id": "view-in-github",
        "colab_type": "text"
      },
      "source": [
        "<a href=\"https://colab.research.google.com/github/GabrielFigueroa22/CompYProg2022G1157/blob/main/Fundamentos3CyP1157.ipynb\" target=\"_parent\"><img src=\"https://colab.research.google.com/assets/colab-badge.svg\" alt=\"Open In Colab\"/></a>"
      ]
    },
    {
      "cell_type": "markdown",
      "metadata": {
        "id": "shvwKUoVFjfO"
      },
      "source": [
        "Repeticion:     \n",
        "\n",
        "Este tipo de estructura nos p\n",
        "\n",
        "```\n",
        "# Esto tiene formato de código\n",
        "```\n",
        "\n",
        "ermite automatizar la ejecución repetitiva de código mientas ciertas condiciones s cumplan, tenemos 3 variantes de esta estructura en todos los lenguajes de programación:\n",
        "\n",
        "- Desde...hasta (estructura for)\n",
        "- haz mientras (structura While)\n",
        "- haz y luego validaz mientras( estructura Do-While)\n",
        "\n",
        "# FOR con Python\n",
        "\n",
        "```\n",
        "for j in range (10):    \n",
        "    print(f\"Hola { j }\")\n",
        "\n",
        "```\n",
        "# FOR con leng C y/o Java\n",
        "```\n",
        "for( int j=0 ; jmenorque10 ; j=j+1 ) {\n",
        "    printf(\"Hola%i /n\", j);\n",
        "}\n",
        "```\n",
        "\n",
        "En todos los lenguajes de programacion existe un tipo especial de for conocido como for each\n",
        "\n",
        "# For-each en Python\n",
        "```\n",
        "for oolor in colores:    \n",
        "    print(f\"Este es el color {color}\")\n",
        "```\n",
        "\n"
      ]
    },
    {
      "cell_type": "code",
      "metadata": {
        "colab": {
          "base_uri": "https://localhost:8080/"
        },
        "id": "wOPFiRd3FQt-",
        "outputId": "cf83b663-f086-46c7-9994-3077675d1ff9"
      },
      "source": [
        "# funcion range\n",
        "# range(-inicio-,-stop-,-incremento-)\n",
        "x = range(0,10,2)\n",
        "print(x)\n",
        "\n",
        "for j in range(10):\n",
        "    print(f\"Hola {j}\")\n",
        "print(\"-.-.-.-.-.-\")\n",
        "for j in range(0,10,2):\n",
        "    print(f\"Hola {j}\")\n",
        "print(\"-.-.-.-.-.-\")\n",
        "\n",
        "frutas = (\"uva\",\"aguacate\",\"pera\",\"manzana\",\"sandia\")\n",
        "print(frutas[0])\n",
        "print(frutas[1])\n",
        "print(frutas[2])\n",
        "print(frutas[3])\n",
        "print(frutas[4])\n",
        "\n",
        "print(\"------frutas-----\")\n",
        "for index in range(5):\n",
        "    print(frutas[index])\n",
        "\n",
        "print(\"-.-.-.-.-.-\")\n",
        "for i in range(5):\n",
        "    print(\"+++++\")"
      ],
      "execution_count": null,
      "outputs": [
        {
          "output_type": "stream",
          "name": "stdout",
          "text": [
            "range(0, 10, 2)\n",
            "Hola 0\n",
            "Hola 1\n",
            "Hola 2\n",
            "Hola 3\n",
            "Hola 4\n",
            "Hola 5\n",
            "Hola 6\n",
            "Hola 7\n",
            "Hola 8\n",
            "Hola 9\n",
            "-.-.-.-.-.-\n",
            "Hola 0\n",
            "Hola 2\n",
            "Hola 4\n",
            "Hola 6\n",
            "Hola 8\n",
            "-.-.-.-.-.-\n",
            "uva\n",
            "aguacate\n",
            "pera\n",
            "manzana\n",
            "sandia\n",
            "------frutas-----\n",
            "uva\n",
            "aguacate\n",
            "pera\n",
            "manzana\n",
            "sandia\n",
            "-.-.-.-.-.-\n",
            "+++++\n",
            "+++++\n",
            "+++++\n",
            "+++++\n",
            "+++++\n"
          ]
        }
      ]
    },
    {
      "cell_type": "code",
      "metadata": {
        "id": "4Sf58VCeLeLh"
      },
      "source": [
        "for x in range (1,20,1):\n",
        "    print(x)\n",
        "print(\"Fin del programa\")\n",
        "\n",
        "for x in range (19,0,-1):\n",
        "    print(x)\n",
        "print(\"Fin del prgrama\")"
      ],
      "execution_count": null,
      "outputs": []
    },
    {
      "cell_type": "code",
      "metadata": {
        "colab": {
          "base_uri": "https://localhost:8080/"
        },
        "id": "OY8uvr_GNxK8",
        "outputId": "72ba66af-e700-4bc2-9382-5fa73fdda0d5"
      },
      "source": [
        "# ejmeplo 3.3\n",
        "cuecer = 0\n",
        "num = 0\n",
        "N = int(input(\"Un valor numerico mayor a 1: \"))\n",
        "for I in range(1,N+1,1):\n",
        "    N = int(input(\"un valor numerico mayor a 1: \"))\n",
        "    if N == 0:\n",
        "        cuecer += 1\n",
        "print(\"CUECER\", cuecer)\n",
        "print(\"Fin del programa\") "
      ],
      "execution_count": null,
      "outputs": [
        {
          "output_type": "stream",
          "name": "stdout",
          "text": [
            "Un valor numerico mayor a 1: 6\n",
            "un valor numerico mayor a 1: 90\n",
            "un valor numerico mayor a 1: 09\n",
            "un valor numerico mayor a 1: 90\n",
            "un valor numerico mayor a 1: 09\n",
            "un valor numerico mayor a 1: 90\n",
            "un valor numerico mayor a 1: 09\n",
            "CUECER 0\n",
            "Fin del programa\n"
          ]
        }
      ]
    },
    {
      "cell_type": "code",
      "metadata": {
        "colab": {
          "base_uri": "https://localhost:8080/"
        },
        "id": "TQyQvCz1Uj2l",
        "outputId": "8ada4daa-ce9e-4589-8c01-a4899a9f7d67"
      },
      "source": [
        "A=int(input(\"Dame un valor entre 1 y 5: \"))\n",
        "if A>0 and A<6:\n",
        "    B=int(input(f\"Dame un valor entre el {A+1} y 10: \"))\n",
        "    if B> A and B<11:\n",
        "        for x in range( A, B+1):\n",
        "            for y in range(0,11):\n",
        "                print(f\"{x} x {y} = \", x*y)\n",
        "            print(\"------------------------------------------------------------\")\n",
        "    else:\n",
        "        print(f\"Un valor entre el {A+1} y el 10, intenta de nuevo\")\n",
        "else:\n",
        "    print(\"Un valor entre el 1 y el 5, intenta de nuevo\")"
      ],
      "execution_count": null,
      "outputs": [
        {
          "output_type": "stream",
          "name": "stdout",
          "text": [
            "Dame un valor entre 1 y 5: 2\n",
            "Dame un valor entre el 3 y 10: 3\n",
            "2 x 0 =  0\n",
            "2 x 1 =  2\n",
            "2 x 2 =  4\n",
            "2 x 3 =  6\n",
            "2 x 4 =  8\n",
            "2 x 5 =  10\n",
            "2 x 6 =  12\n",
            "2 x 7 =  14\n",
            "2 x 8 =  16\n",
            "2 x 9 =  18\n",
            "2 x 10 =  20\n",
            "------------------------------------------------------------\n",
            "3 x 0 =  0\n",
            "3 x 1 =  3\n",
            "3 x 2 =  6\n",
            "3 x 3 =  9\n",
            "3 x 4 =  12\n",
            "3 x 5 =  15\n",
            "3 x 6 =  18\n",
            "3 x 7 =  21\n",
            "3 x 8 =  24\n",
            "3 x 9 =  27\n",
            "3 x 10 =  30\n",
            "------------------------------------------------------------\n"
          ]
        }
      ]
    },
    {
      "cell_type": "code",
      "metadata": {
        "colab": {
          "base_uri": "https://localhost:8080/"
        },
        "id": "AT80avCERec7",
        "outputId": "253feecf-84f1-4054-ed1d-aef9961b50c8"
      },
      "source": [
        "# generadores de listas\n",
        "numeros = [0,0,0,0,0]\n",
        "print(numeros) \n",
        "numeros = [0 for x in range(5) ]\n",
        "print(numeros)\n",
        "# empleando la variable de control x para el valor inicial\n",
        "numeros = [x for x in range(5) ]\n",
        "print(numeros)\n",
        "print(\".-.-.-.-.-.-.\")\n",
        "numeros = [ x for x in range(10,101,10) ]\n",
        "print(numeros)\n",
        "print(\".-.-.-.-.-.-.\")\n",
        "numeros = [x*10 for x in range(1,11) ]\n",
        "print(numeros)"
      ],
      "execution_count": null,
      "outputs": [
        {
          "output_type": "stream",
          "name": "stdout",
          "text": [
            "[0, 0, 0, 0, 0]\n",
            "[0, 0, 0, 0, 0]\n",
            "[0, 1, 2, 3, 4]\n",
            ".-.-.-.-.-.-.\n",
            "[10, 20, 30, 40, 50, 60, 70, 80, 90, 100]\n",
            ".-.-.-.-.-.-.\n",
            "[10, 20, 30, 40, 50, 60, 70, 80, 90, 100]\n"
          ]
        }
      ]
    },
    {
      "cell_type": "code",
      "metadata": {
        "colab": {
          "base_uri": "https://localhost:8080/"
        },
        "id": "SXfdy5x2YQxH",
        "outputId": "4bf6ca57-2cd9-41a6-f3d6-26edecb75302"
      },
      "source": [
        "#ejercicio: calcular promedio de edades\n",
        "edades = [ 0 for x in range(5)]\n",
        "print(edades                                                                                                                                          )"
      ],
      "execution_count": null,
      "outputs": [
        {
          "output_type": "stream",
          "name": "stdout",
          "text": [
            "[0, 0, 0, 0, 0]\n"
          ]
        }
      ]
    },
    {
      "cell_type": "code",
      "metadata": {
        "colab": {
          "base_uri": "https://localhost:8080/"
        },
        "id": "_LmWmcwpa8Oo",
        "outputId": "7f740aea-2b8c-48d1-b947-3c740cdff103"
      },
      "source": [
        "SUM = 0\n",
        "edades = [0 for x in range(5)]\n",
        "for x in range(5):\n",
        "    edades[x]= int(input(\"Introduce una edad: \"))\n",
        "    SUM = SUM + edades[x]\n",
        "    PROM = SUM/5\n",
        "print(edades)\n",
        "print(\"El promedio de edades es: \", PROM)\n",
        "\n"
      ],
      "execution_count": null,
      "outputs": [
        {
          "output_type": "stream",
          "name": "stdout",
          "text": [
            "Introduce una edad: 123\n",
            "Introduce una edad: 321\n",
            "Introduce una edad: 123\n",
            "Introduce una edad: 321\n",
            "Introduce una edad: 2\n",
            "[123, 321, 123, 321, 2]\n",
            "El promedio de edades es:  178.0\n"
          ]
        }
      ]
    },
    {
      "cell_type": "code",
      "metadata": {
        "colab": {
          "base_uri": "https://localhost:8080/"
        },
        "id": "9MHsxVAccQsv",
        "outputId": "79031023-80ef-4ce5-b263-bcd2ee307e80"
      },
      "source": [
        "import random\n",
        "print(random.random())\n",
        "print(random.uniform(5,11))\n",
        "val = round(random.uniform(5,11) , 2)\n",
        "print(val)\n",
        "\n",
        "valores = [round(random.uniform(5,11),2) for x in range(20)]\n",
        "print(valores)"
      ],
      "execution_count": null,
      "outputs": [
        {
          "output_type": "stream",
          "name": "stdout",
          "text": [
            "0.6881133988015078\n",
            "8.132243403386376\n",
            "8.33\n",
            "[8.38, 10.92, 7.85, 9.64, 8.26, 5.74, 8.57, 9.05, 5.63, 8.54, 6.19, 6.66, 9.16, 6.61, 6.22, 10.15, 8.59, 5.3, 5.81, 6.13]\n"
          ]
        }
      ]
    }
  ]
}