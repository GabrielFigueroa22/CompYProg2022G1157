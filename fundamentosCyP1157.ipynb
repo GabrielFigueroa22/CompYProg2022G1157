{
  "nbformat": 4,
  "nbformat_minor": 0,
  "metadata": {
    "colab": {
      "name": "fundamentosCyP1157.ipynb",
      "provenance": [],
      "collapsed_sections": [],
      "authorship_tag": "ABX9TyPhfwsVOFOTX2qqk1dUOeF6",
      "include_colab_link": true
    },
    "kernelspec": {
      "name": "python3",
      "display_name": "Python 3"
    },
    "language_info": {
      "name": "python"
    }
  },
  "cells": [
    {
      "cell_type": "markdown",
      "metadata": {
        "id": "view-in-github",
        "colab_type": "text"
      },
      "source": [
        "<a href=\"https://colab.research.google.com/github/GabrielFigueroa22/CompYProg2022G1157/blob/main/fundamentosCyP1157.ipynb\" target=\"_parent\"><img src=\"https://colab.research.google.com/assets/colab-badge.svg\" alt=\"Open In Colab\"/></a>"
      ]
    },
    {
      "cell_type": "code",
      "metadata": {
        "colab": {
          "base_uri": "https://localhost:8080/"
        },
        "id": "OHsiTnzBV6Dk",
        "outputId": "5c20ce61-c99b-4f74-b041-4e86104919b6"
      },
      "source": [
        "nombre = 'Jose' # tipo de dato String (cadena de caracteres)\n",
        "\n",
        "print( nombre )"
      ],
      "execution_count": null,
      "outputs": [
        {
          "output_type": "stream",
          "name": "stdout",
          "text": [
            "Jose\n"
          ]
        }
      ]
    },
    {
      "cell_type": "markdown",
      "metadata": {
        "id": "eBtHg2wxXLPm"
      },
      "source": [
        "# Tipos de datos en Python\n",
        "\n",
        "### Tipos de datos Simples\n",
        "- str -- String cadena de caracteres.\n",
        "- int -- Numeros enteros\n",
        "- float -- Numeros con notacion de punto flotante\n",
        "- complex -- Numeros complejos \n",
        "- bool -- Boleano ( True o Fals )\n",
        "- bait -- 8 bits\n",
        "\n",
        "### Tipos de datos Estructurados (compuestos)\n",
        "- list -- Listas ( Arreglos en otros leng )\n",
        "- tuple -- Listas no Mutables\n",
        "- dict -- Diccionarios\n",
        "- set y frozenset -- Conjuntos\n"
      ]
    },
    {
      "cell_type": "code",
      "metadata": {
        "colab": {
          "base_uri": "https://localhost:8080/"
        },
        "id": "RoVKPcLjaTcr",
        "outputId": "d6dba98f-275d-409e-8a5b-50c2dd2416f8"
      },
      "source": [
        "import sys\n",
        "\n",
        "edad = 19\n",
        "print( \"tu edad es:\" , edad ) # al final de una linea de cosigo\n",
        "# este es un comentario de linea simple\n",
        "\n",
        "\"\"\"\n",
        "Comentario de multiple linea\n",
        "En lenguaje C++ y Java el comentario de multiple linea es con\n",
        "/* ..... */\n",
        "\n",
        "En lenguaje C++ y Java el comentario de una sola linea es con\n",
        "\n",
        "//\n",
        "\n",
        "Aqui puedes explicar en prosa el segmento de un codigo para futura referencia\n",
        "\n",
        "\"\"\"\n",
        "# Tipos de datos numericos int y float \n",
        "\n",
        "print (  sys.getsizeof ( edad )  )\n",
        "# el tipo de dato INT utiliza diferente cantidad de bits segun el leg de prog. \n",
        "# por ejemplo en C utiliza 16 bits\n",
        "\n",
        "edad = edad + 1\n",
        "print( edad )\n",
        "\n",
        "estatura = 1.56\n",
        "print ( estatura )\n",
        "print (  sys.getsizeof ( estatura )  )\n",
        "estatura = estatura + 0.1\n",
        "print ( estatura )\n",
        "print ( round( estatura,2 ) )\n",
        "\n",
        "edad += 1  # edad = edad + 1\n",
        "print( \"tu edad es:\" , edad )\n",
        "\n",
        "edad -= 1  # edad = edad - 1\n",
        "print( \"tu edad es:\" , edad )\n",
        "\n",
        "edad += 1 # vuelve a 21\n",
        "edad /= 2  # edad = edad / 2\n",
        "print( \"la mitad de tu edad es:\" , edad )\n",
        "\n",
        "\n",
        "edad = 21\n",
        "# volver a calcular la mitad de la edad pero solo dejar la parte entera\n",
        "edad = edad // 2\n",
        "print( \"la mitad de tu edad es:\" , edad )\n",
        "\n",
        "\n",
        "# En la mayoria de los lenguajes no permite operaciones entre diferentes tipos\n",
        "# de datos, en Python\n",
        "\n",
        "numero = edad / 2.0\n",
        "print( numero )\n",
        "\n",
        "numero *=  3\n",
        "print( numero )\n",
        "\n",
        "numero = 5.0\n",
        "numero **= 3\n",
        "print( numero )\n"
      ],
      "execution_count": null,
      "outputs": [
        {
          "output_type": "stream",
          "name": "stdout",
          "text": [
            "tu edad es: 19\n",
            "28\n",
            "20\n",
            "1.56\n",
            "24\n",
            "1.6600000000000001\n",
            "1.66\n",
            "tu edad es: 21\n",
            "tu edad es: 20\n",
            "la mitad de tu edad es: 10.5\n",
            "la mitad de tu edad es: 10\n",
            "5.0\n",
            "15.0\n",
            "125.0\n",
            "10.5\n"
          ]
        }
      ]
    },
    {
      "cell_type": "markdown",
      "metadata": {
        "id": "pK3C1JqSbxDs"
      },
      "source": [
        "# Tarea\n",
        "Hacer un resumen de minimo 1 cuartilla de los origenes del lenguaje Python\n",
        "\n",
        "- ¿Por que de su creacion?\n",
        "- Caracteristicas principales.\n",
        "- Diferencias con otros lenguajes\n",
        "\n",
        "Forma de entrega: A mano en un cuaderno, sacarle foto (Scanner) y subir  la foto."
      ]
    },
    {
      "cell_type": "code",
      "metadata": {
        "colab": {
          "base_uri": "https://localhost:8080/"
        },
        "id": "4THgAM1_lyre",
        "outputId": "12df6a03-8ba7-4f0f-98a1-c908030186a8"
      },
      "source": [
        "# operador modulo\n",
        "numero = 21\n",
        "print( numero / 2 )\n",
        "print( numero // 2 )\n",
        "\n",
        "# el operador modulo da como resultado el residuo de una division entera\n",
        "print( numero % 2 )\n",
        "\n",
        "numero = 24\n",
        "print( \"Residuo de 24 / 5 es: \" , numero % 5 )\n",
        "\n",
        "print( \"24 es par? = \" , numero % 2 == 0)\n",
        "\n",
        "# diferencia\n",
        "print( \"24 es diferente de 23 =\" , numero != 23 )\n",
        "# print( 24 es mayor que 23 )\n",
        "# print( 24 es menor que 23 )\n",
        "\n",
        "# print( 24 mayor o igual que 23 )\n",
        "# print( 24 menor o igual que 23 )\n"
      ],
      "execution_count": null,
      "outputs": [
        {
          "output_type": "stream",
          "name": "stdout",
          "text": [
            "10.5\n",
            "10\n",
            "1\n",
            "Residuo de 24 / 5 es:  4\n",
            "24 es par? =  True\n",
            "24 es diferente de 23 = True\n"
          ]
        }
      ]
    },
    {
      "cell_type": "markdown",
      "metadata": {
        "id": "PmNadmgCpkXY"
      },
      "source": [
        "# Tipo de dato String (str) en Python\n",
        "\n",
        "- Se maneja como un arreglo ( tipo de dato compuesto )\n",
        "- se puede acceder a los elementos de el string por medio del indice del caracter.\n",
        "- Mutable\n",
        "- Tiene metodos utiles ( potentes )\n",
        "- Slicing"
      ]
    },
    {
      "cell_type": "code",
      "metadata": {
        "colab": {
          "base_uri": "https://localhost:8080/"
        },
        "id": "xrlfgM_8qE68",
        "outputId": "cc2d18dd-f101-4413-faa0-9644f4430090"
      },
      "source": [
        "nombre = 'jose'\n",
        "carrera = 'Ingenieria en computacion'\n",
        "frase = \"\"\" El conocimiento me persiigue,...\n",
        "pero\n",
        "yo soy mas rapido\n",
        "\"\"\"\n",
        "print ( nombre )\n",
        "print ( carrera )\n",
        "print ( frase )\n",
        "\n",
        "# La funcion type de Python te devuelve el tipo de dato de una variableb (o e)\n",
        "print ( type ( nombre ) )\n",
        "\n",
        "paterno = str ( 'Perez' )\n",
        "print ( paterno )"
      ],
      "execution_count": null,
      "outputs": [
        {
          "output_type": "stream",
          "name": "stdout",
          "text": [
            "jose\n",
            "Ingenieria en computacion\n",
            " El conocimiento me persiigue,...\n",
            "pero\n",
            "yo soy mas rapido\n",
            "\n",
            "<class 'str'>\n",
            "Perez\n"
          ]
        }
      ]
    }
  ]
}