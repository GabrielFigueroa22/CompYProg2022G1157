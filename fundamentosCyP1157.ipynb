{
  "nbformat": 4,
  "nbformat_minor": 0,
  "metadata": {
    "colab": {
      "name": "fundamentosCyP1157.ipynb",
      "provenance": [],
      "collapsed_sections": [],
      "authorship_tag": "ABX9TyN28X47Djnm1worvBEdbx8Z",
      "include_colab_link": true
    },
    "kernelspec": {
      "name": "python3",
      "display_name": "Python 3"
    },
    "language_info": {
      "name": "python"
    }
  },
  "cells": [
    {
      "cell_type": "markdown",
      "metadata": {
        "id": "view-in-github",
        "colab_type": "text"
      },
      "source": [
        "<a href=\"https://colab.research.google.com/github/GabrielFigueroa22/CompYProg2022G1157/blob/main/fundamentosCyP1157.ipynb\" target=\"_parent\"><img src=\"https://colab.research.google.com/assets/colab-badge.svg\" alt=\"Open In Colab\"/></a>"
      ]
    },
    {
      "cell_type": "code",
      "metadata": {
        "colab": {
          "base_uri": "https://localhost:8080/"
        },
        "id": "OHsiTnzBV6Dk",
        "outputId": "5c20ce61-c99b-4f74-b041-4e86104919b6"
      },
      "source": [
        "nombre = 'Jose' # tipo de dato String (cadena de caracteres)\n",
        "\n",
        "print( nombre )"
      ],
      "execution_count": null,
      "outputs": [
        {
          "output_type": "stream",
          "name": "stdout",
          "text": [
            "Jose\n"
          ]
        }
      ]
    },
    {
      "cell_type": "markdown",
      "metadata": {
        "id": "eBtHg2wxXLPm"
      },
      "source": [
        "# Tipos de datos en Python\n",
        "\n",
        "### Tipos de datos Simples\n",
        "- str -- String cadena de caracteres.\n",
        "- int -- Numeros enteros\n",
        "- float -- Numeros con notacion de punto flotante\n",
        "- complex -- Numeros complejos \n",
        "- bool -- Boleano ( True o Fals )\n",
        "- bait -- 8 bits\n",
        "\n",
        "### Tipos de datos Estructurados (compuestos)\n",
        "- list -- Listas ( Arreglos en otros leng )\n",
        "- tuple -- Listas no Mutables\n",
        "- dict -- Diccionarios\n",
        "- set y frozenset -- Conjuntos\n"
      ]
    },
    {
      "cell_type": "code",
      "metadata": {
        "colab": {
          "base_uri": "https://localhost:8080/"
        },
        "id": "RoVKPcLjaTcr",
        "outputId": "d6dba98f-275d-409e-8a5b-50c2dd2416f8"
      },
      "source": [
        "import sys\n",
        "\n",
        "edad = 19\n",
        "print( \"tu edad es:\" , edad ) # al final de una linea de cosigo\n",
        "# este es un comentario de linea simple\n",
        "\n",
        "\"\"\"\n",
        "Comentario de multiple linea\n",
        "En lenguaje C++ y Java el comentario de multiple linea es con\n",
        "/* ..... */\n",
        "\n",
        "En lenguaje C++ y Java el comentario de una sola linea es con\n",
        "\n",
        "//\n",
        "\n",
        "Aqui puedes explicar en prosa el segmento de un codigo para futura referencia\n",
        "\n",
        "\"\"\"\n",
        "# Tipos de datos numericos int y float \n",
        "\n",
        "print (  sys.getsizeof ( edad )  )\n",
        "# el tipo de dato INT utiliza diferente cantidad de bits segun el leg de prog. \n",
        "# por ejemplo en C utiliza 16 bits\n",
        "\n",
        "edad = edad + 1\n",
        "print( edad )\n",
        "\n",
        "estatura = 1.56\n",
        "print ( estatura )\n",
        "print (  sys.getsizeof ( estatura )  )\n",
        "estatura = estatura + 0.1\n",
        "print ( estatura )\n",
        "print ( round( estatura,2 ) )\n",
        "\n",
        "edad += 1  # edad = edad + 1\n",
        "print( \"tu edad es:\" , edad )\n",
        "\n",
        "edad -= 1  # edad = edad - 1\n",
        "print( \"tu edad es:\" , edad )\n",
        "\n",
        "edad += 1 # vuelve a 21\n",
        "edad /= 2  # edad = edad / 2\n",
        "print( \"la mitad de tu edad es:\" , edad )\n",
        "\n",
        "\n",
        "edad = 21\n",
        "# volver a calcular la mitad de la edad pero solo dejar la parte entera\n",
        "edad = edad // 2\n",
        "print( \"la mitad de tu edad es:\" , edad )\n",
        "\n",
        "\n",
        "# En la mayoria de los lenguajes no permite operaciones entre diferentes tipos\n",
        "# de datos, en Python\n",
        "\n",
        "numero = edad / 2.0\n",
        "print( numero )\n",
        "\n",
        "numero *=  3\n",
        "print( numero )\n",
        "\n",
        "numero = 5.0\n",
        "numero **= 3\n",
        "print( numero )\n"
      ],
      "execution_count": null,
      "outputs": [
        {
          "output_type": "stream",
          "name": "stdout",
          "text": [
            "tu edad es: 19\n",
            "28\n",
            "20\n",
            "1.56\n",
            "24\n",
            "1.6600000000000001\n",
            "1.66\n",
            "tu edad es: 21\n",
            "tu edad es: 20\n",
            "la mitad de tu edad es: 10.5\n",
            "la mitad de tu edad es: 10\n",
            "5.0\n",
            "15.0\n",
            "125.0\n",
            "10.5\n"
          ]
        }
      ]
    },
    {
      "cell_type": "markdown",
      "metadata": {
        "id": "pK3C1JqSbxDs"
      },
      "source": [
        "# Tarea\n",
        "Hacer un resumen de minimo 1 cuartilla de los origenes del lenguaje Python\n",
        "\n",
        "- ¿Por que de su creacion?\n",
        "- Caracteristicas principales.\n",
        "- Diferencias con otros lenguajes\n",
        "\n",
        "Forma de entrega: A mano en un cuaderno, sacarle foto (Scanner) y subir  la foto."
      ]
    },
    {
      "cell_type": "code",
      "metadata": {
        "colab": {
          "base_uri": "https://localhost:8080/"
        },
        "id": "4THgAM1_lyre",
        "outputId": "12df6a03-8ba7-4f0f-98a1-c908030186a8"
      },
      "source": [
        "# operador modulo\n",
        "numero = 21\n",
        "print( numero / 2 )\n",
        "print( numero // 2 )\n",
        "\n",
        "# el operador modulo da como resultado el residuo de una division entera\n",
        "print( numero % 2 )\n",
        "\n",
        "numero = 24\n",
        "print( \"Residuo de 24 / 5 es: \" , numero % 5 )\n",
        "\n",
        "print( \"24 es par? = \" , numero % 2 == 0)\n",
        "\n",
        "# diferencia\n",
        "print( \"24 es diferente de 23 =\" , numero != 23 )\n",
        "# print( 24 es mayor que 23 )\n",
        "# print( 24 es menor que 23 )\n",
        "\n",
        "# print( 24 mayor o igual que 23 )\n",
        "# print( 24 menor o igual que 23 )\n"
      ],
      "execution_count": null,
      "outputs": [
        {
          "output_type": "stream",
          "name": "stdout",
          "text": [
            "10.5\n",
            "10\n",
            "1\n",
            "Residuo de 24 / 5 es:  4\n",
            "24 es par? =  True\n",
            "24 es diferente de 23 = True\n"
          ]
        }
      ]
    },
    {
      "cell_type": "markdown",
      "metadata": {
        "id": "PmNadmgCpkXY"
      },
      "source": [
        "# Tipo de dato String (str) en Python\n",
        "\n",
        "- Se maneja como un arreglo ( tipo de dato compuesto )\n",
        "- se puede acceder a los elementos de el string por medio del indice del caracter.\n",
        "- Mutable\n",
        "- Tiene metodos utiles ( potentes )\n",
        "- Slicing"
      ]
    },
    {
      "cell_type": "code",
      "metadata": {
        "colab": {
          "base_uri": "https://localhost:8080/"
        },
        "id": "xrlfgM_8qE68",
        "outputId": "cc2d18dd-f101-4413-faa0-9644f4430090"
      },
      "source": [
        "nombre = 'jose'\n",
        "carrera = 'Ingenieria en computacion'\n",
        "frase = \"\"\" El conocimiento me persiigue,...\n",
        "pero\n",
        "yo soy mas rapido\n",
        "\"\"\"\n",
        "print ( nombre )\n",
        "print ( carrera )\n",
        "print ( frase )\n",
        "\n",
        "# La funcion type de Python te devuelve el tipo de dato de una variableb (o e)\n",
        "print ( type ( nombre ) )\n",
        "\n",
        "paterno = str ( 'Perez' )\n",
        "print ( paterno )"
      ],
      "execution_count": null,
      "outputs": [
        {
          "output_type": "stream",
          "name": "stdout",
          "text": [
            "jose\n",
            "Ingenieria en computacion\n",
            " El conocimiento me persiigue,...\n",
            "pero\n",
            "yo soy mas rapido\n",
            "\n",
            "<class 'str'>\n",
            "Perez\n"
          ]
        }
      ]
    },
    {
      "cell_type": "markdown",
      "metadata": {
        "id": "SSh3Npi-pJES"
      },
      "source": [
        "Una clase (class) es un tipo de dato compuesto."
      ]
    },
    {
      "cell_type": "code",
      "metadata": {
        "colab": {
          "base_uri": "https://localhost:8080/"
        },
        "id": "EjtUTTfOpd_k",
        "outputId": "da1d6c0b-6f21-46e6-cbda-1e67a368b07c"
      },
      "source": [
        "carrera = 'Ingenieria en computacion'\n",
        "print ( carrera )\n",
        "print ( carrera[2] )\n"
      ],
      "execution_count": null,
      "outputs": [
        {
          "output_type": "stream",
          "name": "stdout",
          "text": [
            "Ingenieria en computacion\n",
            "g\n"
          ]
        }
      ]
    },
    {
      "cell_type": "markdown",
      "metadata": {
        "id": "WNJ4icmFrnqK"
      },
      "source": [
        "# A la sintaxis escrita para elegir un elemento de un grupo de datos se le llama selector\n",
        "En el caso de Strings y listas (lst) se usan los caracteres '[' y ']'\n",
        "\n",
        "1. En todos los lenguajes los arreglos inician en 0.\n",
        "2. En Python no existe como tal el tipo de dato arreglo, el concepto es sustituido por las listas.\n",
        "3. Los Strings se comportan como un arreglo en la mauoria de los lenguajes.\n",
        "4. En Python se acepta en indexado negativo, en otros lenguajes NO.\n"
      ]
    },
    {
      "cell_type": "code",
      "metadata": {
        "colab": {
          "base_uri": "https://localhost:8080/"
        },
        "id": "a0DUnxxbsrtL",
        "outputId": "5af7e225-ff15-42de-d80b-4da541292b04"
      },
      "source": [
        "carrera = 'Ingenieria en computacion'\n",
        "print ( carrera[8] )\n",
        "print ( carrera[24] )\n",
        "print ( carrera[-1] )\n",
        "print ( carrera[-25] )\n",
        "\n",
        "\n",
        "# Adelantando el tema de ciclo FOR\n",
        "\n",
        "for letra in carrera:\n",
        "    print(\"--\", letra, \"--\")"
      ],
      "execution_count": null,
      "outputs": [
        {
          "output_type": "stream",
          "name": "stdout",
          "text": [
            "i\n",
            "n\n",
            "n\n",
            "I\n",
            "-- I --\n",
            "-- n --\n",
            "-- g --\n",
            "-- e --\n",
            "-- n --\n",
            "-- i --\n",
            "-- e --\n",
            "-- r --\n",
            "-- i --\n",
            "-- a --\n",
            "--   --\n",
            "-- e --\n",
            "-- n --\n",
            "--   --\n",
            "-- c --\n",
            "-- o --\n",
            "-- m --\n",
            "-- p --\n",
            "-- u --\n",
            "-- t --\n",
            "-- a --\n",
            "-- c --\n",
            "-- i --\n",
            "-- o --\n",
            "-- n --\n"
          ]
        }
      ]
    },
    {
      "cell_type": "markdown",
      "metadata": {
        "id": "BuC1jnJgu_Lv"
      },
      "source": [
        "# Slicing (rebanado) de cadenas\n",
        "\n",
        "Permite seleccionar subcadenas con el operador\n",
        "#### [ inicio : stop : incremento ]\n",
        "el stop no se incluye, es por eso que debemos agregar una posicion extra\n",
        "\n",
        "### Slicing y valores por defecto\n",
        "\n",
        "Inicio por defecto siempre sera 0\n",
        "\n",
        "Stop: Tamaño del arreglo (indexado positivo) y 0 (en indexado negativo)\n",
        "\n",
        "Incremento: es 1 (indexado positivo)"
      ]
    },
    {
      "cell_type": "code",
      "metadata": {
        "colab": {
          "base_uri": "https://localhost:8080/"
        },
        "id": "SkOi7gMovU4X",
        "outputId": "8fed3006-98e8-4d0b-a182-a3d4165bc58d"
      },
      "source": [
        "carrera = 'Ingenieria en computacion'\n",
        "print( carrera [0:10:1] )\n",
        "print( carrera [14:25:1] )\n",
        "# lo mismo pero con indexado negativo??\n",
        "print( carrera [-11:-1:1])\n",
        "print( carrera [-11: :1])\n",
        "print( carrera [:10:] )\n",
        "print( carrera [14:25:] )\n",
        "\n",
        "#Solucion previa\n",
        "print(\"--------\")\n",
        "print( carrera [-11:-1:1])\n",
        "print( carrera [-11: :1])\n",
        "\n",
        "# un ejercicio mas para ver incremento\n",
        "print( carrera [0:10:2] )\n",
        "print( carrera [-1:-11:-1] )\n",
        "print( carrera [25:13:-1] )\n"
      ],
      "execution_count": null,
      "outputs": [
        {
          "output_type": "stream",
          "name": "stdout",
          "text": [
            "Ingenieria\n",
            "computacion\n",
            "computacio\n",
            "computacion\n",
            "Ingenieria\n",
            "computacion\n",
            "--------\n",
            "computacio\n",
            "computacion\n",
            "Ignei\n",
            "noicatupmo\n",
            "noicatupmoc\n"
          ]
        }
      ]
    },
    {
      "cell_type": "markdown",
      "metadata": {
        "id": "H23yy7B90ikz"
      },
      "source": [
        "# String y sus metodos\n",
        "# Todos los tipos de datos en Python son objetos (CLASES de la POO)\n",
        "\n",
        "## dir() y help () funciones para obtener ayuda del lenguaje Python\n",
        "\n",
        "### dir muestra las funciones de un tipo de dato como resumen\n",
        "\n",
        "### help muestra la misma ayuda pero a detalle\n",
        "\n",
        "Metodo que inician con doble guion bajo son privados de uso interno de la clase y no deberiamos usarlos\n",
        "\n",
        "Todos los demas son para uso exterios (usuario)"
      ]
    },
    {
      "cell_type": "code",
      "metadata": {
        "colab": {
          "base_uri": "https://localhost:8080/"
        },
        "id": "SfdMrjKS04Nu",
        "outputId": "d73ccb66-b371-45cd-9ff4-ef509bfb1ee6"
      },
      "source": [
        "frutas = \"  limon , fresa, manzana  , aguacate  \"\n",
        "nombre = \"jose\"\n",
        "print( frutas )\n",
        "\n",
        "\n",
        "print( nombre.capitalize() )\n",
        "print( nombre.upper() )\n",
        "print( frutas.replace( 'a' , '4').replace ('e' , '3').upper() )\n",
        "frutas = frutas.replace( 'a' , '4').replace ('e' , '3').upper()\n",
        "print( frutas )\n",
        "print(\".-.-.-.-.-.-.-.-.-.-.-.-.-.-.-.-.-\")\n",
        "frutas = \"  limon , fresa, manzana  , aguacate  \"\n",
        "print( frutas.strip() )\n",
        "print( frutas.split( ',') )\n",
        "print( frutas.index( 'n' ) )"
      ],
      "execution_count": null,
      "outputs": [
        {
          "output_type": "stream",
          "name": "stdout",
          "text": [
            "  limon , fresa, manzana  , aguacate  \n",
            "Jose\n",
            "JOSE\n",
            "  LIMON , FR3S4, M4NZ4N4  , 4GU4C4T3  \n",
            "  LIMON , FR3S4, M4NZ4N4  , 4GU4C4T3  \n",
            ".-.-.-.-.-.-.-.-.-.-.-.-.-.-.-.-.-\n",
            "limon , fresa, manzana  , aguacate\n",
            "['  limon ', ' fresa', ' manzana  ', ' aguacate  ']\n",
            "6\n"
          ]
        }
      ]
    },
    {
      "cell_type": "code",
      "metadata": {
        "colab": {
          "base_uri": "https://localhost:8080/"
        },
        "id": "L1-upALu8URp",
        "outputId": "5d0879a8-80dc-46e3-f1cc-b5345cd59f87"
      },
      "source": [
        "dir(str)"
      ],
      "execution_count": null,
      "outputs": [
        {
          "output_type": "execute_result",
          "data": {
            "text/plain": [
              "['__add__',\n",
              " '__class__',\n",
              " '__contains__',\n",
              " '__delattr__',\n",
              " '__dir__',\n",
              " '__doc__',\n",
              " '__eq__',\n",
              " '__format__',\n",
              " '__ge__',\n",
              " '__getattribute__',\n",
              " '__getitem__',\n",
              " '__getnewargs__',\n",
              " '__gt__',\n",
              " '__hash__',\n",
              " '__init__',\n",
              " '__init_subclass__',\n",
              " '__iter__',\n",
              " '__le__',\n",
              " '__len__',\n",
              " '__lt__',\n",
              " '__mod__',\n",
              " '__mul__',\n",
              " '__ne__',\n",
              " '__new__',\n",
              " '__reduce__',\n",
              " '__reduce_ex__',\n",
              " '__repr__',\n",
              " '__rmod__',\n",
              " '__rmul__',\n",
              " '__setattr__',\n",
              " '__sizeof__',\n",
              " '__str__',\n",
              " '__subclasshook__',\n",
              " 'capitalize',\n",
              " 'casefold',\n",
              " 'center',\n",
              " 'count',\n",
              " 'encode',\n",
              " 'endswith',\n",
              " 'expandtabs',\n",
              " 'find',\n",
              " 'format',\n",
              " 'format_map',\n",
              " 'index',\n",
              " 'isalnum',\n",
              " 'isalpha',\n",
              " 'isascii',\n",
              " 'isdecimal',\n",
              " 'isdigit',\n",
              " 'isidentifier',\n",
              " 'islower',\n",
              " 'isnumeric',\n",
              " 'isprintable',\n",
              " 'isspace',\n",
              " 'istitle',\n",
              " 'isupper',\n",
              " 'join',\n",
              " 'ljust',\n",
              " 'lower',\n",
              " 'lstrip',\n",
              " 'maketrans',\n",
              " 'partition',\n",
              " 'replace',\n",
              " 'rfind',\n",
              " 'rindex',\n",
              " 'rjust',\n",
              " 'rpartition',\n",
              " 'rsplit',\n",
              " 'rstrip',\n",
              " 'split',\n",
              " 'splitlines',\n",
              " 'startswith',\n",
              " 'strip',\n",
              " 'swapcase',\n",
              " 'title',\n",
              " 'translate',\n",
              " 'upper',\n",
              " 'zfill']"
            ]
          },
          "metadata": {},
          "execution_count": 102
        }
      ]
    },
    {
      "cell_type": "code",
      "metadata": {
        "colab": {
          "base_uri": "https://localhost:8080/"
        },
        "id": "P7OMDIED7lqT",
        "outputId": "f5d7f85f-8d0e-49b6-c727-59ce46b775c1"
      },
      "source": [
        "help(str.find)"
      ],
      "execution_count": null,
      "outputs": [
        {
          "output_type": "stream",
          "name": "stdout",
          "text": [
            "Help on method_descriptor:\n",
            "\n",
            "find(...)\n",
            "    S.find(sub[, start[, end]]) -> int\n",
            "    \n",
            "    Return the lowest index in S where substring sub is found,\n",
            "    such that sub is contained within S[start:end].  Optional\n",
            "    arguments start and end are interpreted as in slice notation.\n",
            "    \n",
            "    Return -1 on failure.\n",
            "\n"
          ]
        }
      ]
    },
    {
      "cell_type": "markdown",
      "metadata": {
        "id": "2BrWqRel8Y9q"
      },
      "source": [
        "# String y caracteres de escape\n",
        "\n",
        "\"Jose\"\n",
        "- /\" --- \"\n",
        "- /' --- '\n",
        "- /n --- Salto de linea (tecla enter)\n",
        "- /t --- Tabulador espacios a la izquierda\n",
        "- /uxxx --- Caracteres unicode\n",
        "- /uxxxxxx --- unicode extendido"
      ]
    },
    {
      "cell_type": "code",
      "metadata": {
        "id": "WUPENGMY84GP",
        "colab": {
          "base_uri": "https://localhost:8080/"
        },
        "outputId": "90fe6371-54e9-49a4-8117-c43d4dfebd72"
      },
      "source": [
        "#Print(\" \\\"jose\\\" \")\n",
        "#nombre = \" \\\"jose\\\" \"\n",
        "#print(nombre)\n",
        "#carrera = 'Ingenieria \\n\\ten \\n\\t\\tcomputacion'\n",
        "#print( carrera)\n",
        "print (\"\\u0065\")\n",
        "print (\"\\u0444\")\n",
        "print (\"\\u0620\")\n",
        "\n",
        "print(\"\\U00010057\")\n",
        "print(\"\\U0001F60E\")\n",
        "print(\"\\U0001F9A0\")\n",
        "print(\"\\U0001F637\")          #\\\n",
        "\n"
      ],
      "execution_count": null,
      "outputs": [
        {
          "output_type": "stream",
          "name": "stdout",
          "text": [
            "e\n",
            "ф\n",
            "ؠ\n",
            "𐁗\n",
            "😎\n",
            "🦠\n",
            "😷\n"
          ]
        }
      ]
    },
    {
      "cell_type": "markdown",
      "metadata": {
        "id": "mxP_M-I7yRjn"
      },
      "source": [
        "# Funcion Print\n",
        "\n",
        "### se emplea para desplegar informacion en la salida estandar. Normalmente un monitor\n",
        "\n",
        "- Formas de usas print.\n",
        "- el argumento por defecto de print (end)\n",
        "- format ()\n",
        "- operador f\" \""
      ]
    },
    {
      "cell_type": "code",
      "metadata": {
        "colab": {
          "base_uri": "https://localhost:8080/"
        },
        "id": "fZ-5hVi5y4DB",
        "outputId": "1087fad7-5a87-41bf-b2b5-1c73fc294828"
      },
      "source": [
        "nombre = \"Jose\"\n",
        "edad = 18\n",
        "casado = False\n",
        "estatura = 1.67\n",
        "\"\"\"\n",
        " Nombre: Jose\n",
        "     Edad: 18\n",
        "     Esta casado : False\n",
        "     Estatura en metor : 1.67\n",
        "\"\"\"\n",
        "# 1.- Con Comas, concatena haceindo un casting (conversion a string automaticamente)\n",
        "# agrega un espacio\n",
        "print( nombre,edad,casado,estatura )\n",
        "print(\"Nombre: \" + nombre +\"\\n\\tEdad: \" + str(edad) + \"\\n\\testa casado: \" + str(casado) + \"\\n\\tEstatura en metros: \" + str(estatura) )\n",
        "\n",
        "print(\"\\nCon el operador +\")\n",
        "# 2.- Con el Simbolo de suma +\n",
        "# Concatenacion en crudo.\n",
        "print( nombre + \" \" + str(edad) + \" \" + str(casado) + \" \" + str(estatura) )\n",
        "\n",
        "# 3.- dando formato a la salida con format\n",
        "print(\"\\nCon la funcion format\")\n",
        "print(\"Nombre: {3}\\n\\tEdad: {2}\\n\\tEsta casado: {1}\\n\\tEstatura en metros: {0}\".format(nombre,edad,casado,estatura) )\n",
        "\n",
        "# 4.- con el operador f\" \"\n",
        "print(\"Con el operador f\\\" \\\"\")\n",
        "print(f\"Nombre: { nombre }\\n\\tEdad: { edad }\\n\\tEsta casado: { casado }\\n\\tEstatura en metros: { estatura }\")\n",
        "\n",
        "\n",
        "# Como manejar el argumento end\n",
        "print(\"\\nComo usar el argumento end \")\n",
        "print(f\"Hola {nombre}\" , end=\"\" )\n",
        "print(\", Como estas?\" , end=\"\\n\" )\n",
        "\n"
      ],
      "execution_count": null,
      "outputs": [
        {
          "output_type": "stream",
          "name": "stdout",
          "text": [
            "Jose 18 False 1.67\n",
            "Nombre: Jose\n",
            "\tEdad: 18\n",
            "\testa casado: False\n",
            "\tEstatura en metros: 1.67\n",
            "\n",
            "Con el operador +\n",
            "Jose 18 False 1.67\n",
            "\n",
            "Con la funcion format\n",
            "Nombre: 1.67\n",
            "\tEdad: False\n",
            "\tEsta casado: 18\n",
            "\tEstatura en metros: Jose\n",
            "Con el operador f\" \"\n",
            "Nombre: Jose\n",
            "\tEdad: 18\n",
            "\tEsta casado: False\n",
            "\tEstatura en metros: 1.67\n",
            "\n",
            "Como usar el argumento end \n",
            "Hola Jose, Como estas?\n"
          ]
        }
      ]
    },
    {
      "cell_type": "markdown",
      "metadata": {
        "id": "6Ioyt53h67Ku"
      },
      "source": [
        "# Con una sola funcion POR LETRA print, escribir su primer nombre (nombre de pila) de la siguiente forma\n",
        "  \n",
        "\n",
        "    A     N    N   G G G G  E E E E  L\n",
        "   A A    N N  N   G        E        L\n",
        "  A   A   N  N N   G   G G  E E E    L\n",
        " A A A A  N   NN   G     G  E        L\n",
        "A       A N    N   G G G G  E E E E  L L L L\n"
      ]
    },
    {
      "cell_type": "code",
      "metadata": {
        "colab": {
          "base_uri": "https://localhost:8080/"
        },
        "id": "C3xgs2zf7J9i",
        "outputId": "23b288b5-aafe-41ec-cae1-2a4b88d6c131"
      },
      "source": [
        "print(\"\\n    A     N    N   G G G G  E E E E  L \\n   A A    N N  N   G        E        L\\n  A   A   N  N N   G   G G  E E E    L\\n A A A A  N   NN   G     G  E        L \\nA       A N    N   G G G G  E E E E  L L L L\")\n",
        "\n",
        "print(\"\"\"\n",
        "    A     N    N   G G G G  E E E E  L\n",
        "   A A    N N  N   G        E        L\n",
        "  A   A   N  N N   G   G G  E E E    L\n",
        " A A A A  N   NN   G     G  E        L\n",
        "A       A N    N   G G G G  E E E E  L L L L\"\"\")"
      ],
      "execution_count": null,
      "outputs": [
        {
          "output_type": "stream",
          "name": "stdout",
          "text": [
            "\n",
            "    A     N    N   G G G G  E E E E  L \n",
            "   A A    N N  N   G        E        L\n",
            "  A   A   N  N N   G   G G  E E E    L\n",
            " A A A A  N   NN   G     G  E        L \n",
            "A       A N    N   G G G G  E E E E  L L L L\n",
            "\n",
            "    A     N    N   G G G G  E E E E  L\n",
            "   A A    N N  N   G        E        L\n",
            "  A   A   N  N N   G   G G  E E E    L\n",
            " A A A A  N   NN   G     G  E        L\n",
            "A       A N    N   G G G G  E E E E  L L L L\n"
          ]
        }
      ]
    }
  ]
}