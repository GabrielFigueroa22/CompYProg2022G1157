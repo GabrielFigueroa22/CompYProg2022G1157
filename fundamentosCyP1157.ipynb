{
  "nbformat": 4,
  "nbformat_minor": 0,
  "metadata": {
    "colab": {
      "name": "fundamentosCyP1157.ipynb",
      "provenance": [],
      "collapsed_sections": [],
      "authorship_tag": "ABX9TyMitKASlnOlrSRd+jwqK3Nb",
      "include_colab_link": true
    },
    "kernelspec": {
      "name": "python3",
      "display_name": "Python 3"
    },
    "language_info": {
      "name": "python"
    }
  },
  "cells": [
    {
      "cell_type": "markdown",
      "metadata": {
        "id": "view-in-github",
        "colab_type": "text"
      },
      "source": [
        "<a href=\"https://colab.research.google.com/github/GabrielFigueroa22/CompYProg2022G1157/blob/main/fundamentosCyP1157.ipynb\" target=\"_parent\"><img src=\"https://colab.research.google.com/assets/colab-badge.svg\" alt=\"Open In Colab\"/></a>"
      ]
    },
    {
      "cell_type": "code",
      "metadata": {
        "colab": {
          "base_uri": "https://localhost:8080/"
        },
        "id": "OHsiTnzBV6Dk",
        "outputId": "5c20ce61-c99b-4f74-b041-4e86104919b6"
      },
      "source": [
        "nombre = 'Jose' # tipo de dato String (cadena de caracteres)\n",
        "\n",
        "print( nombre )"
      ],
      "execution_count": null,
      "outputs": [
        {
          "output_type": "stream",
          "name": "stdout",
          "text": [
            "Jose\n"
          ]
        }
      ]
    },
    {
      "cell_type": "markdown",
      "metadata": {
        "id": "eBtHg2wxXLPm"
      },
      "source": [
        "# Tipos de datos en Python\n",
        "\n",
        "### Tipos de datos Simples\n",
        "- str -- String cadena de caracteres.\n",
        "- int -- Numeros enteros\n",
        "- float -- Numeros con notacion de punto flotante\n",
        "- complex -- Numeros complejos \n",
        "- bool -- Boleano ( True o Fals )\n",
        "- bait -- 8 bits\n",
        "\n",
        "### Tipos de datos Estructurados (compuestos)\n",
        "- list -- Listas ( Arreglos en otros leng )\n",
        "- tuple -- Listas no Mutables\n",
        "- dict -- Diccionarios\n",
        "- set y frozenset -- Conjuntos\n"
      ]
    },
    {
      "cell_type": "code",
      "metadata": {
        "colab": {
          "base_uri": "https://localhost:8080/"
        },
        "id": "RoVKPcLjaTcr",
        "outputId": "d6dba98f-275d-409e-8a5b-50c2dd2416f8"
      },
      "source": [
        "import sys\n",
        "\n",
        "edad = 19\n",
        "print( \"tu edad es:\" , edad ) # al final de una linea de cosigo\n",
        "# este es un comentario de linea simple\n",
        "\n",
        "\"\"\"\n",
        "Comentario de multiple linea\n",
        "En lenguaje C++ y Java el comentario de multiple linea es con\n",
        "/* ..... */\n",
        "\n",
        "En lenguaje C++ y Java el comentario de una sola linea es con\n",
        "\n",
        "//\n",
        "\n",
        "Aqui puedes explicar en prosa el segmento de un codigo para futura referencia\n",
        "\n",
        "\"\"\"\n",
        "# Tipos de datos numericos int y float \n",
        "\n",
        "print (  sys.getsizeof ( edad )  )\n",
        "# el tipo de dato INT utiliza diferente cantidad de bits segun el leg de prog. \n",
        "# por ejemplo en C utiliza 16 bits\n",
        "\n",
        "edad = edad + 1\n",
        "print( edad )\n",
        "\n",
        "estatura = 1.56\n",
        "print ( estatura )\n",
        "print (  sys.getsizeof ( estatura )  )\n",
        "estatura = estatura + 0.1\n",
        "print ( estatura )\n",
        "print ( round( estatura,2 ) )\n",
        "\n",
        "edad += 1  # edad = edad + 1\n",
        "print( \"tu edad es:\" , edad )\n",
        "\n",
        "edad -= 1  # edad = edad - 1\n",
        "print( \"tu edad es:\" , edad )\n",
        "\n",
        "edad += 1 # vuelve a 21\n",
        "edad /= 2  # edad = edad / 2\n",
        "print( \"la mitad de tu edad es:\" , edad )\n",
        "\n",
        "\n",
        "edad = 21\n",
        "# volver a calcular la mitad de la edad pero solo dejar la parte entera\n",
        "edad = edad // 2\n",
        "print( \"la mitad de tu edad es:\" , edad )\n",
        "\n",
        "\n",
        "# En la mayoria de los lenguajes no permite operaciones entre diferentes tipos\n",
        "# de datos, en Python\n",
        "\n",
        "numero = edad / 2.0\n",
        "print( numero )\n",
        "\n",
        "numero *=  3\n",
        "print( numero )\n",
        "\n",
        "numero = 5.0\n",
        "numero **= 3\n",
        "print( numero )\n"
      ],
      "execution_count": null,
      "outputs": [
        {
          "output_type": "stream",
          "name": "stdout",
          "text": [
            "tu edad es: 19\n",
            "28\n",
            "20\n",
            "1.56\n",
            "24\n",
            "1.6600000000000001\n",
            "1.66\n",
            "tu edad es: 21\n",
            "tu edad es: 20\n",
            "la mitad de tu edad es: 10.5\n",
            "la mitad de tu edad es: 10\n",
            "5.0\n",
            "15.0\n",
            "125.0\n",
            "10.5\n"
          ]
        }
      ]
    },
    {
      "cell_type": "markdown",
      "metadata": {
        "id": "pK3C1JqSbxDs"
      },
      "source": [
        "# Tarea\n",
        "Hacer un resumen de minimo 1 cuartilla de los origenes del lenguaje Python\n",
        "\n",
        "- ¿Por que de su creacion?\n",
        "- Caracteristicas principales.\n",
        "- Diferencias con otros lenguajes\n",
        "\n",
        "Forma de entrega: A mano en un cuaderno, sacarle foto (Scanner) y subir  la foto."
      ]
    },
    {
      "cell_type": "code",
      "metadata": {
        "colab": {
          "base_uri": "https://localhost:8080/"
        },
        "id": "4THgAM1_lyre",
        "outputId": "12df6a03-8ba7-4f0f-98a1-c908030186a8"
      },
      "source": [
        "# operador modulo\n",
        "numero = 21\n",
        "print( numero / 2 )\n",
        "print( numero // 2 )\n",
        "\n",
        "# el operador modulo da como resultado el residuo de una division entera\n",
        "print( numero % 2 )\n",
        "\n",
        "numero = 24\n",
        "print( \"Residuo de 24 / 5 es: \" , numero % 5 )\n",
        "\n",
        "print( \"24 es par? = \" , numero % 2 == 0)\n",
        "\n",
        "# diferencia\n",
        "print( \"24 es diferente de 23 =\" , numero != 23 )\n",
        "# print( 24 es mayor que 23 )\n",
        "# print( 24 es menor que 23 )\n",
        "\n",
        "# print( 24 mayor o igual que 23 )\n",
        "# print( 24 menor o igual que 23 )\n"
      ],
      "execution_count": null,
      "outputs": [
        {
          "output_type": "stream",
          "name": "stdout",
          "text": [
            "10.5\n",
            "10\n",
            "1\n",
            "Residuo de 24 / 5 es:  4\n",
            "24 es par? =  True\n",
            "24 es diferente de 23 = True\n"
          ]
        }
      ]
    },
    {
      "cell_type": "markdown",
      "metadata": {
        "id": "PmNadmgCpkXY"
      },
      "source": [
        "# Tipo de dato String (str) en Python\n",
        "\n",
        "- Se maneja como un arreglo ( tipo de dato compuesto )\n",
        "- se puede acceder a los elementos de el string por medio del indice del caracter.\n",
        "- Mutable\n",
        "- Tiene metodos utiles ( potentes )\n",
        "- Slicing"
      ]
    },
    {
      "cell_type": "code",
      "metadata": {
        "colab": {
          "base_uri": "https://localhost:8080/"
        },
        "id": "xrlfgM_8qE68",
        "outputId": "cc2d18dd-f101-4413-faa0-9644f4430090"
      },
      "source": [
        "nombre = 'jose'\n",
        "carrera = 'Ingenieria en computacion'\n",
        "frase = \"\"\" El conocimiento me persiigue,...\n",
        "pero\n",
        "yo soy mas rapido\n",
        "\"\"\"\n",
        "print ( nombre )\n",
        "print ( carrera )\n",
        "print ( frase )\n",
        "\n",
        "# La funcion type de Python te devuelve el tipo de dato de una variableb (o e)\n",
        "print ( type ( nombre ) )\n",
        "\n",
        "paterno = str ( 'Perez' )\n",
        "print ( paterno )"
      ],
      "execution_count": null,
      "outputs": [
        {
          "output_type": "stream",
          "name": "stdout",
          "text": [
            "jose\n",
            "Ingenieria en computacion\n",
            " El conocimiento me persiigue,...\n",
            "pero\n",
            "yo soy mas rapido\n",
            "\n",
            "<class 'str'>\n",
            "Perez\n"
          ]
        }
      ]
    },
    {
      "cell_type": "markdown",
      "metadata": {
        "id": "SSh3Npi-pJES"
      },
      "source": [
        "Una clase (class) es un tipo de dato compuesto."
      ]
    },
    {
      "cell_type": "code",
      "metadata": {
        "colab": {
          "base_uri": "https://localhost:8080/"
        },
        "id": "EjtUTTfOpd_k",
        "outputId": "da1d6c0b-6f21-46e6-cbda-1e67a368b07c"
      },
      "source": [
        "carrera = 'Ingenieria en computacion'\n",
        "print ( carrera )\n",
        "print ( carrera[2] )\n"
      ],
      "execution_count": null,
      "outputs": [
        {
          "output_type": "stream",
          "name": "stdout",
          "text": [
            "Ingenieria en computacion\n",
            "g\n"
          ]
        }
      ]
    },
    {
      "cell_type": "markdown",
      "metadata": {
        "id": "WNJ4icmFrnqK"
      },
      "source": [
        "# A la sintaxis escrita para elegir un elemento de un grupo de datos se le llama selector\n",
        "En el caso de Strings y listas (lst) se usan los caracteres '[' y ']'\n",
        "\n",
        "1. En todos los lenguajes los arreglos inician en 0.\n",
        "2. En Python no existe como tal el tipo de dato arreglo, el concepto es sustituido por las listas.\n",
        "3. Los Strings se comportan como un arreglo en la mauoria de los lenguajes.\n",
        "4. En Python se acepta en indexado negativo, en otros lenguajes NO.\n"
      ]
    },
    {
      "cell_type": "code",
      "metadata": {
        "colab": {
          "base_uri": "https://localhost:8080/"
        },
        "id": "a0DUnxxbsrtL",
        "outputId": "5af7e225-ff15-42de-d80b-4da541292b04"
      },
      "source": [
        "carrera = 'Ingenieria en computacion'\n",
        "print ( carrera[8] )\n",
        "print ( carrera[24] )\n",
        "print ( carrera[-1] )\n",
        "print ( carrera[-25] )\n",
        "\n",
        "\n",
        "# Adelantando el tema de ciclo FOR\n",
        "\n",
        "for letra in carrera:\n",
        "    print(\"--\", letra, \"--\")"
      ],
      "execution_count": null,
      "outputs": [
        {
          "output_type": "stream",
          "name": "stdout",
          "text": [
            "i\n",
            "n\n",
            "n\n",
            "I\n",
            "-- I --\n",
            "-- n --\n",
            "-- g --\n",
            "-- e --\n",
            "-- n --\n",
            "-- i --\n",
            "-- e --\n",
            "-- r --\n",
            "-- i --\n",
            "-- a --\n",
            "--   --\n",
            "-- e --\n",
            "-- n --\n",
            "--   --\n",
            "-- c --\n",
            "-- o --\n",
            "-- m --\n",
            "-- p --\n",
            "-- u --\n",
            "-- t --\n",
            "-- a --\n",
            "-- c --\n",
            "-- i --\n",
            "-- o --\n",
            "-- n --\n"
          ]
        }
      ]
    },
    {
      "cell_type": "markdown",
      "metadata": {
        "id": "BuC1jnJgu_Lv"
      },
      "source": [
        "# Slicing (rebanado) de cadenas\n",
        "\n",
        "Permite seleccionar subcadenas con el operador\n",
        "#### [ inicio : stop : incremento ]\n",
        "el stop no se incluye, es por eso que debemos agregar una posicion extra\n",
        "\n",
        "### Slicing y valores por defecto\n",
        "\n",
        "Inicio por defecto siempre sera 0\n",
        "\n",
        "Stop: Tamaño del arreglo (indexado positivo) y 0 (en indexado negativo)\n",
        "\n",
        "Incremento: es 1 (indexado positivo)"
      ]
    },
    {
      "cell_type": "code",
      "metadata": {
        "colab": {
          "base_uri": "https://localhost:8080/"
        },
        "id": "SkOi7gMovU4X",
        "outputId": "8fed3006-98e8-4d0b-a182-a3d4165bc58d"
      },
      "source": [
        "carrera = 'Ingenieria en computacion'\n",
        "print( carrera [0:10:1] )\n",
        "print( carrera [14:25:1] )\n",
        "# lo mismo pero con indexado negativo??\n",
        "print( carrera [-11:-1:1])\n",
        "print( carrera [-11: :1])\n",
        "print( carrera [:10:] )\n",
        "print( carrera [14:25:] )\n",
        "\n",
        "#Solucion previa\n",
        "print(\"--------\")\n",
        "print( carrera [-11:-1:1])\n",
        "print( carrera [-11: :1])\n",
        "\n",
        "# un ejercicio mas para ver incremento\n",
        "print( carrera [0:10:2] )\n",
        "print( carrera [-1:-11:-1] )\n",
        "print( carrera [25:13:-1] )\n"
      ],
      "execution_count": null,
      "outputs": [
        {
          "output_type": "stream",
          "name": "stdout",
          "text": [
            "Ingenieria\n",
            "computacion\n",
            "computacio\n",
            "computacion\n",
            "Ingenieria\n",
            "computacion\n",
            "--------\n",
            "computacio\n",
            "computacion\n",
            "Ignei\n",
            "noicatupmo\n",
            "noicatupmoc\n"
          ]
        }
      ]
    },
    {
      "cell_type": "markdown",
      "metadata": {
        "id": "H23yy7B90ikz"
      },
      "source": [
        "# String y sus metodos\n",
        "# Todos los tipos de datos en Python son objetos (CLASES de la POO)\n",
        "\n",
        "## dir() y help () funciones para obtener ayuda del lenguaje Python\n",
        "\n",
        "### dir muestra las funciones de un tipo de dato como resumen\n",
        "\n",
        "### help muestra la misma ayuda pero a detalle\n",
        "\n",
        "Metodo que inician con doble guion bajo son privados de uso interno de la clase y no deberiamos usarlos\n",
        "\n",
        "Todos los demas son para uso exterios (usuario)"
      ]
    },
    {
      "cell_type": "code",
      "metadata": {
        "colab": {
          "base_uri": "https://localhost:8080/"
        },
        "id": "SfdMrjKS04Nu",
        "outputId": "d73ccb66-b371-45cd-9ff4-ef509bfb1ee6"
      },
      "source": [
        "frutas = \"  limon , fresa, manzana  , aguacate  \"\n",
        "nombre = \"jose\"\n",
        "print( frutas )\n",
        "\n",
        "\n",
        "print( nombre.capitalize() )\n",
        "print( nombre.upper() )\n",
        "print( frutas.replace( 'a' , '4').replace ('e' , '3').upper() )\n",
        "frutas = frutas.replace( 'a' , '4').replace ('e' , '3').upper()\n",
        "print( frutas )\n",
        "print(\".-.-.-.-.-.-.-.-.-.-.-.-.-.-.-.-.-\")\n",
        "frutas = \"  limon , fresa, manzana  , aguacate  \"\n",
        "print( frutas.strip() )\n",
        "print( frutas.split( ',') )\n",
        "print( frutas.index( 'n' ) )"
      ],
      "execution_count": null,
      "outputs": [
        {
          "output_type": "stream",
          "name": "stdout",
          "text": [
            "  limon , fresa, manzana  , aguacate  \n",
            "Jose\n",
            "JOSE\n",
            "  LIMON , FR3S4, M4NZ4N4  , 4GU4C4T3  \n",
            "  LIMON , FR3S4, M4NZ4N4  , 4GU4C4T3  \n",
            ".-.-.-.-.-.-.-.-.-.-.-.-.-.-.-.-.-\n",
            "limon , fresa, manzana  , aguacate\n",
            "['  limon ', ' fresa', ' manzana  ', ' aguacate  ']\n",
            "6\n"
          ]
        }
      ]
    },
    {
      "cell_type": "code",
      "metadata": {
        "colab": {
          "base_uri": "https://localhost:8080/"
        },
        "id": "L1-upALu8URp",
        "outputId": "5d0879a8-80dc-46e3-f1cc-b5345cd59f87"
      },
      "source": [
        "dir(str)"
      ],
      "execution_count": null,
      "outputs": [
        {
          "output_type": "execute_result",
          "data": {
            "text/plain": [
              "['__add__',\n",
              " '__class__',\n",
              " '__contains__',\n",
              " '__delattr__',\n",
              " '__dir__',\n",
              " '__doc__',\n",
              " '__eq__',\n",
              " '__format__',\n",
              " '__ge__',\n",
              " '__getattribute__',\n",
              " '__getitem__',\n",
              " '__getnewargs__',\n",
              " '__gt__',\n",
              " '__hash__',\n",
              " '__init__',\n",
              " '__init_subclass__',\n",
              " '__iter__',\n",
              " '__le__',\n",
              " '__len__',\n",
              " '__lt__',\n",
              " '__mod__',\n",
              " '__mul__',\n",
              " '__ne__',\n",
              " '__new__',\n",
              " '__reduce__',\n",
              " '__reduce_ex__',\n",
              " '__repr__',\n",
              " '__rmod__',\n",
              " '__rmul__',\n",
              " '__setattr__',\n",
              " '__sizeof__',\n",
              " '__str__',\n",
              " '__subclasshook__',\n",
              " 'capitalize',\n",
              " 'casefold',\n",
              " 'center',\n",
              " 'count',\n",
              " 'encode',\n",
              " 'endswith',\n",
              " 'expandtabs',\n",
              " 'find',\n",
              " 'format',\n",
              " 'format_map',\n",
              " 'index',\n",
              " 'isalnum',\n",
              " 'isalpha',\n",
              " 'isascii',\n",
              " 'isdecimal',\n",
              " 'isdigit',\n",
              " 'isidentifier',\n",
              " 'islower',\n",
              " 'isnumeric',\n",
              " 'isprintable',\n",
              " 'isspace',\n",
              " 'istitle',\n",
              " 'isupper',\n",
              " 'join',\n",
              " 'ljust',\n",
              " 'lower',\n",
              " 'lstrip',\n",
              " 'maketrans',\n",
              " 'partition',\n",
              " 'replace',\n",
              " 'rfind',\n",
              " 'rindex',\n",
              " 'rjust',\n",
              " 'rpartition',\n",
              " 'rsplit',\n",
              " 'rstrip',\n",
              " 'split',\n",
              " 'splitlines',\n",
              " 'startswith',\n",
              " 'strip',\n",
              " 'swapcase',\n",
              " 'title',\n",
              " 'translate',\n",
              " 'upper',\n",
              " 'zfill']"
            ]
          },
          "metadata": {},
          "execution_count": 102
        }
      ]
    },
    {
      "cell_type": "code",
      "metadata": {
        "colab": {
          "base_uri": "https://localhost:8080/"
        },
        "id": "P7OMDIED7lqT",
        "outputId": "f5d7f85f-8d0e-49b6-c727-59ce46b775c1"
      },
      "source": [
        "help(str.find)"
      ],
      "execution_count": null,
      "outputs": [
        {
          "output_type": "stream",
          "name": "stdout",
          "text": [
            "Help on method_descriptor:\n",
            "\n",
            "find(...)\n",
            "    S.find(sub[, start[, end]]) -> int\n",
            "    \n",
            "    Return the lowest index in S where substring sub is found,\n",
            "    such that sub is contained within S[start:end].  Optional\n",
            "    arguments start and end are interpreted as in slice notation.\n",
            "    \n",
            "    Return -1 on failure.\n",
            "\n"
          ]
        }
      ]
    },
    {
      "cell_type": "markdown",
      "metadata": {
        "id": "2BrWqRel8Y9q"
      },
      "source": [
        "# String y caracteres de escape\n",
        "\n",
        "\"Jose\"\n",
        "- /\" --- \"\n",
        "- /' --- '\n",
        "- /n --- Salto de linea (tecla enter)\n",
        "- /t --- Tabulador espacios a la izquierda\n",
        "- /uxxx --- Caracteres unicode\n",
        "- /uxxxxxx --- unicode extendido"
      ]
    },
    {
      "cell_type": "code",
      "metadata": {
        "id": "WUPENGMY84GP",
        "colab": {
          "base_uri": "https://localhost:8080/"
        },
        "outputId": "90fe6371-54e9-49a4-8117-c43d4dfebd72"
      },
      "source": [
        "#Print(\" \\\"jose\\\" \")\n",
        "#nombre = \" \\\"jose\\\" \"\n",
        "#print(nombre)\n",
        "#carrera = 'Ingenieria \\n\\ten \\n\\t\\tcomputacion'\n",
        "#print( carrera)\n",
        "print (\"\\u0065\")\n",
        "print (\"\\u0444\")\n",
        "print (\"\\u0620\")\n",
        "\n",
        "print(\"\\U00010057\")\n",
        "print(\"\\U0001F60E\")\n",
        "print(\"\\U0001F9A0\")\n",
        "print(\"\\U0001F637\")          #\\\n",
        "\n"
      ],
      "execution_count": null,
      "outputs": [
        {
          "output_type": "stream",
          "name": "stdout",
          "text": [
            "e\n",
            "ф\n",
            "ؠ\n",
            "𐁗\n",
            "😎\n",
            "🦠\n",
            "😷\n"
          ]
        }
      ]
    },
    {
      "cell_type": "markdown",
      "metadata": {
        "id": "mxP_M-I7yRjn"
      },
      "source": [
        "# Funcion Print\n",
        "\n",
        "### se emplea para desplegar informacion en la salida estandar. Normalmente un monitor\n",
        "\n",
        "- Formas de usas print.\n",
        "- el argumento por defecto de print (end)\n",
        "- format ()\n",
        "- operador f\" \""
      ]
    },
    {
      "cell_type": "code",
      "metadata": {
        "colab": {
          "base_uri": "https://localhost:8080/"
        },
        "id": "fZ-5hVi5y4DB",
        "outputId": "1087fad7-5a87-41bf-b2b5-1c73fc294828"
      },
      "source": [
        "nombre = \"Jose\"\n",
        "edad = 18\n",
        "casado = False\n",
        "estatura = 1.67\n",
        "\"\"\"\n",
        " Nombre: Jose\n",
        "     Edad: 18\n",
        "     Esta casado : False\n",
        "     Estatura en metor : 1.67\n",
        "\"\"\"\n",
        "# 1.- Con Comas, concatena haceindo un casting (conversion a string automaticamente)\n",
        "# agrega un espacio\n",
        "print( nombre,edad,casado,estatura )\n",
        "print(\"Nombre: \" + nombre +\"\\n\\tEdad: \" + str(edad) + \"\\n\\testa casado: \" + str(casado) + \"\\n\\tEstatura en metros: \" + str(estatura) )\n",
        "\n",
        "print(\"\\nCon el operador +\")\n",
        "# 2.- Con el Simbolo de suma +\n",
        "# Concatenacion en crudo.\n",
        "print( nombre + \" \" + str(edad) + \" \" + str(casado) + \" \" + str(estatura) )\n",
        "\n",
        "# 3.- dando formato a la salida con format\n",
        "print(\"\\nCon la funcion format\")\n",
        "print(\"Nombre: {3}\\n\\tEdad: {2}\\n\\tEsta casado: {1}\\n\\tEstatura en metros: {0}\".format(nombre,edad,casado,estatura) )\n",
        "\n",
        "# 4.- con el operador f\" \"\n",
        "print(\"Con el operador f\\\" \\\"\")\n",
        "print(f\"Nombre: { nombre }\\n\\tEdad: { edad }\\n\\tEsta casado: { casado }\\n\\tEstatura en metros: { estatura }\")\n",
        "\n",
        "\n",
        "# Como manejar el argumento end\n",
        "print(\"\\nComo usar el argumento end \")\n",
        "print(f\"Hola {nombre}\" , end=\"\" )\n",
        "print(\", Como estas?\" , end=\"\\n\" )\n",
        "\n"
      ],
      "execution_count": null,
      "outputs": [
        {
          "output_type": "stream",
          "name": "stdout",
          "text": [
            "Jose 18 False 1.67\n",
            "Nombre: Jose\n",
            "\tEdad: 18\n",
            "\testa casado: False\n",
            "\tEstatura en metros: 1.67\n",
            "\n",
            "Con el operador +\n",
            "Jose 18 False 1.67\n",
            "\n",
            "Con la funcion format\n",
            "Nombre: 1.67\n",
            "\tEdad: False\n",
            "\tEsta casado: 18\n",
            "\tEstatura en metros: Jose\n",
            "Con el operador f\" \"\n",
            "Nombre: Jose\n",
            "\tEdad: 18\n",
            "\tEsta casado: False\n",
            "\tEstatura en metros: 1.67\n",
            "\n",
            "Como usar el argumento end \n",
            "Hola Jose, Como estas?\n"
          ]
        }
      ]
    },
    {
      "cell_type": "markdown",
      "metadata": {
        "id": "6Ioyt53h67Ku"
      },
      "source": [
        "# Con una sola funcion POR LETRA print, escribir su primer nombre (nombre de pila) de la siguiente forma\n",
        "  \n",
        "\n",
        "    A     N    N   G G G G  E E E E  L\n",
        "   A A    N N  N   G        E        L\n",
        "  A   A   N  N N   G   G G  E E E    L\n",
        " A A A A  N   NN   G     G  E        L\n",
        "A       A N    N   G G G G  E E E E  L L L L\n"
      ]
    },
    {
      "cell_type": "code",
      "metadata": {
        "colab": {
          "base_uri": "https://localhost:8080/"
        },
        "id": "C3xgs2zf7J9i",
        "outputId": "23b288b5-aafe-41ec-cae1-2a4b88d6c131"
      },
      "source": [
        "print(\"\\n    A     N    N   G G G G  E E E E  L \\n   A A    N N  N   G        E        L\\n  A   A   N  N N   G   G G  E E E    L\\n A A A A  N   NN   G     G  E        L \\nA       A N    N   G G G G  E E E E  L L L L\")\n",
        "\n",
        "print(\"\"\"\n",
        "    A     N    N   G G G G  E E E E  L\n",
        "   A A    N N  N   G        E        L\n",
        "  A   A   N  N N   G   G G  E E E    L\n",
        " A A A A  N   NN   G     G  E        L\n",
        "A       A N    N   G G G G  E E E E  L L L L\"\"\")"
      ],
      "execution_count": null,
      "outputs": [
        {
          "output_type": "stream",
          "name": "stdout",
          "text": [
            "\n",
            "    A     N    N   G G G G  E E E E  L \n",
            "   A A    N N  N   G        E        L\n",
            "  A   A   N  N N   G   G G  E E E    L\n",
            " A A A A  N   NN   G     G  E        L \n",
            "A       A N    N   G G G G  E E E E  L L L L\n",
            "\n",
            "    A     N    N   G G G G  E E E E  L\n",
            "   A A    N N  N   G        E        L\n",
            "  A   A   N  N N   G   G G  E E E    L\n",
            " A A A A  N   NN   G     G  E        L\n",
            "A       A N    N   G G G G  E E E E  L L L L\n"
          ]
        }
      ]
    },
    {
      "cell_type": "markdown",
      "metadata": {
        "id": "y5fA9GQkEXVQ"
      },
      "source": [
        "# Datos de Entrada\n",
        "\n",
        "### Para solicitar los datos del usuario se emplea la funcion \"input\", la cual regresa siempre tipo de dato String"
      ]
    },
    {
      "cell_type": "code",
      "metadata": {
        "colab": {
          "base_uri": "https://localhost:8080/"
        },
        "id": "K6OQPFWUElGf",
        "outputId": "80612221-3c93-490d-b0f8-420b281075b2"
      },
      "source": [
        "nombre = input(\"Ingresa tu nombre: \")\n",
        "print(\"tecleaste: \" , nombre)"
      ],
      "execution_count": null,
      "outputs": [
        {
          "output_type": "stream",
          "name": "stdout",
          "text": [
            "Ingresa tu nombre: Gabriel\n",
            "tecleaste:  Gabriel\n"
          ]
        }
      ]
    },
    {
      "cell_type": "markdown",
      "metadata": {
        "id": "q_88zpueE4uc"
      },
      "source": [
        "# ¿Como capturar datos numericos?\n",
        "### Para ello se hace una conversion entre tipos... casting... consiste en llamar al constructor de la clase deseada.\n",
        "\n",
        "#Ejemplo: convertir el string \"2\" en numero\n",
        "num = int(\"2\")"
      ]
    },
    {
      "cell_type": "code",
      "metadata": {
        "colab": {
          "base_uri": "https://localhost:8080/"
        },
        "id": "KP3o4z7tFX8-",
        "outputId": "cf5d6a02-74c4-4356-fa97-a248d5d7839b"
      },
      "source": [
        "entrada = input(\"Dame tu edad: \")\n",
        "edad = int(entrada)\n",
        "edad +=1\n",
        "print(\"Tu edad es: \" , edad)"
      ],
      "execution_count": null,
      "outputs": [
        {
          "output_type": "stream",
          "name": "stdout",
          "text": [
            "Dame tu edad: 18\n",
            "Tu edad es:  19\n"
          ]
        }
      ]
    },
    {
      "cell_type": "code",
      "metadata": {
        "colab": {
          "base_uri": "https://localhost:8080/"
        },
        "id": "31SYhK6nF8RV",
        "outputId": "d2e1177d-0717-4321-bddb-e6b4b9d8becd"
      },
      "source": [
        "edad = int( input(\"Dame tu edad: \"))\n",
        "print(\"Tu edad es: \", edad+1)"
      ],
      "execution_count": null,
      "outputs": [
        {
          "output_type": "stream",
          "name": "stdout",
          "text": [
            "Dame tu edad: 18\n",
            "Tu edad es:  19\n"
          ]
        }
      ]
    },
    {
      "cell_type": "code",
      "metadata": {
        "colab": {
          "base_uri": "https://localhost:8080/"
        },
        "id": "jH0kL__cGbdD",
        "outputId": "0061dd93-cd1c-4259-ce14-d1aba09d064e"
      },
      "source": [
        "estatura = float(input(\"Dame tu estatura: \"))\n",
        "print(\"Tu estatura es: \" , estatura+0.1)"
      ],
      "execution_count": null,
      "outputs": [
        {
          "output_type": "stream",
          "name": "stdout",
          "text": [
            "Dame tu estatura: 1.75\n",
            "Tu estatura es:  1.85\n"
          ]
        }
      ]
    },
    {
      "cell_type": "code",
      "metadata": {
        "colab": {
          "base_uri": "https://localhost:8080/"
        },
        "id": "ikowZpyjGvBc",
        "outputId": "43331495-06ae-4b03-eb3e-7cf19cdc656f"
      },
      "source": [
        "casado = bool(int(input(\"Soltero (0) casado (1)\")))\n",
        "print(\"Casado= \" , casado)"
      ],
      "execution_count": null,
      "outputs": [
        {
          "output_type": "stream",
          "name": "stdout",
          "text": [
            "Soltero (0) casado (1)1\n",
            "Casado=  True\n"
          ]
        }
      ]
    },
    {
      "cell_type": "markdown",
      "metadata": {
        "id": "Y-P3TH9DHJFs"
      },
      "source": [
        "# Tipos de datos estructurados de Python\n",
        "\n",
        "1. Listas\n",
        "2. Tuplas\n",
        "3. Diccionario\n",
        "4. Conjuntos (opcional)"
      ]
    },
    {
      "cell_type": "markdown",
      "metadata": {
        "id": "kqWL4j1THwPA"
      },
      "source": [
        "#Listas\n",
        "\n",
        "- Tipo de dato que agrupa variables o valores\n",
        "- Estructura secuencial (undexados empezando por 0)\n",
        "- Se declara de dos formas\n",
        "  - Usando []\n",
        "  - Usando list()\n",
        "- Puede contener tipos de dato viversos (en otros lenguajes de programacion eso no es posible de forma directa)\n",
        "- Los elementos internos se seleccionan con []\n",
        "- Soporta slicing\n",
        "- SON MUTABLES\n",
        "- Generadores [var for x in range (10)]\n",
        "- Al ser una clase contiene muchos metodos utiles"
      ]
    },
    {
      "cell_type": "code",
      "metadata": {
        "colab": {
          "base_uri": "https://localhost:8080/"
        },
        "id": "VCwz6ikBIgvd",
        "outputId": "113a66f3-5634-4d53-e117-155745277a8c"
      },
      "source": [
        "numeros = [10,5,2,3,1]\n",
        "print(numeros)\n",
        "\n",
        "numeros2 = list()\n",
        "numeros2.append(10)\n",
        "numeros2.append(5)\n",
        "numeros2.append(2)\n",
        "numeros2.append(3)\n",
        "numeros2.append(1)\n",
        "print(numeros2)"
      ],
      "execution_count": null,
      "outputs": [
        {
          "output_type": "stream",
          "name": "stdout",
          "text": [
            "[10, 5, 2, 3, 1]\n",
            "[10, 5, 2, 3, 1]\n"
          ]
        }
      ]
    },
    {
      "cell_type": "code",
      "metadata": {
        "colab": {
          "base_uri": "https://localhost:8080/"
        },
        "id": "UsdQpv7vJCLJ",
        "outputId": "2cf22143-031d-47f3-dc3c-10888aee783d"
      },
      "source": [
        "cosas = [12,2,True,\"jose\",1.57,[\"pera\", \"kiwi\", \"uva\"]]\n",
        "print(cosas)\n",
        "print(cosas[1])\n",
        "print(cosas[4])\n",
        "print(cosas[5])\n",
        "print(cosas[5][1])\n",
        "print(cosas[3][1:3:])\n",
        "cosas[3] = cosas[3].upper()\n",
        "print(cosas) "
      ],
      "execution_count": null,
      "outputs": [
        {
          "output_type": "stream",
          "name": "stdout",
          "text": [
            "[12, 2, True, 'jose', 1.57, ['pera', 'kiwi', 'uva']]\n",
            "2\n",
            "1.57\n",
            "['pera', 'kiwi', 'uva']\n",
            "kiwi\n",
            "os\n",
            "[12, 2, True, 'JOSE', 1.57, ['pera', 'kiwi', 'uva']]\n"
          ]
        }
      ]
    },
    {
      "cell_type": "code",
      "metadata": {
        "colab": {
          "base_uri": "https://localhost:8080/"
        },
        "id": "Rods-kLBL0a3",
        "outputId": "126c732f-da6d-48b9-9c0e-0cbf8673a65e"
      },
      "source": [
        "numeros = [1,2,3,4,5,6,7,8,9,10,11]\n",
        "print(numeros)\n",
        "#slicing\n",
        "print(numeros[3:8])\n",
        "print(numeros[8:10])\n",
        "print(numeros[-3:-1:])\n",
        "print(numeros[::-1])\n",
        "print(numeros[::])"
      ],
      "execution_count": null,
      "outputs": [
        {
          "output_type": "stream",
          "name": "stdout",
          "text": [
            "[1, 2, 3, 4, 5, 6, 7, 8, 9, 10, 11]\n",
            "[4, 5, 6, 7, 8]\n",
            "[9, 10]\n",
            "[9, 10]\n",
            "[11, 10, 9, 8, 7, 6, 5, 4, 3, 2, 1]\n",
            "[1, 2, 3, 4, 5, 6, 7, 8, 9, 10, 11]\n",
            "None\n"
          ]
        }
      ]
    },
    {
      "cell_type": "code",
      "metadata": {
        "colab": {
          "base_uri": "https://localhost:8080/"
        },
        "id": "gJirBnKjPnPF",
        "outputId": "d8ebfada-721d-4d0e-fa64-d2477957007c"
      },
      "source": [
        "numeros = [ x+50 for x in range (1001)]\n",
        "print(numeros)\n"
      ],
      "execution_count": null,
      "outputs": [
        {
          "output_type": "stream",
          "name": "stdout",
          "text": [
            "[50, 51, 52, 53, 54, 55, 56, 57, 58, 59, 60, 61, 62, 63, 64, 65, 66, 67, 68, 69, 70, 71, 72, 73, 74, 75, 76, 77, 78, 79, 80, 81, 82, 83, 84, 85, 86, 87, 88, 89, 90, 91, 92, 93, 94, 95, 96, 97, 98, 99, 100, 101, 102, 103, 104, 105, 106, 107, 108, 109, 110, 111, 112, 113, 114, 115, 116, 117, 118, 119, 120, 121, 122, 123, 124, 125, 126, 127, 128, 129, 130, 131, 132, 133, 134, 135, 136, 137, 138, 139, 140, 141, 142, 143, 144, 145, 146, 147, 148, 149, 150, 151, 152, 153, 154, 155, 156, 157, 158, 159, 160, 161, 162, 163, 164, 165, 166, 167, 168, 169, 170, 171, 172, 173, 174, 175, 176, 177, 178, 179, 180, 181, 182, 183, 184, 185, 186, 187, 188, 189, 190, 191, 192, 193, 194, 195, 196, 197, 198, 199, 200, 201, 202, 203, 204, 205, 206, 207, 208, 209, 210, 211, 212, 213, 214, 215, 216, 217, 218, 219, 220, 221, 222, 223, 224, 225, 226, 227, 228, 229, 230, 231, 232, 233, 234, 235, 236, 237, 238, 239, 240, 241, 242, 243, 244, 245, 246, 247, 248, 249, 250, 251, 252, 253, 254, 255, 256, 257, 258, 259, 260, 261, 262, 263, 264, 265, 266, 267, 268, 269, 270, 271, 272, 273, 274, 275, 276, 277, 278, 279, 280, 281, 282, 283, 284, 285, 286, 287, 288, 289, 290, 291, 292, 293, 294, 295, 296, 297, 298, 299, 300, 301, 302, 303, 304, 305, 306, 307, 308, 309, 310, 311, 312, 313, 314, 315, 316, 317, 318, 319, 320, 321, 322, 323, 324, 325, 326, 327, 328, 329, 330, 331, 332, 333, 334, 335, 336, 337, 338, 339, 340, 341, 342, 343, 344, 345, 346, 347, 348, 349, 350, 351, 352, 353, 354, 355, 356, 357, 358, 359, 360, 361, 362, 363, 364, 365, 366, 367, 368, 369, 370, 371, 372, 373, 374, 375, 376, 377, 378, 379, 380, 381, 382, 383, 384, 385, 386, 387, 388, 389, 390, 391, 392, 393, 394, 395, 396, 397, 398, 399, 400, 401, 402, 403, 404, 405, 406, 407, 408, 409, 410, 411, 412, 413, 414, 415, 416, 417, 418, 419, 420, 421, 422, 423, 424, 425, 426, 427, 428, 429, 430, 431, 432, 433, 434, 435, 436, 437, 438, 439, 440, 441, 442, 443, 444, 445, 446, 447, 448, 449, 450, 451, 452, 453, 454, 455, 456, 457, 458, 459, 460, 461, 462, 463, 464, 465, 466, 467, 468, 469, 470, 471, 472, 473, 474, 475, 476, 477, 478, 479, 480, 481, 482, 483, 484, 485, 486, 487, 488, 489, 490, 491, 492, 493, 494, 495, 496, 497, 498, 499, 500, 501, 502, 503, 504, 505, 506, 507, 508, 509, 510, 511, 512, 513, 514, 515, 516, 517, 518, 519, 520, 521, 522, 523, 524, 525, 526, 527, 528, 529, 530, 531, 532, 533, 534, 535, 536, 537, 538, 539, 540, 541, 542, 543, 544, 545, 546, 547, 548, 549, 550, 551, 552, 553, 554, 555, 556, 557, 558, 559, 560, 561, 562, 563, 564, 565, 566, 567, 568, 569, 570, 571, 572, 573, 574, 575, 576, 577, 578, 579, 580, 581, 582, 583, 584, 585, 586, 587, 588, 589, 590, 591, 592, 593, 594, 595, 596, 597, 598, 599, 600, 601, 602, 603, 604, 605, 606, 607, 608, 609, 610, 611, 612, 613, 614, 615, 616, 617, 618, 619, 620, 621, 622, 623, 624, 625, 626, 627, 628, 629, 630, 631, 632, 633, 634, 635, 636, 637, 638, 639, 640, 641, 642, 643, 644, 645, 646, 647, 648, 649, 650, 651, 652, 653, 654, 655, 656, 657, 658, 659, 660, 661, 662, 663, 664, 665, 666, 667, 668, 669, 670, 671, 672, 673, 674, 675, 676, 677, 678, 679, 680, 681, 682, 683, 684, 685, 686, 687, 688, 689, 690, 691, 692, 693, 694, 695, 696, 697, 698, 699, 700, 701, 702, 703, 704, 705, 706, 707, 708, 709, 710, 711, 712, 713, 714, 715, 716, 717, 718, 719, 720, 721, 722, 723, 724, 725, 726, 727, 728, 729, 730, 731, 732, 733, 734, 735, 736, 737, 738, 739, 740, 741, 742, 743, 744, 745, 746, 747, 748, 749, 750, 751, 752, 753, 754, 755, 756, 757, 758, 759, 760, 761, 762, 763, 764, 765, 766, 767, 768, 769, 770, 771, 772, 773, 774, 775, 776, 777, 778, 779, 780, 781, 782, 783, 784, 785, 786, 787, 788, 789, 790, 791, 792, 793, 794, 795, 796, 797, 798, 799, 800, 801, 802, 803, 804, 805, 806, 807, 808, 809, 810, 811, 812, 813, 814, 815, 816, 817, 818, 819, 820, 821, 822, 823, 824, 825, 826, 827, 828, 829, 830, 831, 832, 833, 834, 835, 836, 837, 838, 839, 840, 841, 842, 843, 844, 845, 846, 847, 848, 849, 850, 851, 852, 853, 854, 855, 856, 857, 858, 859, 860, 861, 862, 863, 864, 865, 866, 867, 868, 869, 870, 871, 872, 873, 874, 875, 876, 877, 878, 879, 880, 881, 882, 883, 884, 885, 886, 887, 888, 889, 890, 891, 892, 893, 894, 895, 896, 897, 898, 899, 900, 901, 902, 903, 904, 905, 906, 907, 908, 909, 910, 911, 912, 913, 914, 915, 916, 917, 918, 919, 920, 921, 922, 923, 924, 925, 926, 927, 928, 929, 930, 931, 932, 933, 934, 935, 936, 937, 938, 939, 940, 941, 942, 943, 944, 945, 946, 947, 948, 949, 950, 951, 952, 953, 954, 955, 956, 957, 958, 959, 960, 961, 962, 963, 964, 965, 966, 967, 968, 969, 970, 971, 972, 973, 974, 975, 976, 977, 978, 979, 980, 981, 982, 983, 984, 985, 986, 987, 988, 989, 990, 991, 992, 993, 994, 995, 996, 997, 998, 999, 1000, 1001, 1002, 1003, 1004, 1005, 1006, 1007, 1008, 1009, 1010, 1011, 1012, 1013, 1014, 1015, 1016, 1017, 1018, 1019, 1020, 1021, 1022, 1023, 1024, 1025, 1026, 1027, 1028, 1029, 1030, 1031, 1032, 1033, 1034, 1035, 1036, 1037, 1038, 1039, 1040, 1041, 1042, 1043, 1044, 1045, 1046, 1047, 1048, 1049, 1050]\n"
          ]
        }
      ]
    },
    {
      "cell_type": "markdown",
      "metadata": {
        "id": "UaBC8_3aQdRd"
      },
      "source": [
        "# Funcion range ()\n",
        "tiene los  mismos componentes de slicing\n",
        "ini, stop, incremento\n",
        "range (1,101,1)"
      ]
    },
    {
      "cell_type": "code",
      "metadata": {
        "colab": {
          "base_uri": "https://localhost:8080/"
        },
        "id": "a3ZnA8WfQtef",
        "outputId": "4d74920e-529a-4e3a-eb62-f2cd9e448b50"
      },
      "source": [
        "numeros = [ x for x in range (50,101)]\n",
        "print(numeros)"
      ],
      "execution_count": null,
      "outputs": [
        {
          "output_type": "stream",
          "name": "stdout",
          "text": [
            "[50, 51, 52, 53, 54, 55, 56, 57, 58, 59, 60, 61, 62, 63, 64, 65, 66, 67, 68, 69, 70, 71, 72, 73, 74, 75, 76, 77, 78, 79, 80, 81, 82, 83, 84, 85, 86, 87, 88, 89, 90, 91, 92, 93, 94, 95, 96, 97, 98, 99, 100]\n"
          ]
        }
      ]
    },
    {
      "cell_type": "markdown",
      "metadata": {
        "id": "gdlR_Yp1RIB1"
      },
      "source": [
        "# metodos disponibles de las listas"
      ]
    },
    {
      "cell_type": "code",
      "metadata": {
        "colab": {
          "base_uri": "https://localhost:8080/"
        },
        "id": "tyHefRPQRMDw",
        "outputId": "f5180f0f-88b0-4b27-957e-40f44339ee83"
      },
      "source": [
        "dir(list)"
      ],
      "execution_count": null,
      "outputs": [
        {
          "output_type": "execute_result",
          "data": {
            "text/plain": [
              "['__add__',\n",
              " '__class__',\n",
              " '__contains__',\n",
              " '__delattr__',\n",
              " '__delitem__',\n",
              " '__dir__',\n",
              " '__doc__',\n",
              " '__eq__',\n",
              " '__format__',\n",
              " '__ge__',\n",
              " '__getattribute__',\n",
              " '__getitem__',\n",
              " '__gt__',\n",
              " '__hash__',\n",
              " '__iadd__',\n",
              " '__imul__',\n",
              " '__init__',\n",
              " '__init_subclass__',\n",
              " '__iter__',\n",
              " '__le__',\n",
              " '__len__',\n",
              " '__lt__',\n",
              " '__mul__',\n",
              " '__ne__',\n",
              " '__new__',\n",
              " '__reduce__',\n",
              " '__reduce_ex__',\n",
              " '__repr__',\n",
              " '__reversed__',\n",
              " '__rmul__',\n",
              " '__setattr__',\n",
              " '__setitem__',\n",
              " '__sizeof__',\n",
              " '__str__',\n",
              " '__subclasshook__',\n",
              " 'append',\n",
              " 'clear',\n",
              " 'copy',\n",
              " 'count',\n",
              " 'extend',\n",
              " 'index',\n",
              " 'insert',\n",
              " 'pop',\n",
              " 'remove',\n",
              " 'reverse',\n",
              " 'sort']"
            ]
          },
          "metadata": {},
          "execution_count": 39
        }
      ]
    },
    {
      "cell_type": "code",
      "metadata": {
        "colab": {
          "base_uri": "https://localhost:8080/"
        },
        "id": "kChF7qNmSeR2",
        "outputId": "aebf238f-7574-47c5-f821-0b500cb78a86"
      },
      "source": [
        "numeros = [4,1,15,8,22,34,50]\n",
        "print(numeros)\n",
        "numeros.append(99)\n",
        "print(numeros)\n",
        "#numeros = []\n",
        "#numeros.clear()\n",
        "print(numeros)\n",
        "\n",
        "frutas = [\"uvas\",\"kiwi\",\"manzana\"]\n",
        "copia = frutas\n",
        "print(frutas)\n",
        "print(copia)\n",
        "frutas.append(\"naranja\")\n",
        "print(frutas)\n",
        "print(copia)\n",
        "\n",
        "\n",
        "colores = [\"rojo\",\"azul\",\"blanco\"]\n",
        "copia2 = colores.copy()\n",
        "print(colores)\n",
        "print(copia2)\n",
        "colores.append(\"verde\")\n",
        "print(colores)\n",
        "print(copia2)\n",
        "\n",
        "print(\"Numero de veces que aparece el 15 = \", numeros.count(15))\n",
        "\n",
        "#extend\n",
        "\n",
        "nombres = [\"jose\", \"pedro\", \"karina\"]\n",
        "otrosNombres = [\"josue\",\"diana\",\"dalia\"]\n",
        "\n",
        "print(nombres)\n",
        "print(otrosNombres)\n",
        "nombres = nombres + otrosNombres\n",
        "print(nombres)\n",
        "print(otrosNombres)\n",
        "\n",
        "\n",
        "otrosNombres.extend([\"Jesus\",\"Maria\",\"Jose\"])\n",
        "print(otrosNombres)\n",
        "print(\"Jesus esta en la posicion: \", otrosNombres.index(\"Jesus\"))\n",
        "otrosNombres.insert(4, \"espiritu santo\")\n",
        "print(otrosNombres)\n",
        "\n",
        "resultado = otrosNombres.pop()\n",
        "print(otrosNombres)\n",
        "print(resultado)"
      ],
      "execution_count": null,
      "outputs": [
        {
          "output_type": "stream",
          "name": "stdout",
          "text": [
            "[4, 1, 15, 8, 22, 34, 50]\n",
            "[4, 1, 15, 8, 22, 34, 50, 99]\n",
            "[4, 1, 15, 8, 22, 34, 50, 99]\n",
            "['uvas', 'kiwi', 'manzana']\n",
            "['uvas', 'kiwi', 'manzana']\n",
            "['uvas', 'kiwi', 'manzana', 'naranja']\n",
            "['uvas', 'kiwi', 'manzana', 'naranja']\n",
            "['rojo', 'azul', 'blanco']\n",
            "['rojo', 'azul', 'blanco']\n",
            "['rojo', 'azul', 'blanco', 'verde']\n",
            "['rojo', 'azul', 'blanco']\n",
            "Numero de veces que aparece el 15 =  1\n",
            "['jose', 'pedro', 'karina']\n",
            "['josue', 'diana', 'dalia']\n",
            "['jose', 'pedro', 'karina', 'josue', 'diana', 'dalia']\n",
            "['josue', 'diana', 'dalia']\n",
            "['josue', 'diana', 'dalia', 'Jesus', 'Maria', 'Jose']\n",
            "Jesus esta en la posicion:  3\n",
            "['josue', 'diana', 'dalia', 'Jesus', 'espiritu santo', 'Maria', 'Jose']\n",
            "['josue', 'diana', 'dalia', 'Jesus', 'espiritu santo', 'Maria']\n",
            "Jose\n"
          ]
        }
      ]
    },
    {
      "cell_type": "markdown",
      "metadata": {
        "id": "lTkXFKYD2cAH"
      },
      "source": [
        "# Tuplas\n",
        "\n",
        "### Caracteristicas de las tuplas\n",
        "- Datos agrupados\n",
        "- Estructura secuencial, indexadaa a partir de 0\n",
        "- pueden tener de 0 a n elementos\n",
        "- NO SON MUTABLES\n",
        "- Son buenas para almacenar informacion de consulta\n",
        "- puede almacenar informacion de diferentes tipos de dato\n",
        "- Pueden estar anidadas\n",
        "- Tienen metodos utiles"
      ]
    },
    {
      "cell_type": "code",
      "metadata": {
        "colab": {
          "base_uri": "https://localhost:8080/"
        },
        "id": "ygjFgjnK2_UQ",
        "outputId": "deb63540-2835-4f54-e6c5-8c77f2fd365e"
      },
      "source": [
        "info = (\"juan123\" , \"dios1234\" , \"123.232.1.12\")\n",
        "print(info)\n",
        "print(info[1])\n",
        "\n",
        "\n",
        "numeros = (1,2,3,4,5,6,7,8,9,10,11,12,13,14,15)\n",
        "print(numeros)\n",
        "print(numeros[5:11])\n",
        "\n",
        "cosas = (info,numeros)\n",
        "print(cosas)\n",
        "print(cosas[1][5:11:1])"
      ],
      "execution_count": null,
      "outputs": [
        {
          "output_type": "stream",
          "name": "stdout",
          "text": [
            "('juan123', 'dios1234', '123.232.1.12')\n",
            "dios1234\n",
            "(1, 2, 3, 4, 5, 6, 7, 8, 9, 10, 11, 12, 13, 14, 15)\n",
            "(6, 7, 8, 9, 10, 11)\n",
            "(('juan123', 'dios1234', '123.232.1.12'), (1, 2, 3, 4, 5, 6, 7, 8, 9, 10, 11, 12, 13, 14, 15))\n",
            "(6, 7, 8, 9, 10, 11)\n"
          ]
        }
      ]
    },
    {
      "cell_type": "markdown",
      "metadata": {
        "id": "6hgitaWC3uS2"
      },
      "source": [
        "# Metodos de Tuplas\n",
        "\n",
        "### Son los mismos de las listas pero los que no involucren mutabilidad"
      ]
    },
    {
      "cell_type": "code",
      "metadata": {
        "colab": {
          "base_uri": "https://localhost:8080/"
        },
        "id": "9Y3Mp1sb38Ws",
        "outputId": "312eebe9-7bd0-496f-87c1-25157e87b30a"
      },
      "source": [
        "dir(tuple)"
      ],
      "execution_count": null,
      "outputs": [
        {
          "output_type": "execute_result",
          "data": {
            "text/plain": [
              "['__add__',\n",
              " '__class__',\n",
              " '__contains__',\n",
              " '__delattr__',\n",
              " '__dir__',\n",
              " '__doc__',\n",
              " '__eq__',\n",
              " '__format__',\n",
              " '__ge__',\n",
              " '__getattribute__',\n",
              " '__getitem__',\n",
              " '__getnewargs__',\n",
              " '__gt__',\n",
              " '__hash__',\n",
              " '__init__',\n",
              " '__init_subclass__',\n",
              " '__iter__',\n",
              " '__le__',\n",
              " '__len__',\n",
              " '__lt__',\n",
              " '__mul__',\n",
              " '__ne__',\n",
              " '__new__',\n",
              " '__reduce__',\n",
              " '__reduce_ex__',\n",
              " '__repr__',\n",
              " '__rmul__',\n",
              " '__setattr__',\n",
              " '__sizeof__',\n",
              " '__str__',\n",
              " '__subclasshook__',\n",
              " 'count',\n",
              " 'index']"
            ]
          },
          "metadata": {},
          "execution_count": 2
        }
      ]
    },
    {
      "cell_type": "markdown",
      "metadata": {
        "id": "aMi5UCkM4CB9"
      },
      "source": [
        "# Diccionario\n",
        "\n",
        "### Caracteristicas de los diccionarios\n",
        "\n",
        "- Agrupan datos pero de forma no lineal\n",
        "- Formado por pares del tipo llave: valor, donde:\n",
        "  - llave es de tipo atring (siempre)\n",
        "  - valor puede ser cualquier tipo de dato, incluyendo los diccionarios\n",
        "- se seleccionan con la llave de la forma: [\"id_llave\"]\n",
        "- son mutables\n",
        "- Son anidables\n",
        "- son equivalentes al tipo de dato JSON del lenguaje JavaScript (JS)\n"
      ]
    },
    {
      "cell_type": "code",
      "metadata": {
        "colab": {
          "base_uri": "https://localhost:8080/"
        },
        "id": "ndykVQap434d",
        "outputId": "a31f2e83-7559-493e-dd13-9c9df3ca8757"
      },
      "source": [
        "alumno = {\"nombre\" : \"jose\"}\n",
        "print( alumno)\n",
        "print( alumno[\"nombre\"])\n",
        "alumno = {\"nombre\":\"Jose\" , \"nc\":\"2129229292\" , \"edad\":18}\n",
        "print(\"Edad del alumno = \" , alumno[\"edad\"])\n",
        "print(alumno[\"nombre\"].upper())\n",
        "\n",
        "alumno2 = dict()\n",
        "alumno2[\"nombre\"] = \"jose\"\n",
        "print(alumno2)\n",
        "alumno2[\"nc\"] = \"2129229292\"\n",
        "alumno2[\"edad\"] = 18\n",
        "print(alumno2)\n",
        "alumno2[\"edad\"] = alumno2[\"edad\"] +1\n",
        "print(alumno2)\n"
      ],
      "execution_count": null,
      "outputs": [
        {
          "output_type": "stream",
          "name": "stdout",
          "text": [
            "{'nombre': 'jose'}\n",
            "jose\n",
            "Edad del alumno =  18\n",
            "JOSE\n",
            "{'nombre': 'jose'}\n",
            "{'nombre': 'jose', 'nc': '2129229292', 'edad': 18}\n",
            "{'nombre': 'jose', 'nc': '2129229292', 'edad': 19}\n"
          ]
        }
      ]
    },
    {
      "cell_type": "code",
      "metadata": {
        "colab": {
          "base_uri": "https://localhost:8080/"
        },
        "id": "7lJLB1TH8NhH",
        "outputId": "79cc0869-8f33-444a-b036-fa21d2ff7f25"
      },
      "source": [
        "cliente = {\"id\":\"CT2121\",\"nombre\":\"Jose Pedroza Rosales\",\"telefono\":\"casa = 554456565 cel = 0445567767\"}\n",
        "print(cliente)\n",
        "cliente = {\"id\":\"CT2121\"\n",
        ",\"nombre\": \n",
        "{\"nombres\": [\"Jose\", \"Eduardo\"],\"paterno\":\"Pedroza\", \"materno\":\"Rosales\"}\n",
        ",\"telefonos\":{\"casa\":\"5566324234\",\"trabajo\":\"554433232\",\"celular\":\"04455234234\"}\n",
        ",\"productos\":{\"ahorro\":{ \"numero_cuenta\":\"7788\",\"ahorro\":\"2500.5\"}\n",
        "            ,\"tarjeta\":[{\"tipo\":\"debito\",\"saldo\":\"10000.5\"},{\"tipo\":\"credito preferente\",\"limite\":\"250000.5\"},{\"tipo\":\"lite\",\"limite\":\"15000.5\"}]}\n",
        "            ,\"direccion\":{\"calle\":\"Av.Central\",\"numero\":\"1245\",\"colonia\":\"Impulsora\",\"delegacion\":\"Neza\",\n",
        "                          \"estado\":{\"clave\":\"15\",\"nombre_corto\":\"EdoMex\",\"nombre\":\"Estado de Mexico\"}}}\n",
        "print(cliente[\"telefonos\"][\"casa\"])\n",
        "print(cliente)\n",
        "print(cliente[\"productos\"][\"ahorro\"][\"ahorro\"])\n",
        "print(cliente[\"productos\"][\"tarjeta\"][2][\"limite\"])\n",
        "print(cliente[\"direccion\"][\"estado\"][\"nombre\"].upper())"
      ],
      "execution_count": null,
      "outputs": [
        {
          "output_type": "stream",
          "name": "stdout",
          "text": [
            "{'id': 'CT2121', 'nombre': 'Jose Pedroza Rosales', 'telefono': 'casa = 554456565 cel = 0445567767'}\n",
            "5566324234\n",
            "{'id': 'CT2121', 'nombre': {'nombres': ['Jose', 'Eduardo'], 'paterno': 'Pedroza', 'materno': 'Rosales'}, 'telefonos': {'casa': '5566324234', 'trabajo': '554433232', 'celular': '04455234234'}, 'productos': {'ahorro': {'numero_cuenta': '7788', 'ahorro': '2500.5'}, 'tarjeta': [{'tipo': 'debito', 'saldo': '10000.5'}, {'tipo': 'credito preferente', 'limite': '250000.5'}, {'tipo': 'lite', 'limite': '15000.5'}]}, 'direccion': {'calle': 'Av.Central', 'numero': '1245', 'colonia': 'Impulsora', 'delegacion': 'Neza', 'estado': {'clave': '15', 'nombre_corto': 'EdoMex', 'nombre': 'Estado de Mexico'}}}\n",
            "2500.5\n",
            "15000.5\n",
            "ESTADO DE MEXICO\n"
          ]
        }
      ]
    }
  ]
}